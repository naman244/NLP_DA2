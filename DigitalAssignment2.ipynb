{
 "cells": [
  {
   "cell_type": "code",
   "execution_count": 1,
   "metadata": {},
   "outputs": [],
   "source": [
    "import nltk, re, pprint\n",
    "from nltk import word_tokenize"
   ]
  },
  {
   "cell_type": "code",
   "execution_count": 2,
   "metadata": {},
   "outputs": [
    {
     "data": {
      "text/plain": [
       "str"
      ]
     },
     "execution_count": 2,
     "metadata": {},
     "output_type": "execute_result"
    }
   ],
   "source": [
    "from urllib import request\n",
    "url = \"http://www.gutenberg.org/files/2554/2554-0.txt\"\n",
    "response = request.urlopen(url)\n",
    "raw = response.read().decode('utf8')\n",
    "type(raw)"
   ]
  },
  {
   "cell_type": "code",
   "execution_count": 3,
   "metadata": {},
   "outputs": [
    {
     "data": {
      "text/plain": [
       "1176812"
      ]
     },
     "execution_count": 3,
     "metadata": {},
     "output_type": "execute_result"
    }
   ],
   "source": [
    "len(raw)"
   ]
  },
  {
   "cell_type": "code",
   "execution_count": 4,
   "metadata": {},
   "outputs": [
    {
     "data": {
      "text/plain": [
       "'\\ufeffThe Project Gutenberg eBook of Crime and Punishment, by Fyodor Dostoevsky\\r'"
      ]
     },
     "execution_count": 4,
     "metadata": {},
     "output_type": "execute_result"
    }
   ],
   "source": [
    "raw[:75]"
   ]
  },
  {
   "cell_type": "code",
   "execution_count": 6,
   "metadata": {},
   "outputs": [
    {
     "name": "stdout",
     "output_type": "stream",
     "text": [
      "{'\\ufeffThe': 1, 'Project': 84, 'Gutenberg': 28, 'eBook': 11, 'of': 3849, 'Crime': 4, 'and': 6279, 'Punishment': 2, ',': 16177, 'by': 555, 'Fyodor': 3, 'Dostoevsky': 12, 'This': 99, 'is': 1388, 'for': 1597, 'the': 7447, 'use': 50, 'anyone': 76, 'anywhere': 7, 'in': 3095, 'United': 16, 'States': 16, 'most': 133, 'other': 204, 'parts': 6, 'world': 40, 'at': 1943, 'no': 505, 'cost': 10, 'with': 1722, 'almost': 210, 'restrictions': 2, 'whatsoever': 3, '.': 8908, 'You': 602, 'may': 206, 'copy': 14, 'it': 2905, 'give': 117, 'away': 263, 'or': 489, 're-use': 2, 'under': 94, 'terms': 29, 'License': 10, 'included': 3, 'this': 622, 'online': 4, 'www.gutenberg.org': 5, 'If': 154, 'you': 3478, 'are': 838, 'not': 1766, 'located': 7, 'will': 532, 'have': 1111, 'to': 5280, 'check': 4, 'laws': 11, 'country': 28, 'where': 155, 'before': 313, 'using': 7, 'Title': 1, ':': 250, 'Author': 1, 'Translator': 1, 'Constance': 2, 'Garnett': 2, 'Release': 1, 'Date': 1, 'March': 1, '[': 8, '#': 1, ']': 8, 'Most': 4, 'recently': 2, 'updated': 1, 'August': 1, 'Language': 1, 'English': 6, 'Character': 1, 'set': 73, 'encoding': 1, 'UTF-8': 1, 'Produced': 1, 'John': 2, 'Bickers': 1, 'Dagny': 1, 'David': 1, 'Widger': 1, '*': 47, 'START': 2, 'OF': 10, 'THE': 6, 'PROJECT': 4, 'GUTENBERG': 3, 'EBOOK': 2, 'CRIME': 4, 'AND': 5, 'PUNISHMENT': 4, 'By': 25, 'Translated': 1, 'TRANSLATOR': 4, '’': 4039, 'S': 3, 'PREFACE': 1, 'A': 182, 'few': 56, 'words': 94, 'about': 530, 'himself': 338, 'help': 83, 'reader': 1, 'understand': 175, 'his': 1998, 'work': 113, 'was': 2803, 'son': 18, 'a': 4469, 'doctor': 39, 'His': 115, 'parents': 4, 'were': 706, 'very': 444, 'hard-working': 1, 'deeply': 9, 'religious': 7, 'people': 164, 'but': 1116, 'so': 795, 'poor': 56, 'that': 3056, 'they': 601, 'lived': 21, 'their': 220, 'five': 48, 'children': 114, 'only': 420, 'two': 230, 'rooms': 39, 'The': 553, 'father': 81, 'mother': 203, 'spent': 23, 'evenings': 6, 'reading': 30, 'aloud': 30, 'generally': 8, 'from': 716, 'books': 17, 'serious': 26, 'character': 35, 'Though': 32, 'always': 136, 'sickly': 7, 'delicate': 7, 'came': 242, 'out': 674, 'third': 34, 'final': 9, 'examination': 3, 'Petersburg': 53, 'school': 11, 'Engineering': 1, 'There': 207, 'he': 3528, 'had': 1573, 'already': 95, 'begun': 30, 'first': 222, '“': 3980, 'Poor': 5, 'Folk.': 1, '”': 3929, 'story': 46, 'published': 2, 'poet': 1, 'Nekrassov': 1, 'review': 1, 'received': 34, 'acclamations': 1, 'shy': 4, 'unknown': 20, 'youth': 8, 'found': 79, 'instantly': 15, 'something': 284, 'celebrity': 1, 'brilliant': 5, 'successful': 4, 'career': 12, 'seemed': 185, 'open': 84, 'him': 1565, 'those': 105, 'hopes': 17, 'soon': 100, 'dashed': 5, 'In': 150, 'arrested': 6, 'neither': 6, 'temperament': 10, 'nor': 28, 'conviction': 23, 'revolutionist': 1, 'one': 579, 'little': 279, 'group': 4, 'young': 112, 'men': 89, 'who': 371, 'met': 48, 'together': 64, 'read': 70, 'Fourier': 2, 'Proudhon': 1, 'He': 1241, 'accused': 5, 'taking': 49, 'part': 59, 'conversations': 4, 'against': 76, 'censorship': 1, 'letter': 63, 'Byelinsky': 1, 'Gogol': 3, 'knowing': 24, 'intention': 4, 'up': 644, 'printing': 2, 'press.': 1, 'Under': 6, 'Nicholas': 1, 'I': 4397, '(': 173, 'stern': 11, 'just': 268, 'man': 470, 'as': 1148, 'Maurice': 1, 'Baring': 1, 'calls': 3, ')': 173, 'enough': 67, 'condemned': 9, 'death': 49, 'After': 23, 'eight': 25, 'months': 33, 'imprisonment': 2, 'twenty-one': 1, 'others': 43, 'taken': 80, 'Semyonovsky': 1, 'Square': 1, 'be': 1125, 'shot': 6, 'Writing': 1, 'brother': 119, 'Mihail': 2, 'says': 32, 'They': 199, 'snapped': 5, 'over': 240, 'our': 143, 'heads': 7, 'made': 231, 'us': 189, 'put': 186, 'on': 1432, 'white': 37, 'shirts': 4, 'worn': 16, 'persons': 19, 'Thereupon': 1, 'we': 341, 'bound': 23, 'threes': 1, 'stakes': 1, 'suffer': 16, 'execution': 2, 'Being': 1, 'row': 4, 'concluded': 10, 'minutes': 54, 'life': 135, 'me': 1042, 'thought': 306, 'your': 638, 'dear': 73, 'ones': 25, 'contrived': 1, 'kiss': 15, 'Plestcheiev': 1, 'Dourov': 1, 'next': 63, 'bid': 1, 'them': 584, 'farewell': 2, 'Suddenly': 31, 'troops': 1, 'beat': 27, 'tattoo': 1, 'unbound': 1, 'brought': 78, 'back': 187, 'upon': 139, 'scaffold': 2, 'informed': 10, 'Majesty': 1, 'spared': 4, 'lives.': 1, 'sentence': 13, 'commuted': 1, 'hard': 22, 'labour': 3, 'One': 59, 'prisoners': 7, 'Grigoryev': 1, 'went': 355, 'mad': 45, 'untied': 2, 'never': 148, 'regained': 4, 'sanity': 1, 'intense': 19, 'suffering': 35, 'experience': 11, 'left': 136, 'lasting': 1, 'stamp': 2, 's': 1747, 'mind': 152, 'temper': 10, 'led': 15, 'end': 77, 'accept': 23, 'every': 120, 'resignation': 1, 'regard': 18, 'blessing': 5, 'own': 172, 'case': 84, 'constantly': 6, 'recurs': 1, 'subject': 34, 'writings': 1, 'describes': 1, 'awful': 32, 'agony': 10, 'insists': 1, 'cruelty': 2, 'inflicting': 1, 'such': 276, 'torture': 15, 'Then': 123, 'followed': 39, 'four': 26, 'years': 94, 'penal': 4, 'servitude': 4, 'company': 17, 'common': 16, 'criminals': 8, 'Siberia': 15, 'began': 265, 'Dead': 1, 'House': 2, 'some': 379, 'service': 34, 'disciplinary': 1, 'battalion': 1, 'shown': 20, 'signs': 13, 'obscure': 2, 'nervous': 23, 'disease': 9, 'arrest': 12, 'now': 479, 'developed': 3, 'into': 404, 'violent': 13, 'attacks': 4, 'epilepsy': 1, 'which': 335, 'suffered': 10, 'rest': 45, 'fits': 3, 'occurred': 12, 'three': 125, 'times': 65, 'year': 36, 'more': 411, 'frequent': 1, 'periods': 1, 'great': 161, 'strain': 3, 'allowed': 8, 'return': 24, 'Russia': 7, 'started': 29, 'journal': 3, '--': 667, 'Vremya': 1, 'forbidden': 3, 'Censorship': 1, 'through': 140, 'misunderstanding': 4, 'lost': 66, 'wife': 51, 'terrible': 47, 'poverty': 16, 'yet': 95, 'took': 167, 'payment': 8, 'debts': 6, 'another': 187, 'Epoch': 1, 'within': 28, 'also': 39, 'prohibited': 1, 'weighed': 4, 'down': 290, 'debt': 13, 'family': 47, 'dependent': 4, 'forced': 18, 'write': 27, 'heart-breaking': 1, 'speed': 1, 'said': 517, 'corrected': 2, 'later': 65, 'much': 183, 'softened': 7, 'tenderness': 1, 'devotion': 4, 'second': 55, 'June': 1, 'famous': 2, 'speech': 10, 'unveiling': 1, 'monument': 1, 'Pushkin': 4, 'Moscow': 7, 'extraordinary': 25, 'demonstrations': 1, 'love': 72, 'honour': 34, 'died': 31, 'grave': 9, 'vast': 9, 'multitude': 1, 'mourners': 1, 'gave': 112, 'hapless': 2, 'funeral': 30, 'king.': 1, 'still': 268, 'probably': 32, 'widely': 1, 'writer': 1, 'Russian': 12, 'critic': 1, 'seeks': 1, 'explain': 35, 'feeling': 76, 'inspired': 3, 'ourselves': 14, 'blood': 59, 'bone': 1, 'has': 382, 'seen': 106, 'than': 182, 'insight': 1, 'impresses': 2, 'wisdom': 3, '...': 1085, 'heart': 130, 'seek': 7, 'learn': 8, 'how': 395, 'live': 60, 'All': 90, 'gifts': 2, 'nature': 28, 'won': 129, 'became': 32, 'great.': 1, 'PART': 6, 'CHAPTER': 39, 'On': 52, 'an': 534, 'exceptionally': 4, 'hot': 13, 'evening': 55, 'early': 7, 'July': 1, 'garret': 10, 'lodged': 5, 'S.': 2, 'Place': 1, 'walked': 102, 'slowly': 33, 'though': 411, 'hesitation': 10, 'towards': 39, 'K.': 1, 'bridge': 22, 'successfully': 2, 'avoided': 8, 'meeting': 29, 'landlady': 70, 'staircase': 32, 'roof': 1, 'high': 24, 'five-storied': 1, 'house': 107, 'like': 450, 'cupboard': 9, 'room': 276, 'provided': 9, 'dinners': 2, 'attendance': 1, 'floor': 36, 'below': 15, 'time': 375, 'obliged': 8, 'pass': 38, 'her': 1768, 'kitchen': 21, 'door': 224, 'invariably': 2, 'stood': 175, 'And': 747, 'each': 58, 'passed': 76, 'sick': 45, 'frightened': 54, 'scowl': 2, 'feel': 67, 'ashamed': 37, 'hopelessly': 9, 'afraid': 89, 'because': 140, 'cowardly': 3, 'abject': 1, 'quite': 167, 'contrary': 24, ';': 1047, 'past': 33, 'been': 576, 'overstrained': 6, 'irritable': 15, 'condition': 21, 'verging': 1, 'hypochondria': 3, 'become': 41, 'completely': 39, 'absorbed': 8, 'isolated': 1, 'fellows': 7, 'dreaded': 6, 'all': 1225, 'crushed': 19, 'anxieties': 3, 'position': 57, 'late': 56, 'ceased': 16, 'weigh': 2, 'given': 56, 'attending': 4, 'matters': 14, 'practical': 9, 'importance': 9, 'desire': 30, 'do': 477, 'Nothing': 22, 'any': 173, 'could': 486, 'real': 32, 'terror': 42, 'But': 683, 'stopped': 50, 'stairs': 77, 'listen': 28, 'trivial': 8, 'irrelevant': 8, 'gossip': 9, 'pestering': 2, 'demands': 3, 'threats': 5, 'complaints': 2, 'rack': 2, 'brains': 6, 'excuses': 3, 'prevaricate': 1, 'lie': 32, 'rather': 82, 'would': 552, 'creep': 2, 'cat': 6, 'slip': 21, 'unseen': 3, 'however': 39, 'coming': 80, 'street': 97, 'acutely': 1, 'aware': 24, 'fears': 1, 'want': 184, 'attempt': 11, 'thing': 137, '_like': 2, 'that_': 1, 'am': 532, 'these': 105, 'trifles': 12, 'odd': 4, 'smile': 85, 'Hm': 18, 'yes': 75, 'hands': 149, 'lets': 2, 'cowardice': 3, 'axiom': 1, 'It': 515, 'interesting': 24, 'know': 522, 'what': 752, 'Taking': 2, 'new': 97, 'step': 35, 'uttering': 12, 'word': 131, 'fear': 27, '....': 682, 'talking': 79, 'too': 488, 'chatter': 8, 'nothing': 258, 'Or': 11, 'perhaps': 161, 've': 287, 'learned': 11, 'last': 272, 'month': 33, 'lying': 67, 'days': 77, 'my': 742, 'den': 4, 'thinking': 78, 'Jack': 1, 'Giant-killer': 1, 'Why': 244, 'going': 179, 'there': 597, '?': 2275, 'Am': 13, 'capable': 20, '_that_': 9, 'Is': 63, 'simply': 131, 'fantasy': 3, 'amuse': 5, 'myself': 156, 'plaything': 1, '!': 2364, 'Yes': 187, 'maybe': 24, 'plaything.': 1, 'heat': 18, 'airlessness': 1, 'bustle': 1, 'plaster': 1, 'scaffolding': 1, 'bricks': 3, 'dust': 14, 'special': 38, 'stench': 6, 'familiar': 17, 'unable': 24, 'get': 190, 'town': 48, 'summer': 12, 'worked': 16, 'painfully': 9, 'overwrought': 2, 'nerves': 13, 'insufferable': 5, 'pot-houses': 2, 'particularly': 39, 'numerous': 6, 'drunken': 31, 'whom': 69, 'continually': 26, 'although': 25, 'working': 17, 'day': 191, 'completed': 2, 'revolting': 8, 'misery': 16, 'picture': 8, 'An': 17, 'expression': 31, 'profoundest': 1, 'disgust': 14, 'gleamed': 5, 'moment': 203, 'refined': 5, 'face': 249, 'way': 251, 'handsome': 9, 'above': 24, 'average': 2, 'height': 5, 'slim': 3, 'well-built': 1, 'beautiful': 7, 'dark': 47, 'eyes': 246, 'brown': 5, 'hair': 46, 'Soon': 3, 'sank': 46, 'deep': 23, 'accurately': 1, 'speaking': 62, 'complete': 28, 'blankness': 2, 'along': 51, 'observing': 3, 'caring': 1, 'observe': 9, 'From': 37, 'mutter': 2, 'habit': 11, 'confessed': 11, 'At': 137, 'moments': 13, 'conscious': 18, 'ideas': 35, 'sometimes': 65, 'tangle': 4, 'weak': 26, 'scarcely': 41, 'tasted': 3, 'food': 14, 'badly': 12, 'dressed': 39, 'even': 311, 'accustomed': 5, 'shabbiness': 1, 'rags': 31, 'quarter': 17, 'shortcoming': 1, 'dress': 32, 'created': 5, 'surprise': 39, 'Owing': 1, 'proximity': 1, 'Hay': 20, 'Market': 20, 'number': 13, 'establishments': 3, 'bad': 33, 'preponderance': 1, 'trading': 1, 'class': 17, 'population': 1, 'crowded': 10, 'streets': 14, 'alleys': 2, 'types': 3, 'various': 12, 'figure': 16, 'queer': 14, 'caused': 12, 'accumulated': 1, 'bitterness': 4, 'contempt': 12, 'spite': 49, 'fastidiousness': 1, 'minded': 1, 'least': 84, 'different': 47, 'matter': 99, 'when': 355, 'acquaintances': 5, 'former': 12, 'fellow': 62, 'students': 6, 'indeed': 131, 'disliked': 5, 'reason': 50, 'being': 100, 'somewhere': 41, 'huge': 14, 'waggon': 4, 'dragged': 7, 'heavy': 19, 'dray': 1, 'horse': 9, 'suddenly': 262, 'shouted': 89, 'drove': 10, 'Hey': 12, 'German': 27, 'hatter': 1, 'bawling': 3, 'top': 19, 'voice': 84, 'pointing': 9, 'clutched': 7, 'tremulously': 1, 'hat': 37, 'tall': 12, 'round': 115, 'Zimmerman': 1, 'rusty': 1, 'age': 10, 'torn': 15, 'bespattered': 1, 'brimless': 1, 'bent': 20, 'side': 78, 'unseemly': 10, 'fashion': 11, 'Not': 47, 'shame': 12, 'akin': 1, 'overtaken': 3, 'knew': 130, 'muttered': 68, 'confusion': 20, 'That': 224, 'worst': 9, 'stupid': 43, 'detail': 15, 'might': 163, 'spoil': 4, 'whole': 119, 'plan': 14, 'noticeable': 8, 'looks': 14, 'absurd': 17, 'makes': 25, 'With': 33, 'ought': 57, 'wear': 10, 'cap': 33, 'sort': 104, 'old': 201, 'pancake': 1, 'grotesque': 5, 'Nobody': 4, 'wears': 2, 'noticed': 68, 'mile': 2, 'off': 204, 'remembered': 46, 'What': 477, 'remember': 101, 'clue': 5, 'For': 82, 'business': 84, 'should': 214, 'conspicuous': 5, 'possible': 56, 'Trifles': 1, 'ruin': 9, 'everything': 154, 'far': 75, 'go': 340, 'many': 73, 'steps': 48, 'gate': 15, 'lodging': 38, 'exactly': 29, 'seven': 34, 'hundred': 44, 'thirty': 18, 'counted': 5, 'once': 340, 'dreams': 18, 'faith': 19, 'tantalising': 1, 'hideous': 15, 'daring': 9, 'recklessness': 1, 'Now': 71, 'look': 166, 'differently': 7, 'monologues': 2, 'jeered': 4, 'impotence': 5, 'indecision': 1, 'involuntarily': 5, 'come': 422, 'dream': 26, 'exploit': 2, 'attempted': 4, 'did': 464, 'realise': 11, 'positively': 35, 'rehearsal': 1, 'project': 6, 'excitement': 19, 'grew': 18, 'sinking': 4, 'tremor': 7, 'looked': 293, 'canal': 21, 'let': 147, 'tiny': 15, 'tenements': 1, 'inhabited': 1, 'kinds': 2, 'tailors': 3, 'locksmiths': 1, 'cooks': 2, 'Germans': 3, 'sorts': 24, 'girls': 7, 'picking': 3, 'living': 43, 'best': 26, 'petty': 4, 'clerks': 11, 'etc': 3, 'continual': 14, 'gates': 6, 'courtyards': 2, 'Three': 4, 'door-keepers': 1, 'employed': 2, 'building': 7, 'glad': 53, 'meet': 31, 'none': 6, 'slipped': 18, 'unnoticed': 3, 'right': 214, 'narrow': 7, 'liked': 22, 'surroundings': 12, 'darkness': 12, 'inquisitive': 2, 'scared': 5, 'if': 451, 'somehow': 29, 'really': 128, 'asking': 32, 'reached': 37, 'fourth': 18, 'storey': 17, 'progress': 6, 'barred': 1, 'porters': 15, 'engaged': 7, 'moving': 27, 'furniture': 13, 'flat': 76, 'occupied': 11, 'clerk': 56, 'civil': 7, 'then': 346, 'untenanted': 1, 'except': 28, 'woman': 200, 'good': 141, 'anyway': 24, 'rang': 14, 'bell': 20, 'faint': 11, 'tinkle': 4, 'tin': 4, 'copper': 9, 'flats': 5, 'houses': 13, 'bells': 3, 'ring': 15, 'forgotten': 34, 'note': 51, 'its': 54, 'peculiar': 23, 'remind': 2, 'bring': 48, 'clearly': 42, 'terribly': 14, 'while': 99, 'opened': 69, 'crack': 12, 'eyed': 1, 'visitor': 32, 'evident': 22, 'distrust': 2, 'glittering': 4, 'seeing': 40, 'landing': 6, 'she': 1249, 'bolder': 1, 'wide': 27, 'stepped': 18, 'entry': 9, 'partitioned': 2, 'facing': 23, 'silence': 63, 'looking': 192, 'inquiringly': 10, 'She': 442, 'diminutive': 1, 'withered': 1, 'sixty': 4, 'sharp': 9, 'malignant': 7, 'nose': 9, 'Her': 56, 'colourless': 2, 'somewhat': 24, 'grizzled': 2, 'thickly': 4, 'smeared': 5, 'oil': 3, 'wore': 20, 'kerchief': 7, 'Round': 1, 'thin': 30, 'long': 177, 'neck': 17, 'hen': 3, 'leg': 8, 'knotted': 1, 'flannel': 1, 'rag': 5, 'hung': 10, 'flapping': 1, 'shoulders': 16, 'mangy': 1, 'fur': 3, 'cape': 4, 'yellow': 27, 'coughed': 2, 'groaned': 2, 'instant': 46, 'must': 301, 'gleam': 6, 'mistrust': 3, 'again': 380, 'Raskolnikov': 782, 'student': 42, 'here': 284, 'ago': 70, 'haste': 49, 'half': 78, 'bow': 13, 'remembering': 11, 'polite': 6, 'sir': 55, 'well': 135, 'distinctly': 13, 'keeping': 29, 'inquiring': 5, 'same': 178, 'errand': 1, 'continued': 23, 'disconcerted': 11, 'surprised': 32, 'Perhaps': 47, 'notice': 47, 'uneasy': 39, 'paused': 13, 'hesitating': 9, 'letting': 5, 'front': 22, 'Step': 1, 'sir.': 3, 'paper': 43, 'walls': 9, 'geraniums': 2, 'muslin': 3, 'curtains': 1, 'windows': 20, 'brightly': 6, 'lighted': 15, 'setting': 15, 'sun': 12, 'So': 105, 'shine': 3, '_then_': 1, 'flashed': 21, 'chance': 24, 'rapid': 11, 'glance': 25, 'scanned': 4, 'trying': 52, 'arrangement': 3, 'wood': 22, 'consisted': 4, 'sofa': 76, 'wooden': 12, 'oval': 1, 'table': 116, 'dressing-table': 1, 'looking-glass': 3, 'fixed': 35, 'between': 48, 'chairs': 10, 'half-penny': 1, 'prints': 1, 'frames': 2, 'representing': 1, 'damsels': 1, 'birds': 3, 'corner': 70, 'light': 56, 'burning': 10, 'small': 25, 'ikon': 4, 'Everything': 12, 'clean': 20, 'polished': 3, 'shone': 7, 'Lizaveta': 58, 'speck': 1, 'spiteful': 6, 'widows': 1, 'finds': 3, 'cleanliness': 2, 'stole': 9, 'curious': 9, 'cotton': 7, 'curtain': 3, 'leading': 18, 'bed': 56, 'chest': 31, 'drawers': 9, 'These': 12, 'severely': 5, 'standing': 89, 'straight': 70, 'pawn': 7, 'drew': 38, 'pocket': 55, 'old-fashioned': 5, 'silver': 18, 'watch': 32, 'engraved': 1, 'globe': 1, 'chain': 6, 'steel': 5, 'pledge': 12, 'yesterday.': 8, 'interest': 36, 'wait': 30, 'little.': 2, 'please': 40, 'sell': 11, 'once.': 2, 'How': 141, 'Alyona': 16, 'Ivanovna': 301, 'worth': 33, 'anything': 145, 'roubles': 95, 'buy': 7, 'jeweler': 1, 'rouble': 20, 'half.': 1, 'Give': 17, 'shall': 184, 'redeem': 3, 'getting': 65, 'money': 166, 'soon.': 2, 'advance': 9, 'cried': 240, 'Please': 15, 'yourself': 121, 'handed': 6, 'angry': 48, 'point': 78, 'checked': 6, 'nowhere': 8, 'else': 49, 'object': 46, 'Hand': 1, 'roughly': 6, 'fumbled': 3, 'keys': 10, 'disappeared': 3, 'behind': 40, 'alone': 89, 'middle': 31, 'listened': 34, 'inquisitively': 8, 'hear': 82, 'unlocking': 1, 'drawer': 3, 'reflected': 13, 'carries': 1, 'bunch': 2, 'key': 16, 'big': 30, 'notches': 2, 'can': 427, 't': 1132, 'strong-box': 1, 'Strong-boxes': 1, 'degrading': 3, 'is.': 4, 'Here': 75, 'say': 291, 'ten': 64, 'copecks': 36, 'take': 176, 'fifteen': 23, 'lent': 4, 'owe': 3, 'twenty': 34, 'reckoning': 16, 'thirty-five': 6, 'altogether': 21, 'Just': 15, 'so.': 5, 'dispute': 7, 'hurry': 31, 'wanted': 94, 'bringing': 14, 'valuable': 6, 'cigarette-box': 1, 'friend': 44, 'broke': 44, 'Well': 182, 'talk': 76, 'Good-bye': 25, 'home': 103, 'sister': 126, 'asked': 187, 'casually': 5, 'passage': 25, 'yours': 18, 'Oh': 146, 'particular': 11, 'quick': 6, 'Good-day': 1, 'Ivanovna.': 3, 'As': 66, 'short': 46, 'struck': 61, 'When': 83, 'God': 112, 'loathsome': 13, 'possibly': 15, 'No': 187, 'nonsense': 66, 'rubbish': 5, 'added': 86, 'resolutely': 12, 'atrocious': 2, 'head': 188, 'filthy': 8, 'things': 109, 'disgusting': 4, 'exclamations': 7, 'express': 9, 'agitation': 7, 'repulsion': 9, 'oppress': 2, 'pitch': 4, 'definite': 11, 'form': 24, 'escape': 33, 'wretchedness': 2, 'pavement': 22, 'regardless': 1, 'passers-by': 7, 'jostling': 1, 'senses': 14, 'Looking': 5, 'close': 38, 'tavern': 35, 'entered': 10, 'basement': 1, 'abusing': 2, 'supporting': 4, 'mounted': 6, 'Without': 6, 'stopping': 12, 'think': 198, 'Till': 6, 'felt': 170, 'giddy': 3, 'tormented': 5, 'thirst': 2, 'longed': 12, 'drink': 53, 'cold': 45, 'beer': 14, 'attributed': 3, 'sudden': 54, 'weakness': 13, 'sat': 106, 'sticky': 4, 'dirty': 24, 'ordered': 8, 'eagerly': 13, 'drank': 10, 'glassful': 2, 'easier': 13, 'thoughts': 19, 'clear': 58, 'hopefully': 2, 'worry': 25, 'physical': 11, 'derangement': 4, 'glass': 31, 'piece': 23, 'dry': 8, 'bread': 15, 'brain': 19, 'stronger': 10, 'clearer': 3, 'firm': 10, 'Phew': 1, 'utterly': 23, 'scornful': 1, 'reflection': 8, 'cheerful': 5, 'free': 31, 'burden': 10, 'gazed': 43, 'friendly': 20, 'dim': 4, 'foreboding': 2, 'happier': 3, 'frame': 3, 'normal': 8, 'Besides': 25, 'consisting': 3, 'girl': 104, 'concertina': 2, 'gone': 80, 'Their': 6, 'departure': 8, 'quiet': 14, 'empty': 29, 'appeared': 24, 'artisan': 2, 'drunk': 74, 'extremely': 17, 'sitting': 56, 'pot': 5, 'companion': 6, 'stout': 8, 'grey': 15, 'beard': 7, 'full-skirted': 1, 'coat': 41, 'dropped': 26, 'asleep': 33, 'bench': 10, 'sleep': 33, 'cracking': 3, 'fingers': 14, 'arms': 36, 'apart': 9, 'upper': 6, 'body': 17, 'bounding': 1, 'hummed': 1, 'meaningless': 2, 'refrain': 3, 'recall': 7, 'lines': 9, 'fondly': 2, 'loved': 21, 'loved.': 1, 'waking': 5, 'Walking': 2, 'used': 68, 'know.': 6, 'shared': 4, 'enjoyment': 7, 'silent': 45, 'positive': 13, 'hostility': 2, 'manifestations': 1, 'retired': 6, 'government': 14, 'sipping': 3, 'II': 8, 'crowds': 5, 'society': 26, 'especially': 58, 'Something': 8, 'place': 112, 'weary': 5, 'after': 203, 'concentrated': 4, 'gloomy': 25, 'whatever': 16, 'filthiness': 2, 'stay': 26, 'master': 2, 'establishment': 2, 'frequently': 3, 'main': 3, 'jaunty': 4, 'tarred': 1, 'boots': 17, 'red': 30, 'turn-over': 1, 'tops': 1, 'view': 21, 'person': 50, 'full': 63, 'horribly': 4, 'greasy': 5, 'black': 29, 'satin': 2, 'waistcoat': 11, 'cravat': 2, 'iron': 6, 'lock': 16, 'counter': 4, 'boy': 35, 'fourteen': 6, 'younger': 16, 'lay': 64, 'sliced': 1, 'cucumber': 2, 'pieces': 6, 'dried': 1, 'fish': 2, 'chopped': 1, 'smelling': 2, 'insufferably': 1, 'fumes': 3, 'spirits': 4, 'atmosphere': 5, 'make': 195, 'meetings': 3, 'strangers': 4, 'spoken': 21, 'Such': 10, 'impression': 21, 'distance': 15, 'often': 41, 'recalled': 15, 'afterwards': 48, 'ascribed': 4, 'presentiment': 5, 'repeatedly': 1, 'partly': 17, 'doubt': 50, 'latter': 35, 'staring': 18, 'persistently': 6, 'obviously': 27, 'anxious': 30, 'enter': 14, 'conversation': 55, 'including': 11, 'tavern-keeper': 3, 'showing': 10, 'shade': 6, 'condescending': 3, 'station': 24, 'culture': 3, 'inferior': 3, 'useless': 13, 'converse': 1, 'fifty': 14, 'bald': 1, 'medium': 7, 'stoutly': 1, 'built': 4, 'bloated': 1, 'drinking': 28, 'greenish': 1, 'tinge': 2, 'swollen': 5, 'eyelids': 2, 'keen': 6, 'reddish': 2, 'chinks': 1, 'strange': 119, 'intelligence': 8, 'madness': 3, 'wearing': 19, 'ragged': 14, 'buttons': 1, 'missing': 3, 'buttoned': 1, 'evidently': 18, 'clinging': 3, 'trace': 11, 'respectability': 2, 'crumpled': 2, 'shirt': 13, 'covered': 26, 'spots': 3, 'stains': 7, 'protruded': 1, 'canvas': 1, 'Like': 2, 'moustache': 2, 'unshaven': 3, 'chin': 10, 'stiff': 2, 'greyish': 1, 'brush': 3, 'respectable': 12, 'official': 20, 'manner': 13, 'restless': 2, 'ruffled': 1, 'drop': 16, 'dejectedly': 3, 'resting': 5, 'elbows': 10, 'stained': 3, 'loudly': 13, 'May': 3, 'venture': 15, 'honoured': 15, 'engage': 2, 'Forasmuch': 1, 'exterior': 1, 'command': 4, 'respect': 29, 'admonishes': 1, 'education': 22, 'respected': 9, 'conjunction': 1, 'genuine': 11, 'sentiments': 2, 'besides': 35, 'titular': 2, 'counsellor': 4, 'rank': 7, 'Marmeladov': 41, 'name': 48, 'bold': 5, 'inquire': 4, 'studying': 7, 'answered': 112, 'grandiloquent': 1, 'style': 6, 'speaker': 6, 'directly': 27, 'addressed': 15, 'momentary': 3, 'actually': 18, 'immediately': 29, 'habitual': 3, 'aversion': 6, 'stranger': 17, 'approached': 8, 'approach': 4, 'formerly': 5, 'm': 65, 'immense': 7, 'tapped': 3, 'forehead': 11, 'self-approval': 1, 'attended': 1, 'institution': 3, 'allow': 29, 'got': 151, 'staggered': 2, 'jug': 3, 'beside': 48, 'sideways': 2, 'spoke': 33, 'fluently': 1, 'boldly': 4, 'occasionally': 2, 'losing': 9, 'thread': 8, 'sentences': 1, 'drawling': 1, 'pounced': 6, 'greedily': 4, 'soul': 31, 'Honoured': 5, 'solemnity': 2, 'vice': 15, 'true': 52, 'saying': 50, 'Yet': 16, 'drunkenness': 1, 'virtue': 5, 'truer': 1, 'beggary': 6, 'retain': 3, 'innate': 1, 'nobility': 2, 'chased': 2, 'human': 14, 'stick': 2, 'swept': 1, 'broom': 2, 'humiliating': 6, 'forasmuch': 1, 'ready': 51, 'humiliate': 1, 'Hence': 2, 'pot-house': 1, 'Mr.': 84, 'Lebeziatnikov': 76, 'beating': 27, 'Do': 114, 'Allow': 13, 'ask': 94, 'question': 122, 'simple': 14, 'curiosity': 17, 'ever': 65, 'night': 91, 'hay': 6, 'barge': 2, 'Neva': 15, 'happened': 65, 'mean': 89, 'fifth': 6, 'slept': 10, 'filled': 17, 'emptied': 2, 'Bits': 1, 'fact': 98, 'clothes': 46, 'sticking': 2, 'probable': 3, 'undressed': 4, 'washed': 10, 'fat': 15, 'nails': 6, 'excite': 4, 'general': 24, 'languid': 1, 'boys': 6, 'fell': 51, 'sniggering': 3, 'innkeeper': 4, 'apparently': 28, 'purpose': 34, 'funny': 6, 'yawning': 2, 'lazily': 4, 'dignity': 21, 'Evidently': 2, 'likely': 27, 'acquired': 2, 'high-flown': 2, 'speeches': 2, 'entering': 6, 'develops': 1, 'necessity': 5, 'drunkards': 2, 'sharply': 14, 'kept': 67, 'order': 29, 'drinkers': 1, 'try': 26, 'justify': 5, 'themselves': 26, 'obtain': 7, 'consideration': 13, 'Funny': 1, 'pronounced': 10, 'why': 201, 'don': 375, 'aren': 8, 'duty': 21, 'addressing': 34, 'exclusively': 4, 'Does': 7, 'ache': 2, 'worm': 1, 'didn': 88, 'Excuse': 24, 'hm': 13, 'petition': 1, 'loan': 1, 'Hopelessly': 1, 'fullest': 1, 'sense': 25, 'beforehand': 21, 'instance': 40, 'certainty': 4, 'reputable': 1, 'exemplary': 1, 'citizen': 7, 'knows': 50, 'course': 168, 'shan': 10, 'pay': 38, 'compassion': 9, 'keeps': 10, 'modern': 6, 'explained': 26, 'nowadays': 9, 'science': 6, 'itself': 15, 'done': 86, 'England': 1, 'political': 5, 'economy': 2, 'Since': 8, 'absolutely': 17, 'daughter': 48, 'ticket': 4, 'passport': 4, 'parenthesis': 2, 'certain': 74, 'uneasiness': 17, 'hurriedly': 31, 'apparent': 9, 'composure': 3, 'both': 81, 'guffawed': 1, 'smiled': 35, 'confounded': 3, 'wagging': 1, 'everyone': 59, 'secret': 26, 'humility': 1, '‘': 275, 'Behold': 1, 'strongly': 3, '_can_': 1, '_dare_': 2, 'assert': 1, 'pig': 7, 'answer': 54, 'orator': 2, 'stolidly': 1, 'increased': 5, 'waiting': 52, 'laughter': 37, 'subside': 2, 'lady': 36, 'semblance': 2, 'beast': 8, 'Katerina': 216, 'spouse': 1, 'officer': 20, 'Granted': 3, 'granted': 5, 'scoundrel': 13, 'noble': 9, 'oh': 12, 'magnanimous': 2, 'unjust': 2, 'pulls': 2, 'does': 97, 'pity': 18, 'repeat': 11, 'without': 222, 'declared': 23, 'redoubled': 6, 'hearing': 13, 'vain': 4, 'wish': 13, 'fate': 15, 'Rather': 2, 'assented': 5, 'fist': 13, 'sold': 9, 'stockings': 6, 'shoes': 10, 'less': 25, 'mohair': 1, 'shawl': 13, 'present': 58, 'property': 15, 'mine': 20, 'caught': 34, 'winter': 6, 'coughing': 8, 'spitting': 2, 'We': 120, 'morning': 59, 'till': 67, 'scrubbing': 1, 'cleaning': 2, 'washing': 12, 'child': 55, 'tendency': 4, 'consumption': 11, 'suppose': 35, 'find': 95, 'sympathy': 11, 'twice': 26, 'despair': 39, 'laid': 31, 'Young': 1, 'raising': 15, 'seem': 39, 'trouble': 33, 'unfolding': 1, 'laughing-stock': 2, 'idle': 2, 'listeners': 3, 'Know': 2, 'educated': 8, 'high-class': 2, 'daughters': 5, 'noblemen': 1, 'leaving': 23, 'danced': 7, 'dance': 12, 'governor': 7, 'personages': 4, 'presented': 6, 'gold': 16, 'medal': 3, 'certificate': 7, 'merit': 4, 'trunk': 6, 'showed': 33, 'tell': 216, 'someone': 59, 'honours': 1, 'happy': 29, 'condemn': 2, 'blame': 27, 'recollection': 6, 'ashes': 3, 'spirit': 9, 'proud': 21, 'determined': 8, 'scrubs': 1, 'floors': 4, 'herself': 123, 'eat': 15, 'treated': 10, 'disrespect': 3, 'overlook': 3, 'rudeness': 5, 'hurt': 5, 'feelings': 25, 'blows': 12, 'widow': 13, 'married': 23, 'smaller': 2, 'husband': 42, 'infantry': 1, 'ran': 85, 'exceedingly': 18, 'fond': 22, 'cards': 6, 'paid': 24, 'authentic': 1, 'documentary': 1, 'evidence': 37, 'speaks': 3, 'tears': 48, 'throws': 2, 'imagination': 7, 'having': 56, 'wild': 10, 'remote': 3, 'district': 11, 'hopeless': 7, 'ups': 1, 'downs': 1, 'equal': 10, 'describing': 5, 'relations': 7, 'thrown': 15, 'excessively': 2, 'widower': 2, 'offered': 12, 'hand': 161, 'bear': 30, 'sight': 31, 'judge': 19, 'extremity': 1, 'calamities': 2, 'distinguished': 4, 'consented': 4, 'Weeping': 2, 'sobbing': 4, 'wringing': 7, 'turn': 46, 'means': 53, 'performed': 3, 'duties': 7, 'conscientiously': 1, 'faithfully': 1, 'touch': 12, 'finger': 17, 'fault': 11, 'changes': 2, 'office': 46, 'since': 64, 'wanderings': 2, 'magnificent': 5, 'capital': 22, 'adorned': 1, 'innumerable': 4, 'monuments': 1, 'obtained': 6, 'situation': 6, 'Amalia': 68, 'Fyodorovna': 3, 'Lippevechsel': 8, 'rent': 4, 'lot': 20, 'Dirt': 1, 'disorder': 3, 'perfect': 17, 'Bedlam': 1, 'meanwhile': 10, 'grown': 11, 'step-mother': 2, 'whilst': 2, 'growing': 15, 'speak': 111, 'generous': 14, 'spirited': 3, 'short-tempered': 1, 'Sonia': 399, 'fancy': 47, 'effort': 24, 'geography': 1, 'universal': 3, 'history': 6, 'subjects': 4, 'suitable': 5, 'instruction': 1, 'Cyrus': 1, 'Persia': 1, 'attained': 1, 'maturity': 1, 'romantic': 4, 'book': 19, 'Lewes': 1, 'Physiology': 1, 'recounted': 1, 'extracts': 1, 'address': 23, 'account': 40, 'private': 6, 'earn': 8, 'honest': 14, 'farthings': 3, 'talent': 4, 'putting': 26, 'Ivan': 5, 'Ivanitch': 2, 'Klopstock': 1, 'heard': 158, 'half-dozen': 1, 'linen': 23, 'stamping': 1, 'reviling': 1, 'pretext': 4, 'collars': 4, 'pattern': 2, 'askew': 1, 'hungry': 9, 'walking': 29, 'cheeks': 13, 'flushed': 18, 'warm': 21, 'help.': 2, 'gets': 13, 'crust': 6, 'gentle': 7, 'creature': 22, 'soft': 9, 'fair': 6, 'pale': 71, 'Darya': 4, 'Frantsovna': 3, 'evil': 8, 'known': 31, 'police': 67, 'tried': 57, 'jeer': 5, 'mighty': 1, 'precious': 11, 'careful': 13, 'driven': 8, 'distraction': 3, 'illness': 42, 'crying': 31, 'wound': 4, 'cry': 27, 'hunger': 3, 'falls': 1, 'six': 35, 'o': 42, 'clock': 49, 'saw': 153, 'nine': 12, 'utter': 13, 'picked': 19, 'green': 16, '_drap': 3, 'de': 12, 'dames_': 3, 'wall': 45, 'shuddering': 4, 'knees': 22, 'kissing': 14, 'feet': 27, 'drunk.': 1, 'failed': 13, 'cleared': 8, 'throat': 12, 'brief': 13, 'pause': 17, 'owing': 10, 'unfortunate': 15, 'occurrence': 1, 'information': 11, 'evil-intentioned': 1, 'Sofya': 76, 'Semyonovna': 71, 'backed': 1, 'making': 52, 'highly': 7, 'comes': 18, 'mostly': 1, 'comforts': 2, 'gives': 3, 'Kapernaumovs': 5, 'lodges': 2, 'Kapernaumov': 10, 'lame': 4, 'cleft': 4, 'palate': 2, 'palates': 2, 'lifted': 17, 'heaven': 6, 'excellency': 9, 'Afanasyvitch': 2, 'wax': 4, 'Lord': 16, 'melteth': 1, 'deceived': 8, 'expectations': 1, 'll': 274, 'responsibility': 1, 'go.': 7, 'kissed': 19, 'reality': 7, 'statesman': 2, 'enlightened': 1, 'returned': 21, 'announced': 4, 'd': 102, 'receive': 13, 'salary': 7, 'heavens': 29, 'to-do': 2, 'party': 14, 'revellers': 1, 'sounds': 14, 'hired': 1, 'cracked': 4, 'piping': 1, 'singing': 20, 'Hamlet': 1, 'noise': 11, 'busy': 16, 'new-comers': 2, 'paying': 10, 'attention': 34, 'arrivals': 1, 'talkative': 4, 'recent': 12, 'success': 6, 'revive': 1, 'radiance': 1, 'attentively': 20, 'weeks': 7, 'mercy': 9, 'kingdom': 3, 'Heaven': 2, 'abuse': 10, 'tiptoe': 7, 'hushing': 1, 'Semyon': 12, 'Zaharovitch': 10, 'tired': 17, 'shh': 1, 'coffee': 8, 'boiled': 3, 'cream': 2, 'managed': 12, 'decent': 5, 'outfit': 1, 'eleven': 10, 'guess': 11, 'Boots': 1, 'shirt-fronts': 1, 'uniform': 6, 'splendid': 11, 'cooked': 1, 'courses': 1, 'dinner': 36, 'soup': 18, 'salt': 4, 'meat': 4, 'radish': 2, 'dreamed': 4, 'dresses': 3, 'visit': 34, 'smartened': 1, 'nicely': 4, 'collar': 2, 'cuffs': 3, 'better': 137, 'darling': 9, 'helped': 8, 'see': 370, 'see.': 3, 'nap': 1, 'quarrelled': 9, 'degree': 5, 'week': 20, 'resist': 7, 'hours': 17, 'whispering': 8, 'receiving': 6, 'everybody': 6, 'study.': 1, 'To': 68, 'sure': 62, 'services': 4, 'propensity': 2, 'foolish': 12, 'promise': 12, 'moreover': 9, 'rely': 2, 'gentleman.': 1, 'wantonness': 1, 'sake': 36, 'bragging': 2, 'believes': 2, 'amuses': 1, 'fancies': 9, 'Six': 3, 'earnings': 3, 'twenty-three': 2, 'forty': 11, 'called': 42, 'poppet': 3, 'poppet.': 1, 'beauty': 7, 'pinched': 2, 'cheek': 5, 'she.': 1, 'twitch': 1, 'controlled': 6, 'degraded': 1, 'appearance': 28, 'nights': 5, 'poignant': 6, 'bewildered': 11, 'listener': 3, 'intently': 39, 'sensation': 28, 'vexed': 13, 'recovering': 4, 'seems': 32, 'laughing': 61, 'worrying': 11, 'stupidity': 8, 'details': 14, 'heavenly': 1, 'fleeting': 1, 'arrange': 6, 'rescue': 1, 'dishonour': 2, 'restore': 6, 'bosom': 8, 'deal': 55, 'Quite': 19, 'excusable': 1, 'start': 14, 'raised': 33, 'cunning': 15, 'trick': 2, 'thief': 9, 'box': 20, 'employment': 1, 'Egyptian': 3, 'exchanged': 4, 'garments': 2, 'clenched': 2, 'teeth': 10, 'closed': 20, 'leaned': 11, 'heavily': 10, 'elbow': 8, 'minute': 113, 'changed': 25, 'assumed': 5, 'slyness': 3, 'affectation': 2, 'bravado': 1, 'glanced': 14, 'laughed': 48, 'pick-me-up': 1, 'He-he-he': 11, 'guffaw': 5, 'quart': 1, 'bought': 10, 'Thirty': 3, 'earth': 23, 'yonder': 2, 'grieve': 1, 'weep': 7, 'hurts': 3, 'needs': 5, 'eh': 25, 'keep': 78, 'costs': 6, 'smartness': 8, 'pomatum': 3, 'petticoats': 1, 'starched': 1, 'show': 52, 'foot': 15, 'puddle': 2, 'Come': 54, 'Are': 30, 'sorry': 27, 'Tell': 22, 'pitied': 5, 'near': 32, 'Shouts': 1, 'oaths': 3, 'listening': 33, 'discharged': 3, 'declaimed': 1, 'arm': 22, 'outstretched': 1, 'crucified': 3, 'cross': 16, 'Crucify': 1, 'crucify': 1, 'merry-making': 1, 'tribulation': 3, 'pint': 2, 'sweet': 2, 'sought': 4, 'bottom': 10, 'Who': 37, 'understood': 30, 'Where': 55, 'consumptive': 8, 'drunkard': 8, 'earthly': 2, 'undismayed': 1, 'beastliness': 1, 'forgiven': 9, 'thee': 4, 'Thy': 4, 'sins': 3, 'thou': 4, 'hast': 5, 'forgive': 25, 'wise': 4, 'meek': 3, 'summon': 2, 'forth': 15, 'ye': 9, 'stand': 32, 'unto': 12, 'Ye': 1, 'swine': 1, 'Image': 1, 'Beast': 1, 'mark': 4, 'understanding': 14, 'dost': 1, 'Thou': 8, 'believed': 14, 'worthy': 6, 'this.': 4, 'hold': 38, 'fall': 19, 'exhausted': 13, 'helpless': 7, 'oblivious': 2, 'plunged': 4, 'notion': 9, 'Talked': 2, 'silly': 12, 'fine': 15, 'Let': 57, 'Kozel': 5, 'yard': 25, 'did.': 1, 'wanting': 5, 'meant': 37, 'unsteadier': 1, 'legs': 20, 'paces': 29, 'overcome': 14, 'dismay': 14, 'nearer': 6, 'begin': 48, 'pulling': 9, 'Bother': 3, 'Indeed': 5, 'frightens': 4, 'breathing': 9, 'Have': 44, 'breathe': 7, 'excited': 24, 'pain': 5, 'strike': 10, 'relieves': 1, 'cabinet-maker': 1, 'well-to-do': 2, 'Lead': 2, 'darker': 3, 'nearly': 27, 'grimy': 2, 'ajar': 2, 'poor-looking': 1, 'candle-end': 4, 'visible': 1, 'entrance': 24, 'littered': 1, 'Across': 1, 'furthest': 7, 'stretched': 6, 'sheet': 6, 'Behind': 5, 'American': 2, 'leather': 10, 'holes': 3, 'kitchen-table': 1, 'unpainted': 1, 'uncovered': 1, 'edge': 10, 'smoldering': 1, 'tallow-candle': 1, 'candlestick': 4, 'practically': 5, 'cupboards': 1, 'divided': 5, 'shouting': 22, 'uproar': 6, 'People': 7, 'playing': 10, 'tea': 52, 'Words': 1, 'unceremonious': 1, 'kind': 37, 'flew': 22, 'recognised': 18, 'graceful': 2, 'emaciated': 2, 'hectic': 3, 'flush': 9, 'pacing': 2, 'pressing': 12, 'lips': 56, 'parched': 5, 'broken': 35, 'gasps': 1, 'glittered': 4, 'fever': 26, 'harsh': 4, 'immovable': 5, 'stare': 7, 'flickering': 2, 'sickening': 3, 'certainly': 68, 'window': 69, 'rose': 22, 'inner': 10, 'clouds': 3, 'tobacco': 5, 'smoke': 5, 'floated': 11, 'youngest': 3, 'curled': 4, 'older': 6, 'shaking': 34, 'Beside': 1, 'chemise': 2, 'ancient': 3, 'cashmere': 1, 'pelisse': 1, 'flung': 31, 'bare': 9, 'outgrown': 1, 'barely': 1, 'reaching': 11, 'comfort': 22, 'doing': 76, 'whimpering': 2, 'large': 19, 'larger': 2, 'thinness': 1, 'watching': 21, 'alarm': 23, 'doorway': 30, 'pushing': 7, 'indifferently': 3, 'wondering': 12, 'decided': 36, 'hers': 6, 'further': 30, 'outer': 5, 'uttered': 17, 'scream': 10, 'Ah': 87, 'frenzy': 25, 'criminal': 24, 'monster': 8, 'Speak': 6, 'searching': 6, 'submissively': 1, 'obediently': 1, 'held': 44, 'facilitate': 1, 'search': 14, 'farthing': 7, 'Mercy': 7, 'twelve': 5, 'fury': 22, 'seized': 18, 'seconded': 1, 'efforts': 14, 'meekly': 2, 'crawling': 1, 'consolation': 5, 'con-so-la-tion': 1, 'ho-nou-red': 1, 'shaken': 4, 'fro': 10, 'striking': 3, 'ground': 26, 'woke': 13, 'control': 13, 'trembling': 38, 'screaming': 6, 'rushed': 49, 'fit': 21, 'eldest': 3, 'leaf': 4, 'screamed': 10, 'pointed': 17, 'accursed': 5, 'Go': 20, 'hastening': 3, 'faces': 17, 'peering': 1, 'Coarse': 1, 'pipes': 2, 'cigarettes': 3, 'caps': 3, 'thrust': 11, 'Further': 1, 'figures': 3, 'dressing': 3, 'gowns': 1, 'costumes': 1, 'scantiness': 1, 'diverted': 2, 'sinister': 5, 'shrill': 2, 'outcry': 3, 'amongst': 4, 'hundredth': 3, 'frighten': 8, 'ordering': 1, 'coarse': 9, 'snatch': 3, 'coppers': 5, 'exchange': 4, 'Afterwards': 9, 'myself.': 3, 'reflecting': 9, 'impossible': 19, 'dismissed': 2, 'wave': 5, 'wants': 22, 'malignantly': 3, 'bankrupt': 1, 'to-day': 79, 'risk': 8, 'hunting': 2, 'game': 7, 'digging': 1, 'to-morrow': 44, 'Hurrah': 2, 'dug': 1, 're': 64, 'wept': 13, 'Man': 4, 'grows': 1, 'wrong': 42, 'race': 3, 'mankind': 8, 'prejudice': 3, 'artificial': 2, 'terrors': 2, 'barriers': 2, 'be.': 3, 'III': 7, 'waked': 13, 'refreshed': 1, 'bilious': 1, 'ill-tempered': 1, 'hatred': 15, 'length': 4, 'poverty-stricken': 4, 'dusty': 5, 'peeling': 1, 'low-pitched': 4, 'ill': 60, 'ease': 6, 'knock': 4, 'ceiling': 5, 'rickety': 1, 'painted': 6, 'manuscripts': 1, 'thick': 19, 'untouched': 3, 'clumsy': 6, 'space': 7, 'chintz': 1, 'served': 8, 'Often': 1, 'undressing': 5, 'sheets': 5, 'wrapped': 16, 'overcoat': 11, 'pillow': 23, 'heaped': 1, 'bolster': 1, 'difficult': 23, 'sink': 10, 'lower': 10, 'ebb': 1, 'state': 27, 'agreeable': 9, 'tortoise': 1, 'shell': 2, 'servant': 11, 'writhe': 1, 'irritation': 8, 'overtakes': 1, 'monomaniacs': 2, 'entirely': 16, 'fortnight': 7, 'sending': 6, 'meals': 1, 'expostulating': 1, 'Nastasya': 88, 'cook': 5, 'pleased': 17, 'lodger': 2, 'mood': 9, 'sweeping': 2, 'stray': 1, 'Get': 17, 'cup': 9, 'fairly': 16, 'starving': 5, 'teapot': 1, 'stale': 3, 'lumps': 1, 'sugar': 3, 'fumbling': 2, 'handful': 1, 'run': 59, 'loaf': 3, 'sausage': 3, 'cheapest': 2, 'pork-butcher': 1, 's.': 2, 'fetch': 6, 'wouldn': 37, 'cabbage': 2, 'instead': 17, 'yesterday': 122, 'saved': 13, 'soup.': 1, 'chatting': 1, 'peasant-woman': 1, 'Praskovya': 9, 'Pavlovna': 9, 'complain': 3, 'scowled': 3, 'sure.': 2, 'devil': 18, 'straw': 7, 'grinding': 6, 'suit': 8, 'fool': 38, 'to-day.': 1, 'Fool': 4, 'mistake': 24, 'clever': 18, 'sack': 2, 'teach': 5, 'sullenly': 2, 'reluctantly': 7, 'Work': 1, 'seriously': 19, 'amused': 3, 'inaudibly': 1, 'quivering': 12, 'ill.': 9, 'articulate': 2, 'lessons': 17, 'it.': 41, 'Don': 89, 'quarrel': 6, 'butter.': 1, 'replying': 2, 'fortune': 12, 'strangely': 22, 'firmly': 20, 'Shall': 12, 'please.': 2, 'forgot': 16, 'out.': 5, 'postman': 1, 'Will': 19, 'greatly': 18, 'province': 7, 'R': 1, 'turned': 175, 'stabbed': 5, 'leave': 59, 'goodness': 18, 'presence': 23, '_alone_': 1, 'quickly': 47, 'sloping': 2, 'handwriting': 4, 'taught': 6, 'delayed': 2, 'weighing': 12, 'ounces': 1, 'My': 48, 'Rodya': 125, 'wrote': 20, 'distressed': 12, 'awake': 8, 'inevitable': 10, 'Dounia': 321, 'hope': 34, 'grief': 9, 'university': 18, 'pension': 15, 'sent': 52, 'borrowed': 1, 'security': 4, 'Vassily': 1, 'Ivanovitch': 18, 'Vahrushin': 7, 'merchant': 3, 'kind-hearted': 3, 'send': 27, 'thank': 14, 'believe': 157, 'able': 45, 'congratulate': 2, 'hasten': 2, 'inform': 7, 'guessed': 11, 'separated': 2, 'future': 46, 'Thank': 12, 'sufferings': 4, 'hitherto': 6, 'concealed': 6, 'Svidrigaïlovs': 4, 'written': 19, 'truth': 42, 'dare': 41, 'walk': 27, 'insulted': 11, 'governess': 6, 'deducted': 1, 'throw': 23, 'repaying': 1, 'sum': 11, 'chiefly': 5, 'needed': 12, 'writing': 12, 'savings': 2, 'loves': 12, 'Svidrigaïlov': 205, 'rudely': 6, 'disrespectful': 1, 'jeering': 5, 'remarks': 6, 'painful': 14, 'behaviour': 9, 'Marfa': 78, 'Petrovna': 77, 'household': 2, 'relapsing': 1, 'regimental': 1, 'habits': 6, 'influence': 14, 'Bacchus': 1, 'Would': 20, 'crazy': 11, 'conceived': 3, 'passion': 9, 'beginning': 38, 'Possibly': 3, 'horrified': 2, 'flighty': 1, 'considering': 6, 'hoped': 6, 'rude': 9, 'sneering': 3, 'hide': 13, 'shameful': 11, 'proposal': 1, 'promising': 1, 'inducements': 1, 'offering': 2, 'estate': 3, 'abroad': 8, 'imagine': 27, 'spare': 8, 'whose': 19, 'suspicions': 13, 'aroused': 5, 'cause': 27, 'rupture': 7, 'scandal': 14, 'reasons': 10, 'strong': 23, 'endure': 9, 'cases': 18, 'fortitude': 1, 'maintain': 6, 'firmness': 1, 'upsetting': 4, 'communication': 2, 'ended': 13, 'unexpectedly': 8, 'accidentally': 5, 'overheard': 2, 'imploring': 3, 'garden': 20, 'interpretation': 2, 'threw': 20, 'believing': 6, 'scene': 20, 'spot': 19, 'refused': 6, 'hour': 65, 'orders': 6, 'packed': 2, 'plain': 11, 'peasant': 20, 'cart': 18, 'pell-mell': 1, 'folding': 1, 'packing': 2, 'shower': 3, 'rain': 16, 'drive': 19, 'seventeen': 3, 'versts': 4, 'Only': 38, 'dared': 14, 'unhappy': 17, 'mortified': 1, 'indignant': 4, 'fill': 3, 'sorrow': 3, 'church': 8, 'contemptuous': 8, 'whispers': 2, 'nobody': 4, 'bowed': 18, 'learnt': 20, 'shopmen': 2, 'intending': 5, 'insult': 13, 'smearing': 2, 'landlord': 2, 'slander': 5, 'dirt': 5, 'neighbourhood': 3, 'gossiping': 1, 'affairs': 11, 'complaining': 3, 'spread': 5, 'surrounding': 2, 'bore': 4, 'endured': 3, 'cheer': 2, 'angel': 7, 'cut': 33, 'repented': 1, 'unmistakable': 8, 'proof': 14, 'innocence': 4, 'remained': 31, 'refuse': 21, 'personal': 14, 'explanations': 4, 'interviews': 4, 'entreating': 2, 'reproached': 3, 'indignation': 13, 'baseness': 2, 'reminding': 2, 'telling': 33, 'infamous': 3, 'torment': 2, 'defenceless': 3, 'nobly': 1, 'touchingly': 1, 'sobbed': 3, 'Moreover': 12, 'servants': 6, 'reputation': 7, 'supposed': 7, 'aback': 4, 'convinced': 29, 'Sunday': 3, 'Cathedral': 2, 'knelt': 6, 'prayed': 8, 'Our': 4, 'Lady': 2, 'strength': 29, 'trial': 8, 'told': 129, 'bitterly': 9, 'fully': 17, 'penitent': 1, 'embraced': 6, 'besought': 2, 'delay': 5, 'everywhere': 10, 'shedding': 2, 'asserted': 1, 'flattering': 4, 'behavior': 2, 'copies': 8, 'superfluous': 2, 'several': 30, 'driving': 6, 'offence': 4, 'precedence': 1, 'therefore': 14, 'turns': 8, 'expected': 25, 'arrived': 14, 'assembled': 1, 'opinion': 27, 'unnecessary': 3, 'Anyway': 10, 'succeeded': 28, 're-establishing': 1, 'ignominy': 1, 'affair': 12, 'rested': 9, 'indelible': 1, 'disgrace': 12, 'treating': 3, 'harshly': 3, 'families': 2, 'treat': 8, 'marked': 15, 'event': 1, 'fortunes': 2, 'transformed': 3, 'suitor': 1, 'marry': 14, 'arranged': 9, 'consent': 5, 'aggrieved': 5, 'decision': 14, 'judged': 2, 'facts': 30, 'Pyotr': 173, 'Petrovitch': 286, 'Luzhin': 111, 'distantly': 1, 'related': 1, 'active': 5, 'match': 8, 'expressing': 3, 'acquaintance': 22, 'properly': 6, 'courteously': 2, 'offer': 14, 'begged': 15, 'speedy': 1, 'talked': 37, 'depended': 4, 'posts': 2, 'forty-five': 2, 'prepossessing': 4, 'attractive': 4, 'women': 37, 'presentable': 1, 'morose': 4, 'conceited': 6, 'beware': 2, 'shortly': 2, 'judging': 6, 'hastily': 8, 'warning': 1, 'favourable': 5, 'deliberate': 2, 'avoid': 17, 'forming': 3, 'prejudices': 7, 'mistaken': 19, 'correct': 4, 'indications': 1, 'thoroughly': 12, 'estimable': 2, 'shares': 4, 'expressed': 13, 'convictions': 12, 'rising': 8, 'generation': 6, 'opponent': 2, 'likes': 5, 'good-natured': 9, 'resolute': 4, 'sensible': 19, 'patient': 16, 'passionate': 4, 'Of': 68, 'either': 38, 'happiness': 19, 'care': 39, 'admitted': 9, 'prudence': 4, 'secure': 6, 'defects': 1, 'differences': 1, 'happiest': 1, 'marriages': 1, 'regards': 3, 'relies': 2, 'relationship': 2, 'honourable': 23, 'straightforward': 3, 'abrupt': 1, 'outspoken': 1, 'dowry': 1, 'experienced': 5, 'indebted': 2, 'benefactor': 6, 'add': 11, 'politely': 3, 'actual': 7, 'phrases': 10, 'meaning': 15, 'design': 10, 'smooth': 2, 'deeds': 8, 'perfectly': 29, 'fervently': 1, 'mentioned': 9, 'legal': 25, 'bureau': 11, 'conducting': 2, 'commercial': 3, 'litigation': 1, 'important': 26, 'Senate': 3, 'greatest': 8, 'agreed': 13, 'definitely': 1, 'consider': 31, 'assured': 7, 'benefit': 14, 'providential': 2, 'dreaming': 10, 'ventured': 5, 'cautious': 3, 'secretary': 3, 'relation': 10, 'fitted': 3, 'doubts': 5, 'whether': 71, 'studies': 5, 'regular': 20, 'becoming': 6, 'associate': 2, 'partner': 5, 'law': 31, 'agreement': 20, 'share': 7, 'plans': 12, 'probability': 1, 'realising': 7, 'evasiveness': 1, 'natural': 22, 'persuaded': 4, 'gain': 12, 'coldly': 6, 'day-dream': 1, 'Nor': 1, 'breathed': 4, 'helping': 6, 'wasting': 2, 'readily': 1, 'assistance': 9, 'charity': 3, 'earned': 3, 'agree': 30, 'footing': 4, 'enthusiasm': 7, 'oneself': 9, 'forward': 27, 'old-womanish': 1, 'wedding': 7, 'invite': 6, 'urge': 2, 'remain': 18, 'husbands': 2, 'mothers-in-law': 1, 'bit': 26, 'independent': 3, 'settle': 6, 'joyful': 4, 'news': 12, 'embrace': 6, 'separation': 4, 'settled': 17, '_for': 2, 'certain_': 1, 'depends': 8, 'arrangements': 8, 'ceremony': 7, 'fast': 11, 'press': 3, 'joke': 5, 'pen': 8, 'bids': 1, 'kisses': 3, 'credit': 7, 'improved': 1, 'Afanasy': 8, 'trust': 16, 'seventy-five': 1, 'twenty-five': 11, 'travelling': 1, 'expenses': 8, 'undertake': 7, 'journey': 14, 'conveyance': 1, 'bags': 2, 'conveyed': 2, 'reckon': 13, 'expense': 4, 'arrival': 8, 'halfpenny': 3, 'calculated': 6, 'penny': 6, 'ninety': 2, 'railway': 4, 'driver': 2, 'readiness': 4, 'travel': 2, 'comfortably': 3, 'events': 5, 'Love': 3, 'beyond': 19, 'prayers': 8, 'Creator': 1, 'Redeemer': 1, 'visited': 9, 'infidelity': 1, 'pray': 15, 'Remember': 1, 'childhood': 6, 'lisp': 1, 'knee': 4, 'warmly': 14, 'Yours': 3, 'PULCHERIA': 1, 'RASKOLNIKOV.': 1, 'Almost': 7, 'wet': 14, 'finished': 16, 'distorted': 6, 'bitter': 14, 'wrathful': 1, 'threadbare': 1, 'pondered': 7, 'violently': 15, 'turmoil': 2, 'cramped': 4, 'stifled': 3, 'craved': 1, 'dread': 6, 'direction': 14, 'Vassilyevsky': 6, 'Ostrov': 5, 'Prospect': 9, 'noticing': 19, 'muttering': 4, 'astonishment': 9, 'Many': 4, 'IV': 7, 'chief': 18, 'essential': 10, 'irrevocably': 4, 'Never': 19, 'marriage': 31, 'alive': 12, 'damned': 5, 'anticipating': 2, 'triumph': 12, 'deceive': 9, 'apologise': 3, 'advice': 7, 'excuse': 21, 'post-haste': 1, 'express.': 1, 'Holy': 1, 'Mother': 11, 'Kazan': 1, 'stands': 6, 'bedroom': 9, 'Bitter': 1, 'ascent': 1, 'Golgotha': 1, 'finally': 10, 'Avdotya': 115, 'Romanovna': 112, '_already_': 1, 'solid': 2, 'impressive': 3, 'holds': 1, 'writes': 8, '_seems_': 4, 'observes': 1, 'beats': 2, 'marrying': 7, 'Splendid': 1, 'Simply': 6, 'descriptive': 1, 'idea': 99, 'favour': 9, 'Was': 23, '_words_': 2, 'minds': 1, 'need': 66, '_a': 2, 'little_': 1, 'simplicity': 7, 'observations': 2, 'angrily.': 1, 'angered': 2, 'naïve': 4, 'questions': 30, 'discuss': 9, 'Has': 5, 'conscience-prick': 2, 'sacrificing': 4, 'us.': 5, 'murdered': 24, 'pursuing': 3, 'whirling': 3, 'wasn': 31, '_bride_': 1, 'sacking': 1, 'thousand': 49, 'according': 8, 'cloth': 3, 'bride': 4, 'raise': 10, 'partnership': 3, 'mutual': 3, 'luggage': 1, 'fares': 1, 'blossoming': 1, 'fruits': 3, 'stinginess': 1, 'meanness': 5, '_tone_': 1, 'tone': 26, 'foretaste': 3, 'lavish': 1, '_she_': 2, 'expect': 18, 'guessing': 2, '_could': 1, 'not_': 1, 'deny': 10, 'counting': 5, 'knits': 1, 'woollen': 2, 'shawls': 4, 'embroiders': 1, 'ruining': 1, 'generosity': 2, 'me.': 21, 'Schilleresque': 1, 'hearts': 4, 'goose': 1, 'swan': 1, 'inkling': 2, 'shiver': 8, 'until': 7, 'deck': 1, 'false': 11, 'colours': 3, 'puts': 4, 'bet': 7, 'Anna': 1, 'buttonhole': 1, 'goes': 9, 'dine': 2, 'contractors': 1, 'merchants': 2, 'Enough': 12, 'confound': 9, 'wonder': 22, 'bless': 5, 'deal.': 2, 'propounds': 2, 'theory': 21, 'superiority': 2, 'wives': 2, 'destitution': 2, 'bounty': 1, 'interview': 21, 'understands': 4, 'water': 50, 'barter': 2, 'moral': 14, 'freedom': 7, 'Schleswig-Holstein': 1, 'denying': 3, 'pill': 1, 'spend': 17, 'provinces': 4, 'nigger': 1, 'plantation': 1, 'Lett': 1, 'degrade': 1, 'binding': 1, 'advantage': 12, 'unalloyed': 1, 'diamond': 1, 'concubine': 1, 'consenting': 2, 'save': 12, 'adores': 1, 'amounts': 1, 'necessary': 19, 'peace': 13, 'conscience': 16, 'market': 5, 'More': 2, 'casuists': 1, 'Jesuitical': 1, 'soothe': 2, 'persuade': 7, 'daylight': 7, 'Rodion': 97, 'Romanovitch': 82, 'central': 1, 'ensure': 1, 'rich': 13, 'prosperous': 1, 'born': 4, 'sacrifice': 9, 'loving': 1, 'over-partial': 1, 'shrink': 2, 'eternal': 3, 'victim': 8, 'lasts': 1, 'measure': 3, 'Can': 24, 'worse': 19, 'viler': 2, 'baser': 1, 'bargain': 2, 'luxuries': 1, 'starvation': 1, 'regret': 9, 'curses': 4, 'hidden': 21, 'Even': 28, 'worried': 17, 'sees': 10, 'prevent': 8, 'forbid': 3, 'Your': 37, 'devote': 4, '_when': 1, 'post_': 1, 'borrow': 5, 'millionaire': 1, 'Zeus': 1, 'lives': 14, 'blind': 9, 'knitting': 2, 'weeping': 22, 'shadow': 3, 'fasting': 1, 'Imagine': 3, 'happen': 28, 'during': 20, 'tortured': 8, 'fretting': 3, 'finding': 14, 'confronting': 1, 'aches': 3, 'grip': 1, 'rend': 1, 'Long': 3, 'anguish': 20, 'beginnings': 1, 'waxed': 1, 'gathered': 6, 'matured': 1, 'fearful': 11, 'frenzied': 2, 'fantastic': 15, 'clamouring': 1, 'insistently': 4, 'burst': 9, 'thunderclap': 1, 'passively': 1, 'unsolved': 1, 'decide': 16, 'humbly': 3, 'stifle': 1, 'giving': 18, 'claim': 4, 'activity': 3, 'recurring': 2, '_felt': 1, 'beforehand_': 2, 'expecting': 15, 'difference': 7, 'mere': 8, 'menacing': 4, 'unfamiliar': 2, 'shape': 3, 'hammering': 3, 'sit': 65, 'seat': 22, 'K': 2, 'Boulevard': 2, 'adventure': 2, 'objects': 4, 'crossed': 18, 'path': 8, 'road': 18, 'gradually': 9, 'riveted': 2, 'resentfully': 1, 'bareheaded': 2, 'parasol': 4, 'gloves': 5, 'waving': 5, 'silky': 1, 'material': 12, 'awry': 1, 'hooked': 1, 'skirt': 4, 'waist': 2, 'hanging': 15, 'loose': 8, 'slanting': 1, 'unsteadily': 1, 'stumbling': 3, 'staggering': 4, 'overtook': 5, 'extreme': 9, 'exhaustion': 5, 'closely': 6, 'shocking': 5, 'hardly': 47, 'fair-haired': 1, 'sixteen': 6, 'pretty': 20, 'lifting': 4, 'indecorously': 1, 'sign': 20, 'unconscious': 12, 'unwilling': 10, 'perplexity': 10, 'boulevard': 4, 'frequented': 1, 'stifling': 11, 'deserted': 9, 'gentleman': 42, 'angrily': 13, 'impatiently': 6, 'biding': 1, 'unwelcome': 1, 'moved': 37, 'intentions': 6, 'plump': 1, 'thickly-set': 1, 'fashionably': 2, 'colour': 9, 'moustaches': 2, 'furious': 8, 'longing': 4, 'dandy': 5, 'clenching': 2, 'fists': 3, 'spluttering': 2, 'rage': 12, 'sternly': 10, 'scowling': 4, 'haughty': 11, 'mean.': 1, 'low': 12, 'cane': 3, 'constable': 2, 'gentlemen': 13, 'fighting': 13, 'public': 14, 'straight-forward': 1, 'soldierly': 1, 'whiskers': 6, 'catching': 6, 'you.': 33, 'policeman': 28, 'Look': 23, 'professional': 2, 'somebody': 6, 'unpractised': 1, 'fight': 6, 'eager': 8, 'following': 14, 'prevented': 5, 'pretending': 10, 'cigarette': 11, 'Think': 8, 'flash': 17, 'easy': 8, 'examine': 5, 'Listen': 28, 'sleepy-looking': 1, 'blankly': 4, 'waved': 7, 'call': 26, 'cab': 8, 'Missy': 2, 'missy': 3, 'Ach': 20, 'ach': 6, 'shook': 19, 'shocked': 1, 'sympathetic': 1, 'job': 10, 'handing': 2, 'Did': 32, 'innocent': 13, 'See': 13, 'belongs': 3, 'gentlefolk': 1, 'ladies': 32, 'pretensions': 1, 'gentility': 1, 'persisted': 8, 'outrage': 3, 'ah': 5, 'brute': 4, 'fly': 8, 'confined': 2, 'halted': 1, 'Keep': 1, 'thoughtfully': 10, 'hey': 3, 'wretches': 4, 'avenue': 2, 'eye': 11, 'repeated': 52, 'sighing': 4, 'sting': 1, 'revulsion': 3, 'himself.': 2, 'stared': 29, 'open-eyed': 1, 'ejaculated': 4, 'gesture': 9, 'madman': 14, 'carried': 21, 'murmured': 3, 'interfere': 1, 'devour': 1, 'Were': 6, 'wretched': 20, 'strayed': 4, 'aimlessly': 5, 'fix': 6, 'forget': 14, 'wake': 10, 'anew': 1, 'horrible': 6, 'doors': 12, 'Frantsovnas': 1, 'wind': 11, 'slipping': 5, 'sly': 13, 'hospital': 16, 'luck': 4, 'mothers': 5, 'taverns': 5, 'wreck': 1, 'eighteen': 4, 'nineteen': 1, 'Ugh': 3, 'percentage': 4, 'chaste': 5, 'interfered': 2, 'scientific': 5, 'consolatory': 1, 'Once': 6, 'Strange': 7, 'Razumihin': 344, 'curious.': 2, 'wondered': 15, 'comrades': 3, 'remarkable': 3, 'friends': 23, 'aloof': 2, 'welcome': 4, 'gatherings': 1, 'amusements': 1, 'intensity': 3, 'sparing': 1, 'pride': 18, 'reserve': 2, 'superior': 5, 'development': 6, 'knowledge': 4, 'beliefs': 1, 'interests': 8, 'beneath': 1, 'unreserved': 1, 'communicative': 1, 'good-humoured': 5, 'candid': 6, 'depth': 1, 'intelligent': 11, 'simpleton': 3, 'blackhaired': 1, 'shaved': 2, 'uproarious': 1, 'reputed': 1, 'festive': 2, 'blow': 16, 'gigantic': 1, 'limit': 3, 'powers': 1, 'abstain': 2, 'pranks': 5, 'Another': 10, 'failure': 6, 'unfavourable': 1, 'circumstances': 21, 'crush': 6, 'lodge': 5, 'extremes': 1, 'resources': 2, 'lighting': 3, 'stove': 8, 'declare': 10, 'soundly': 3, 'About': 8, 'observed': 55, 'annoy': 3, 'V': 10, 'lately': 9, 'Suppose': 3, 'tidy': 1, 'agitated': 10, 'uneasily': 18, 'seeking': 9, 'significance': 8, 'ordinary': 18, 'action': 15, 'Could': 10, 'rubbed': 4, 'musing': 4, 'spontaneously': 3, 'calmly': 14, 'determination': 9, 'afresh': 1, 'realised': 17, 'jumping': 8, 'homewards': 2, 'loathing': 6, 'hole': 15, '_this_': 2, 'random': 2, 'shudder': 8, 'shivering': 12, 'unconsciously': 9, 'craving': 3, 'distract': 3, 'succeed': 6, 'dropping': 11, 'brooding': 3, 'across': 17, 'Lesser': 1, 'islands': 1, 'greenness': 1, 'freshness': 2, 'restful': 2, 'hemmed': 1, 'closeness': 1, 'pleasant': 10, 'sensations': 5, 'morbid': 12, 'irritability': 6, 'Sometimes': 11, 'villa': 1, 'among': 26, 'foliage': 1, 'fence': 1, 'smartly': 3, 'verandahs': 1, 'balconies': 1, 'running': 32, 'gardens': 2, 'flowers': 7, 'longer': 13, 'luxurious': 2, 'carriages': 2, 'horseback': 1, 'watched': 12, 'vanished': 4, 'Twenty': 3, 'forty-seven': 1, 'Marmeladovs': 1, 'passing': 15, 'eating-house': 3, 'Going': 5, 'vodka': 15, 'ate': 6, 'pie': 3, 'eating': 7, 'effect': 19, 'wineglassful': 1, 'drowsiness': 5, 'Petrovsky': 5, 'bushes': 6, 'grass': 3, 'singular': 1, 'actuality': 1, 'vividness': 3, 'monstrous': 6, 'images': 5, 'truth-like': 1, 'artistically': 1, 'consistent': 1, 'dreamer': 1, 'artist': 3, 'Turgenev': 1, 'invented': 5, 'memory': 14, 'powerful': 6, 'deranged': 3, 'system': 7, 'dreamt': 5, 'birth': 3, 'holiday': 2, 'vividly': 6, 'level': 10, 'willow': 1, 'copse': 1, 'blur': 1, 'horizon': 1, 'crowd': 56, 'hoarse': 5, 'Drunken': 1, 'horrible-looking': 1, 'cling': 3, 'Near': 3, 'track': 5, 'winding': 1, 'graveyard': 5, 'stone': 31, 'cupola': 2, 'mass': 5, 'grandmother': 3, 'dead': 46, 'occasions': 3, 'dish': 2, 'tied': 5, 'napkin': 3, 'rice': 3, 'pudding': 2, 'raisins': 1, 'stuck': 7, 'unadorned': 1, 'ikons': 2, 'priest': 19, 'whenever': 2, 'religiously': 1, 'reverently': 2, 'holding': 22, 'circumstance': 9, 'attracted': 9, 'festivity': 2, 'gaily': 7, 'townspeople': 2, 'riff-raff': 1, 'carts': 1, 'usually': 6, 'drawn': 7, 'cart-horses': 2, 'laden': 1, 'casks': 1, 'wine': 19, 'goods': 3, 'manes': 1, 'slow': 6, 'pace': 2, 'drawing': 8, 'mountain': 2, 'load': 4, 'shafts': 1, 'sorrel': 2, 'peasants': 12, 'nags': 1, 'straining': 3, 'utmost': 11, 'wheels': 3, 'mud': 3, 'rut': 3, 'cruelly': 3, 'balalaïka': 1, 'blue': 11, 'coats': 3, 'thick-necked': 1, 'fleshy': 1, 'carrot': 1, 'outbreak': 1, 'Take': 18, 'Mikolka': 17, 'nag': 4, 'mare': 15, 'mates': 6, 'leaping': 1, 'seizing': 8, 'reins': 1, 'bay': 2, 'Matvey': 1, 'breaking': 10, 'kill': 26, 'gallop': 9, 'whip': 6, 'preparing': 4, 'relish': 6, 'flog': 1, 'D': 2, 'Gallop': 1, 'jog': 1, 'clambered': 1, 'jokes': 4, 'hauled': 1, 'rosy-cheeked': 1, 'beaded': 1, 'headdress': 1, 'nuts': 2, 'drag': 4, 'cartload': 2, 'Two': 12, 'whips': 5, 'tugged': 7, 'galloping': 1, 'move': 12, 'struggled': 3, 'gasping': 11, 'shrinking': 2, 'showered': 3, 'hail': 1, 'furiously': 5, 'thrashed': 9, 'appetite': 4, 'draw': 6, 'Father': 5, 'fun': 6, 'tore': 7, 'horror': 23, 'tugging': 1, 'falling': 8, 'Beat': 3, 'Christian': 2, 'meddle': 1, 'choose': 6, 'roar': 2, 'roused': 13, 'feebly': 1, 'kicking': 4, 'smiling': 18, 'kick': 3, 'lads': 1, 'snatched': 13, 'ribs': 2, 'Hit': 1, 'song': 11, 'joined': 5, 'riotous': 1, 'jingling': 2, 'tambourine': 1, 'whistling': 1, 'whipped': 2, 'choking': 1, 'streaming': 3, 'Wringing': 1, 'grey-headed': 1, 'disapproval': 2, 'gasp': 2, 'ferociously': 1, 'shaft': 5, 'brandished': 2, 'swinging': 2, 'sound': 23, 'thud': 1, 'Thrash': 1, 'thrash': 2, 'voices': 10, 'swung': 2, 'spine': 6, 'luckless': 3, 'haunches': 1, 'lurched': 2, 'force': 9, 'attacking': 6, 'directions': 6, 'measured': 2, 'tough': 2, 'admiring': 1, 'spectator': 1, 'Fetch': 1, 'axe': 56, 'Finish': 2, 'Stand': 2, 'frantically': 3, 'stooped': 7, 'crowbar': 2, 'dealt': 3, 'stunning': 1, 'pull': 11, 'bar': 4, 'log': 3, 'leapt': 4, 'Several': 6, 'sticks': 2, 'poles': 1, 'dying': 12, 'dealing': 2, 'breath': 33, 'butchered': 1, 'bloodshot': 1, 'brandishing': 1, 'regretting': 3, 'bleeding': 4, 'jumped': 22, 'shrieks': 1, 'panting': 7, 'brutal': 3, 'choked': 4, 'soaked': 6, 'perspiration': 4, 'tree': 1, 'breaths': 2, 'Good': 52, 'split': 2, 'skull': 6, 'tread': 1, 'break': 13, 'steal': 5, 'tremble': 3, 'spattered': 3, 'profound': 3, 'amazement': 11, 'torturing': 5, 'Yesterday': 7, '_experiment_': 2, 'base': 13, 'vile': 14, 'couldn': 41, 'flaw': 1, 'reasoning': 5, 'arithmetic': 2, 'glowed': 4, 'limb': 1, 'easily': 16, 'cast': 5, 'relief': 6, 'renounce': 2, 'mine.': 1, 'Crossing': 1, 'quietly': 21, 'glowing': 10, 'sky': 3, 'fatigue': 6, 'abscess': 2, 'Freedom': 3, 'spell': 1, 'sorcery': 1, 'obsession': 1, 'Later': 5, 'superstitiously': 1, 'impressed': 6, 'exceptional': 6, 'predestined': 1, 'turning-point': 1, 'convenient': 3, 'shortest': 1, 'direct': 12, 'unnecessarily': 1, 'dozens': 4, 'decisive': 5, 'exert': 1, 'gravest': 1, 'destiny': 4, 'tables': 4, 'barrows': 1, 'booths': 2, 'shops': 6, 'closing': 5, 'clearing': 2, 'wares': 1, 'customers': 2, 'Rag': 1, 'pickers': 1, 'costermongers': 1, 'crowding': 2, 'stinking': 3, 'neighbouring': 1, 'wandered': 3, 'attract': 3, 'attire': 5, 'scandalising': 1, 'alley': 1, 'huckster': 6, 'tapes': 1, 'handkerchiefs': 1, 'lingering': 2, 'pawnbroker': 13, 'previous': 22, 'single': 10, 'timid': 11, 'submissive': 4, 'idiotic': 3, 'slave': 4, 'bundle': 6, 'earnestly': 11, 'doubtfully': 1, 'warmth': 7, 'astonishing': 3, 'too.': 12, 'To-morrow': 5, 'Upon': 9, 'fright': 8, 'gabbled': 1, 'lively': 6, 'babe': 1, 'step-sister': 1, 'interrupted': 33, 'notion.': 1, 'yourself.': 6, 'pondering': 3, 'softly': 25, 'miss': 4, 'thrill': 1, 'precisely': 10, '_would': 2, 'alone_': 1, 'incapable': 9, 'Certainly': 5, 'opportunity': 9, 'greater': 8, 'exactness': 1, 'dangerous': 10, 'inquiries': 10, 'investigations': 2, 'contemplated': 1, 'VI': 6, 'invited': 23, 'reduced': 4, 'selling': 5, 'fetched': 3, 'dealer': 1, 'undertook': 2, 'jobs': 1, 'price': 3, 'rule': 4, 'superstitious': 1, 'traces': 10, 'superstition': 1, 'ineradicable': 1, 'disposed': 8, 'mysterious': 12, 'influences': 8, 'coincidences': 1, 'Pokorev': 1, 'Harkov': 1, 'chanced': 5, 'articles': 4, 'pawned': 3, 'stones': 4, 'parting': 9, 'insurmountable': 1, 'miserable': 12, 'pecking': 1, 'chicken': 1, 'egg': 3, 'played': 3, 'billiards': 3, 'mention': 8, 'shake': 4, 'expressly': 2, 'first-rate': 5, 'Jew': 3, 'Lots': 2, 'dealings': 1, 'harpy': 1, 'uncertain': 5, 'value': 5, 'article': 35, 'percent': 1, 'chattered': 4, 'bondage': 4, 'phenomenon': 2, 'mending': 2, 'half-sister': 1, 'cooking': 1, 'sewing': 3, 'charwoman': 1, 'permission': 11, 'movables': 1, 'monastery': 4, 'N': 1, 'perpetuity': 1, 'unmarried': 1, 'awfully': 15, 'uncouth': 2, 'remarkably': 3, 'outwards': 1, 'battered': 6, 'goatskin': 3, 'amusement': 2, 'dark-skinned': 1, 'soldier': 4, 'Strikingly': 1, 'lots': 3, 'willing': 4, 'sweet.': 1, 'queerness': 1, 'assure': 30, 'faintest': 3, 'shuddered': 12, 'hotly': 9, 'joking': 4, 'senseless': 8, 'worthless': 4, 'ailing': 1, 'horrid': 3, 'mischief': 3, 'die': 21, 'fresh': 23, 'thousands': 7, 'buried': 10, 'Hundreds': 1, 'Lock': 1, 'hospitals': 1, 'Kill': 1, 'humanity': 14, 'crime': 46, 'wiped': 4, 'corruption': 1, 'decay': 1, 'ill-natured': 1, 'balance': 3, 'existence': 5, 'louse': 14, 'black-beetle': 1, 'harm': 10, 'amputated.': 1, 'deserve': 6, 'remarked': 3, 'nature.': 2, 'drown': 2, 'ocean': 2, 'Stay': 17, 'speechifying': 1, '_yourself_': 1, 'arguing': 1, 'justice': 9, 'game.': 1, 'youthful': 6, 'forms': 5, 'themes': 1, 'discussion': 6, 'conceiving': 1, '_the': 4, 'ideas_': 1, 'embryo': 1, 'coincidence': 2, 'preordained': 1, 'guiding': 1, 'hint': 9, 'returning': 4, 'stirring': 4, 'Meanwhile': 13, 'candle': 20, 'occur': 6, 'recollect': 6, 'leaden': 2, 'crushing': 2, 'extraordinarily': 6, 'difficulty': 10, 'rousing': 4, 'brew': 1, 'tea-pot': 1, 'sleeps': 3, 'indignantly': 3, 'asleep.': 1, 'ached': 6, 'reply': 18, 'turning': 51, 'offended': 17, 'wrathfully': 4, 'air': 45, 'weakly': 5, 'motioned': 3, 'spoon': 5, 'spoonfuls': 5, 'mechanically': 13, 'meal': 1, 'haunted': 7, 'day-dreams': 4, 'fancied': 33, 'Africa': 1, 'Egypt': 3, 'oasis': 1, 'caravan': 1, 'camels': 1, 'peacefully': 1, 'palms': 1, 'around': 6, 'circle': 4, 'spring': 6, 'flowed': 4, 'gurgling': 1, 'cool': 5, 'wonderful': 5, 'parti-coloured': 2, 'sand': 2, 'glistened': 1, 'pulled': 36, 'crept': 3, 'stealthily': 4, 'forgetfulness': 4, 'prepared': 14, 'stupefaction': 4, 'feverish': 19, 'distracted': 3, 'preparations': 7, 'energies': 2, 'forgetting': 9, 'thumping': 3, 'First': 3, 'noose': 13, 'sew': 1, 'rummaged': 1, 'stuffed': 3, 'unwashed': 3, 'strip': 4, 'couple': 11, 'inches': 3, 'folded': 10, 'garment': 1, 'ends': 4, 'inside': 12, 'armhole': 2, 'sewed': 1, 'outside': 13, 'needle': 2, 'ingenious': 1, 'device': 1, 'intended': 9, 'carry': 16, 'support': 11, 'hang': 19, 'Putting': 2, 'handle': 3, 'swing': 3, 'designed': 1, 'opening': 8, '_pledge_': 1, 'smoothly': 2, 'planed': 1, 'size': 3, 'thickness': 1, 'courtyard': 4, 'workshop': 2, 'fastened': 8, 'crossing': 11, 're-crossing': 1, 'carefully': 32, 'daintily': 1, 'parcel': 4, 'untie': 2, 'divert': 2, 'undo': 2, 'knot': 1, 'weight': 6, 'stored': 2, 'ago.': 2, 'descend': 2, 'thirteen': 2, 'cautiously': 8, 'noiselessly': 7, 'deed': 2, 'pruning-knife': 1, 'knife': 2, 'resolved': 13, 'peculiarity': 1, 'resolutions': 1, 'characteristic': 6, 'agonising': 11, 'inward': 4, 'struggle': 8, 'carrying': 13, 'considered': 9, 'uncertainty': 2, 'renounced': 1, 'unsettled': 2, 'points': 9, 'uncertainties': 1, 'trifling': 7, 'anxiety': 26, 'neighbours': 4, 'shop': 14, 'scolding': 4, 'doubtful': 3, 'Supposing': 1, 'supposing': 4, 'meantime': 2, 'suspicion': 30, 'grounds': 6, '_he': 2, 'all_': 1, 'unattainable': 3, 'sometime': 1, 'experiment': 2, 'i.e': 1, 'survey': 1, 'cursing': 4, 'analysis': 2, 'casuistry': 2, 'razor': 1, 'rational': 5, 'objections': 1, 'resort': 1, 'doggedly': 1, 'slavishly': 2, 'arguments': 4, 'forcing': 3, 'crimes': 5, 'detected': 2, 'obvious': 8, 'conclusions': 5, 'impossibility': 3, 'concealing': 3, 'power': 24, 'childish': 10, 'phenomenal': 1, 'heedlessness': 1, 'caution': 2, 'eclipse': 1, 'attacked': 5, 'highest': 3, 'perpetration': 2, 'violence': 4, 'shorter': 2, 'individual': 6, 'rise': 4, 'accompanied': 8, 'reaction': 2, 'unimpaired': 2, 'omit': 2, 'process': 9, 'conclusion': 14, 'ahead': 1, 'purely': 3, 'difficulties': 5, 'secondary': 1, 'will-power': 1, 'familiarised': 1, 'minutest': 1, 'preparation': 1, 'decisions': 3, 'upset': 13, 'calculations': 2, 'usual': 12, 'absence': 5, 'peep': 3, 'basket': 1, 'line': 13, 'Seeing': 8, 'overwhelmed': 11, 'gateway': 18, 'assume': 3, 'humiliated': 5, 'anger': 20, 'dull': 3, 'animal': 3, 'opposite': 19, 'porter': 49, 'shining': 3, 'Somewhere': 2, 'open.': 1, 'chunks': 1, 'pockets': 13, 'fails': 4, 'helps': 1, 'grin': 4, 'sedately': 1, 'awakening': 1, 'curse': 4, 'Glancing': 2, 'someway': 1, 'Yusupov': 3, 'fountains': 2, 'refreshing': 2, 'squares': 1, 'degrees': 7, 'extended': 1, 'field': 1, 'Mars': 1, 'Mihailovsky': 1, 'Palace': 1, 'interested': 19, 'towns': 3, 'inclined': 2, 'smell': 6, 'nastiness': 2, 'walks': 2, 'clutch': 3, 'mentally': 1, 'meets': 1, 'lightning': 6, 'dismiss': 3, 'half-past': 3, 'Impossible': 1, 'Luckily': 1, 'screening': 1, 'quarrelling': 5, 'quadrangular': 1, 'Drawing': 1, 'throbbing': 8, 'ascending': 2, 'shut': 13, 'painters': 6, 'storeys': 6, 'them.': 10, 'underneath': 1, 'visiting': 5, 'card': 3, 'nailed': 1, 'mistrustful': 1, 'Had': 8, 'leaves': 3, 'throbbed': 5, 'Half': 2, 'ringing': 7, 'suspicious': 14, 'ear': 5, 'Either': 4, 'peculiarly': 4, 'distinct': 4, 'rustle': 5, 'Someone': 5, 'secretly': 4, 'hiding': 14, 'soberly': 2, 'impatience': 16, 'Recalling': 2, 'clouded': 3, 'latch': 9, 'unfastened': 4, 'VII': 3, 'Fearing': 1, 'hoping': 7, 'disarm': 3, 'attempting': 3, 'allowing': 1, 'advanced': 4, 'obey': 6, 'uninvited': 3, 'tongue': 7, 'unloosed': 1, 'promised': 11, 'maliciously': 4, 'mistrustfully': 5, 'sneer': 1, 'malice': 3, 'elsewhere': 1, 'hurry.': 1, 'recovered': 9, 'restored': 3, 'confidence': 5, 'bathing': 2, 'Fever': 1, 'abruptly': 14, 'articulating': 2, 'failing': 3, 'sounded': 5, 'scanning': 4, 'Silver': 1, 'Trying': 1, 'string': 7, 'seconds': 10, 'unbuttoned': 2, 'freed': 1, 'fearfully': 11, 'numb': 4, 'giddiness': 5, 'vexation': 11, 'lose': 22, 'blunt': 2, 'streaked': 1, 'grease': 1, 'plaited': 1, 'rat': 1, 'tail': 3, 'horn': 1, 'comb': 1, 'nape': 1, 'faintly': 12, 'heap': 4, 'pledge.': 1, 'gushed': 1, 'overturned': 1, 'starting': 4, 'sockets': 1, 'brow': 2, 'contorted': 3, 'convulsively': 3, 'right-hand': 1, 'possession': 13, 'faculties': 8, 'collected': 3, 'shrine': 1, 'holy': 5, 'Against': 2, 'silk': 8, 'patchwork': 1, 'wadded': 2, 'quilt': 5, 'convulsive': 1, 'tempted': 6, 'terrifying': 1, 'recover': 3, 'Leaving': 1, 'Bending': 2, 'examining': 14, 'pool': 3, 'snap': 1, 'hurried': 15, 'touching': 9, 'purse': 20, 'crosses': 5, 'Cyprus': 1, 'image': 10, 'filigree': 1, 'chamois': 2, 'rim': 1, 'unsuccessful': 2, 'locks': 2, 'mistakes': 5, 'belong': 2, 'bedstead': 4, 'boxes': 4, 'beds': 3, 'good-sized': 1, 'arched': 1, 'lid': 1, 'studded': 1, 'notched': 1, 'unlocked': 4, 'brocade': 2, 'lined': 2, 'hareskin': 1, 'wipe': 2, 'blood-stained': 3, 'sooner': 10, 'pledges': 12, 'unredeemed': 2, 'redeemed': 1, 'bracelets': 1, 'chains': 4, 'ear-rings': 15, 'pins': 1, 'Some': 26, 'newspaper': 3, 'tape': 1, 'filling': 2, 'trousers': 12, 'undoing': 1, 'parcels': 1, 'moan': 3, 'squatting': 1, 'heels': 7, 'waited': 23, 'gazing': 19, 'seeming': 12, 'mouth': 20, 'backing': 1, 'twitched': 2, 'piteously': 2, 'babies': 1, 'mouths': 2, 'guard': 11, 'motioning': 1, 'snatching': 5, 'Fear': 1, 'gained': 5, 'mastery': 2, 'unexpected': 15, 'murder': 50, 'correctly': 5, 'hopelessness': 1, 'hideousness': 2, 'absurdity': 4, 'obstacles': 9, 'commit': 6, 'surged': 4, 'dreaminess': 2, 'bucket': 2, 'bethought': 1, 'blade': 2, 'soap': 3, 'saucer': 3, 'rubbing': 4, 'damp': 9, 'wetted': 3, 'overlooking': 1, 'Dark': 1, 'protecting': 2, 'shock': 6, 'awaited': 3, 'rung': 2, 'bolt': 1, 'precaution': 3, 'reflect': 4, 'shrilly': 2, 'patiently': 1, 'noisily': 2, 'downstairs': 20, 'humming': 1, 'tune': 1, 'footsteps': 7, 'suspect': 13, '_there_': 3, 'significant': 3, 'unhurried': 1, '_he_': 4, 'mounting': 7, 'higher': 7, 'Coming': 1, 'pursued': 1, 'killed': 41, 'rooted': 5, 'neatly': 2, 'hook': 9, 'catch': 22, 'Instinct': 1, 'crouched': 2, 'panted': 1, 'squeezing': 7, 'tinkled': 1, 'fastening': 4, 'blank': 8, 'D-damn': 1, 'bawled': 1, 'witch': 2, 'damn': 7, 'enraged': 3, 'dozen': 6, 'authority': 5, 'intimate': 3, 'approaching': 10, 'new-comer': 2, 'Koch.': 1, 'Koch': 20, 'Gambrinus': 1, 'business.': 3, 'Aie': 1, 'aie': 1, 'sits': 5, 'hag': 4, 'Hadn': 2, 'back.': 3, 'Damn': 13, 'anywhere.': 1, 'door-handle': 2, 'shakes': 1, 'shows': 3, 'locked': 25, 'clanks': 1, 'proves': 4, 'clanking': 1, 'fasten': 2, 'astonished': 8, 'fainted': 6, 'up.': 5, 'right.': 3, 'Both': 16, 'stop': 13, 'porter.': 2, 'better.': 3, 'e-vi-dent': 1, 'touched': 8, 'gently': 6, 'puffing': 2, 'keyhole': 1, 'tight': 4, 'delirium': 28, 'While': 5, 'knocking': 9, 'shout': 9, 'swear': 14, 'Time': 1, 'deserting': 2, 'sentry': 1, 'hurrying': 7, 'Abruptly': 1, 'flights': 2, 'loud': 17, 'Catch': 3, 'Somebody': 1, 'Mitka': 8, 'Blast': 1, 'shriek': 2, 'Filled': 1, 'flight': 3, 'deliverance': 3, 'pail': 1, 'paint': 6, 'brushes': 1, 'whisked': 1, 'nick': 2, 'bodies': 4, 'murderer': 31, 'escaping': 2, 'upstairs': 12, 'quicken': 1, 'yards': 8, 'Should': 3, 'fling': 5, 'Hopeless': 1, 'safety': 4, 'risky': 1, 'grain': 2, 'weakened': 1, 'Perspiration': 1, 'drops': 7, 'bank': 20, 'dimly': 5, 'farther': 1, 'alarmed': 12, 'recollected': 8, 'problem': 4, 'observation': 8, 'fortunately': 2, 'covering': 1, 'chunk': 1, 'Scraps': 1, 'shreds': 3, 'swarming': 2, 'dazed': 1, 'oblivion': 2, 'Fearful': 1, 'despairing': 3, 'cries': 4, 'leaped': 2, 'Past': 1, 'dreadful': 2, 'chill': 7, 'limbs': 1, 'fallen': 14, 'threads': 2, 'mistrusting': 3, 'congealed': 1, 'frayed': 4, 'claspknife': 1, 'Instantly': 2, 'tatters': 1, 'stuffing': 2, 'gleefully': 3, 'bulged': 1, 'whispered': 41, 'reckoned': 7, 'trinkets': 6, 'hiding-place': 1, 'unbearable': 8, 'Mechanically': 1, 'chair': 53, 'consciousness': 13, 'loop': 1, 'bits': 1, 'Pieces': 1, 'rouse': 4, 'concentration': 2, 'simplest': 2, 'Surely': 7, 'isn': 32, 'punishment': 2, 'distraught': 1, 'perceptions': 1, 'lining': 2, 'triumphantly': 4, 'sigh': 3, 'sunlight': 3, 'boot': 3, 'sock': 10, 'poked': 2, 'tip': 1, 'unwarily': 2, 'ransack': 1, 'Burn': 1, 'burn': 2, 'matches': 2, 'Again': 19, 'icy': 1, 'impulse': 5, 'Open': 7, 'sleeping': 3, 'banging': 3, 'snoring': 1, 'dog': 7, 'ten.': 1, 'Maybe': 7, 'Ha': 3, 'latched': 2, 'retorted': 2, 'bolting': 1, 'stealing': 3, 'discovered': 7, 'Resist': 1, 'unlatched': 2, 'defiant': 5, 'desperate': 9, 'sealed': 2, 'bottle-wax': 1, 'summons': 2, 'office.': 1, 'downright': 1, 'response': 2, 'compassionately': 3, 'grasped': 3, 'tightly': 5, 'treasure': 4, 'hysterical': 7, 'giggle': 2, 'Far': 1, 'behave': 6, 'left.': 2, 'discoloured': 1, 'distinguish': 5, 'seal': 1, 'police-station': 4, 'appear': 14, 'superintendent': 10, 'bewilderment': 6, 'flinging': 4, 'prayer': 5, 'dustier': 1, 'gone.': 1, 'socks': 3, 'conventional': 2, 'relative': 8, 'merely': 11, 'surface': 4, 'swam': 1, 'decoy': 1, 'mused': 1, 'light-headed': 1, 'blurt': 1, 'possessed': 3, 'cynicism': 1, 'mortar': 2, 'Finnish': 2, 'pedlars': 1, 'half-broken-down': 1, 'cabs': 1, 'apt': 4, 'bright': 14, 'sunny': 1, '_the_': 4, 'trepidation': 1, 'averted': 1, 'Turning': 3, 'house-porter': 2, 'confess': 27, 'steep': 2, 'sloppy': 2, 'kitchens': 2, 'policemen': 4, 'sexes': 1, 'Peasants': 1, 'newly': 2, 'decorated': 3, 'queer-looking': 1, 'glancing': 12, 'student.': 1, 'slightest': 15, 'unkempt': 3, 'Among': 7, 'poorly': 3, 'mourning': 7, 'dictation': 1, 'buxom': 2, 'purplish-red': 1, 'blotchy': 1, 'brooch': 1, 'Wait': 16, 'freely': 15, 'regain': 1, 'urging': 1, 'courage': 4, 'calm': 12, 'foolishness': 4, 'carelessness': 1, 'betray': 12, 'dizzier': 1, 'self-control': 1, 'mobile': 1, 'foppish': 1, 'parted': 11, 'combed': 3, 'pomaded': 2, 'rings': 5, 'well-scrubbed': 1, 'French': 10, 'foreigner': 2, 'Luise': 9, 'gaily-dressed': 1, 'purple-faced': 1, 'venturing': 1, 'Ich': 1, 'danke': 1, 'trimmed': 1, 'lace': 1, 'air-balloon': 1, 'smelt': 3, 'scent': 6, 'embarrassed': 13, 'impudent': 5, 'cringing': 1, 'betrayed': 6, 'jauntily': 1, 'tossed': 2, 'cockaded': 1, 'easy-chair': 1, 'skipped': 2, 'curtsying': 2, 'ecstasy': 10, 'smallest': 3, 'assistant': 13, 'horizontally': 1, 'features': 4, 'expressive': 4, 'insolence': 5, 'askance': 3, 'bearing': 3, 'affronted': 3, 'annihilated': 3, 'majesty': 1, 'summoned': 4, 'faltered': 5, 'recovery': 9, 'due': 11, 'student_': 1, 'tearing': 3, 'papers': 16, 'document': 5, 'Read': 4, 'Money': 2, '_that_.': 1, 'trembled': 16, 'joy': 14, 'indescribable': 6, 'directed': 2, 'shoulder': 15, 'pleasure': 20, 'fever.': 2, 'Kindly': 8, 'splutter': 1, 'inarticulately': 1, 'Be': 10, 'smoking': 4, 'satisfaction': 11, 'unnatural': 6, 'loudness': 1, 'declaration': 3, 'demanded': 1, 'Show': 3, 'Alexandr': 2, 'Grigorievitch': 2, 'complaint': 2, 'bird': 6, 'explanation': 28, 'O': 16, 'U': 16, 'writ': 2, 'undertaking': 2, 'conceal': 8, 'creditor': 1, 'liberty': 2, 'proceed': 2, 'law.': 1, 'legally': 5, 'attested': 1, 'assessor': 1, 'Zarnitsyn': 2, 'Tchebarov': 6, 'hereupon.': 1, 'novice': 2, 'fire': 19, 'triumphant': 3, 'overwhelming': 7, 'danger': 11, 'suppositions': 1, 'surmises': 1, 'questioning': 5, 'instinctive': 1, 'thunderstorm': 1, 'fuming': 2, 'wounded': 6, 'smart': 5, 'hussy': 2, 'Eh': 9, 'Fighting': 1, 'correction': 1, 'warned': 2, 'eleventh': 2, 'wildly': 10, 'unceremoniously': 6, 'laugh': 37, 'Ilya': 33, 'anxiously': 5, 'storm': 3, 'amiable': 1, 'seductive': 2, 'smiles': 2, 'lavished': 2, 'curtsied': 2, 'incessantly': 2, 'Captain': 9, 'pattered': 2, 'peas': 1, 'confidently': 2, 'accent': 1, 'Mine': 2, 'dislike': 11, 'tipsy': 4, 'bottles': 4, 'pianoforte': 1, '_ganz_': 1, 'piano': 3, 'manners': 9, 'bottle': 7, 'hitting': 3, 'Karl': 6, 'hit': 5, 'Henriette': 1, 'slaps': 1, 'ungentlemanly': 4, 'squealing': 3, 'Fie': 1, '_sein': 2, 'rock_': 2, '_man': 1, 'muss_': 1, 'damages': 3, 'author': 5, 'significantly': 3, 'rapidly': 7, 'slightly': 7, 'lock-up': 1, 'literary': 8, 'coat-tail': 1, 'nice': 12, 'authors': 3, 'restaurant': 9, 'eaten': 4, 'satire': 1, 'steamer': 1, 'disgraceful': 4, 'language': 5, 'councillor': 1, 'confectioner': 1, 'town-criers': 1, 'Pfoo': 3, 'deference': 1, 'stumbled': 4, 'backwards': 2, 'good-looking': 3, 'Nikodim': 24, 'Fomitch': 24, 'curtsy': 2, 'mincing': 1, 'fluttered': 2, 'thunder': 5, 'hurricane': 2, 'drawled': 1, 'gentlemanly': 3, 'nonchalance': 2, 'kindly': 10, 'protest': 14, 'behaves': 1, 'cad': 1, 'Poverty': 1, 'powder': 3, 'slight': 7, 'daresay': 3, 'affably': 4, 'explosive': 6, 'fires': 2, 'boils': 1, 'nickname': 1, 'regiment': 2, 'Explosive': 4, 'Lieutenant': 5, 'gratified': 2, 'banter': 1, 'sulky': 2, 'pardon': 3, 'ill-mannered': 1, 'shattered': 5, 'X': 6, 'good-hearted': 2, 'exasperated': 3, 'Judge': 2, 'yourselves': 5, 'rummaging': 3, 'contemptuously': 9, 'verbal': 1, 'heedless': 2, 'asks': 5, 'waste': 10, 'interposed': 8, 'typhus': 1, 'quarters': 7, 'owed': 4, 'takes': 6, 'affecting': 5, 'ours.': 1, 'tragic': 2, 'that.': 12, 'Write': 2, 'gruffly': 1, 'dictate': 1, 'indifferent': 4, 'cared': 4, 'amazed': 8, 'officers': 5, 'nearest': 3, 'dearest': 2, 'everlasting': 6, 'solitude': 5, 'remoteness': 1, 'sentimental': 6, 'effusions': 2, 'vanities': 1, 'police-offices': 1, 'sentenced': 3, 'burnt': 5, 'stirred': 5, 'happening': 8, 'appeal': 5, 'police-office': 4, 'outburst': 1, 'brothers': 2, 'sisters': 2, 'police-officers': 1, 'conception': 2, 'dictating': 1, 'date': 7, 'Sign': 1, 'attend': 4, 'pressed': 8, 'nail': 3, 'lodgings': 26, 'thinking.': 1, 'released': 2, 'contradicts': 1, 'Pestryakov': 10, 'silversmith': 1, 'contradiction': 1, 'knocked': 10, 'unfastened.': 1, 'bolted': 1, 'ass': 6, '_He_': 1, 'interval': 2, 'axe.': 2, 'thanksgiving': 1, 'ha': 5, 'Noah': 1, 'Ark': 1, 'maintained': 11, 'reach': 7, 'supported': 1, 'yellowish': 2, 'signing': 3, 'settling': 4, 'Yes.': 19, 'seven.': 1, 'Along': 1, 'street.': 4, 'Short': 1, 'clear.': 1, 'handkerchief': 9, 'jerkily': 1, 'upright': 1, 'Very': 22, 'detain': 1, 'faintness': 1, 'brutes': 1, 'suspect.': 1, 'mastered': 3, 'peeped': 8, 'decoration': 2, 'remaining': 4, 'pursuit': 4, 'half-hour': 4, 'instructions': 6, 'issued': 1, 'Fling': 1, 'end.': 1, 'rid': 13, 'task': 3, 'Ekaterininsky': 1, 'Canal': 1, 'rafts': 1, 'boats': 1, 'moored': 1, 'banks': 5, 'sides': 15, 'float': 1, 'wandering': 6, 'irrational': 1, 'absent': 5, 'forgetful': 2, 'Islands': 3, 'solitary': 7, 'bush': 4, 'judgment': 7, 'destined': 2, 'square': 11, 'unwhitewashed': 2, 'four-storied': 1, 'court': 5, 'hoarding': 3, 'parallel': 1, 'fenced-off': 1, 'smutty': 1, 'shed': 13, 'carriage': 10, 'builder': 1, 'carpenter': 1, 'coal': 1, 'workmen': 15, 'cab-drivers': 1, 'scribbled': 1, 'chalk': 3, 'time-honoured': 1, 'witticism': 1, 'Standing': 1, 'strictly': 5, 'forbidden.': 1, 'unhewn': 1, 'pounds': 1, 'unless': 5, 'hollow': 6, 'twist': 2, 'scraped': 1, 'edges': 2, 'tracks': 1, 'noiseless': 2, 'Other': 2, 'hateful': 6, 'whiskered': 1, 'distractedly': 2, 'circling': 4, 'ungovernable': 1, 'Hang': 5, 'lies': 11, 'despicably': 1, 'fawned': 1, 'folly': 3, 'fawning': 1, 'perplexed': 5, 'deliberately': 7, 'idiotically': 1, 'undergone': 3, 'agonies': 5, 'undertaken': 3, 'otherwise': 4, 'surely': 6, 'bending': 7, 'jewel-cases': 1, 'grimly': 4, 'gaining': 2, 'immeasurable': 2, 'obstinate': 1, 'loathed': 1, 'movements': 4, 'gestures': 3, 'spat': 2, 'bitten': 1, 'Little': 7, 'accord': 4, '_after_': 2, 'now.': 14, 'busily': 1, 'dressing-gown': 3, 'slippers': 2, 'comrade': 3, 'whistled': 1, 'bound.': 1, 'sunk': 3, 'pulse': 3, 'delirious': 26, 'not.': 2, 'spleen': 3, 'threshold': 3, 'Stop': 6, 'fish.': 1, 'insulting': 6, 'kinder': 1, 'cleverer': 2, 'Leave': 9, 'alone.': 3, 'sweep': 3, 'bookseller': 1, 'Heruvimov': 3, 'lesson': 11, 'publishing': 4, 'issuing': 1, 'manuals': 2, 'circulation': 1, 'titles': 1, 'Jove': 6, 'fools': 11, 'encourage': 2, 'signatures': 2, 'text': 1, 'crudest': 1, 'charlatanism': 1, 'discusses': 1, 'contribution': 1, 'translating': 4, 'expand': 1, 'gorgeous': 2, 'title': 4, 'page': 4, 'pays': 1, 'signature': 3, 'works': 35, 'translation': 6, 'whales': 1, 'dullest': 1, 'scandals': 1, '_Les': 1, 'Confessions_': 1, 'Rousseau': 1, 'Radishchev': 1, 'contradict': 3, '_Is': 1, '_': 6, 'pens': 1, 'spelling': 1, 'secondly': 12, 'adrift': 1, 'change': 22, 'laying': 9, 'raving': 5, 'farce': 1, 'descending': 2, 'stepping': 1, 'Nikolaevsky': 1, 'Bridge': 3, 'unpleasant': 9, 'incident': 8, 'coachman': 5, 'lash': 3, 'horses': 8, 'hoofs': 1, 'infuriated': 1, 'railing': 5, 'traffic': 1, 'Serves': 2, 'pickpocket': 1, 'say.': 3, 'Pretending': 1, 'him.': 14, 'profession': 2, 'retreating': 1, 'elderly': 1, 'Christ': 3, 'name.': 1, 'beggar': 7, 'alms': 2, 'gift': 2, 'doubtless': 2, 'palace': 1, 'cloud': 2, 'rare': 4, 'cathedral': 1, 'chapel': 2, 'pure': 5, 'ornament': 1, 'hundreds': 6, 'truly': 4, 'spectacle': 4, 'marvelled': 3, 'vague': 11, 'emotion': 9, 'lifeless': 2, 'sombre': 4, 'enigmatic': 4, 'perplexities': 2, 'imagined': 7, 'theories': 5, 'pictures': 4, 'amusing': 2, 'wrung': 7, 'Deep': 1, 'problems': 1, 'impressions': 2, 'flying': 6, 'upwards': 1, 'vanishing': 1, 'Making': 1, 'movement': 12, 'coin': 1, 'Evening': 1, 'Undressing': 1, 'overdriven': 1, 'greatcoat': 3, 'dusk': 4, 'howling': 3, 'wailing': 5, 'brutality': 2, 'swooning': 3, 'louder': 5, 'shrieking': 4, 'incoherently': 4, 'beseeching': 2, 'beaten': 5, 'mercilessly': 2, 'assailant': 2, 'croak': 1, 'indistinctly': 2, 'thuds': 1, 'topsy-turvy': 1, 'staircases': 1, 'lift': 5, 'Terror': 1, 'gripped': 3, 'ice': 1, 'numbed': 1, 'continuing': 1, 'moaning': 2, 'groaning': 3, 'slammed': 1, 'exclaiming': 3, 'disputing': 1, 'calling': 4, 'whisper': 17, 'numbers': 4, 'inmates': 1, 'block': 3, 'intolerable': 4, 'infinite': 7, 'plate': 4, 'ascertaining': 1, 'warrant': 1, 'trudging': 2, 'ill-treating': 1, 'scrutinised': 5, 'frowning': 16, 'scrutiny': 1, 'lasted': 15, 'timidly': 22, 'Blood': 4, 'Everyone': 14, 'flats.': 1, 'ears': 9, 'outlet': 1, 'clotted': 1, 'fancying': 6, 'Nastasya.': 1, 'earthenware': 2, 'swallowing': 2, 'sip': 1, 'spilling': 1, 'squabbling': 2, 'discussing': 3, 'threatened': 2, 'plotted': 1, 'mocked': 1, 'bedside': 1, 'fretted': 1, 'moaned': 1, 'throwing': 6, 'streak': 1, 'short-waisted': 1, 'messenger': 5, 'peeping': 2, 'half-opened': 1, 'echoed': 2, 'Concluding': 1, 'discussions': 1, 'bad-looking': 1, 'eyebrows': 4, 'fatness': 1, 'laziness': 1, 'absurdly': 2, 'bashful': 3, 'stooping': 3, 'cabin': 2, 'Pashenka.': 1, 'Vrazumihin': 2, 'Shelopaev': 1, 'down.': 6, 'seated': 5, 'Zossimov': 86, 'examined': 4, 'result': 3, 'feeding': 1, 'Alexey': 1, 'Semyonovitch': 24, 'am.': 1, 'on.': 5, 'mamma': 19, 'request': 16, 'presume': 2, 'remittance': 2, 'intelligible': 2, 'remit': 1, 'dreamily': 7, 'wisdom.': 1, 'come.': 4, 'paper.': 1, 'scrawl': 1, 'book.': 2, 'scribble': 1, 'sweeter': 1, 'treacle.': 1, 'money.': 1, 'witness': 9, 'travels': 3, 'Here.': 1, 'time.': 8, 'earnest': 10, 'Bravo': 2, 'potatoes': 2, 'Bring': 3, 'tea.': 2, 'well.': 5, 'unreasoning': 1, 'spoons': 4, 'plates': 2, 'pepper': 1, 'mustard': 1, 'beef': 4, 'amiss': 3, 'departed': 1, 'strained': 6, 'clumsily': 1, 'spoonful': 3, 'blowing': 3, 'swallowed': 2, 'Cut': 2, 'faculty': 2, 'mumbled': 4, 'Pashenka': 11, 'maybe.': 1, 'Pour': 2, 'pour': 3, 'Sit': 8, 'poured': 2, 'cups': 2, 'steadily': 3, 'principal': 3, 'effective': 1, 'resistance': 3, 'repugnance': 4, 'pushed': 9, 'capriciously': 1, 'pillows': 4, 'raspberry': 2, 'jam': 1, 'raspberries': 1, 'balancing': 1, 'outspread': 1, 'lump': 1, 'decamped': 1, 'rascally': 1, 'punish': 4, 'Five': 8, 'Corners': 2, 'Harlamov': 3, 'Buch': 1, 'muddles': 1, 'there.': 7, 'General': 6, 'Kobelev': 1, 'land': 3, 'Zametov': 87, 'slyly': 1, 'Nikiforovna': 2, 'mirth': 5, 'explosion': 1, 'uproot': 1, 'locality': 1, 'wished': 3, 'shrieked': 3, 'afforded': 1, 'unspeakable': 1, 'delight': 2, 'unaccountable': 5, 'Natalya': 1, 'Yegorovna': 1, 'delighted': 22, 'essentially': 3, 'loss': 4, 'thirty-six': 1, 'intellectually': 1, 'metaphysical': 1, 'symbolism': 1, 'sprung': 4, 'algebra': 1, 'hid': 11, 'planned': 2, 'cherishing': 1, 'pay.': 1, 'fed': 1, 'sensibly': 5, 'retiring': 2, 'Answer': 2, 'starve': 1, 'ins': 2, 'outs': 2, 'prospective': 1, 'son-in-law': 1, 'sensitive': 1, 'listens': 2, 'formal': 1, 'demand': 3, 'harmony': 2, 'reigned': 2, 'insisted': 12, 'engaging': 2, 'presenting': 1, 'trusts': 1, 'twinge': 1, 'cross.': 1, 'recognise': 9, 'day.': 2, 'rave': 5, 'work.': 2, 'countess': 1, 'bulldog': 1, 'Krestovsky': 2, 'Island': 4, 'whined': 1, 'sock.': 1, 'hunted': 2, 'scented': 1, 'ring-bedecked': 1, 'comforted': 6, 'twenty-four': 2, 'fringe': 2, 'fascinated': 4, 'bedclothes': 2, 'twitching': 7, 'eluded': 1, 'mocking': 7, 'recalling': 4, 'grime': 1, 'Bah': 9, 'mixing': 1, 'helplessly': 4, 'Make': 8, 'Better': 10, 'America': 6, 'ha-ha-ha': 5, 'contained': 2, 'gulped': 1, 'quenching': 1, 'flame': 1, 'breast': 8, 'incoherent': 4, 'disconnected': 1, 'nestled': 1, 'replaced': 1, 'sighed': 5, 'directly.': 2, 'hours.': 2, 'tryst': 1, 'uncle': 11, 'before.': 3, 'First-rate': 1, 'boy.': 1, 'untying': 1, 'Believe': 7, 'specially': 2, 'cheap': 4, 'Presently': 1, 'pettishly': 1, 'oppose': 2, 'fitting': 2, 'proper': 5, 'head-covering': 1, 'recommendation': 1, 'Tolstyakov': 1, 'basin': 4, 'hats': 3, 'slavish': 1, 'politeness': 5, 'nest': 1, 'boastful': 1, 'specimens': 1, 'headgear': 1, 'Palmerston': 2, 'jewel': 2, 'Guess': 2, 'eighty': 2, 'breeches': 1, 'exhibited': 1, 'pair': 3, 'improvement': 2, 'softer': 1, 'smoother': 1, 'seasons': 1, 'insist': 8, 'asparagus': 1, 'January': 1, 'purchase': 1, 'buying': 1, 'warmer': 1, 'materials': 2, 'autumn': 2, 'lack': 4, 'coherence': 2, 'standard': 1, 'luxury': 2, 'Fedyaev': 1, 'satisfied': 5, 'foreign': 4, 'Embassy': 1, 'cash': 2, 'Price': 1, 'stiffly': 1, 'coated': 1, 'empty-handed': 1, 'hempen': 1, 'fashionable': 6, 'fifty-five': 2, 'underclothes': 1, 'Forty-five': 1, 'rig-out': 1, 'serve': 3, 'Sharmer': 1, 'shirt.': 1, 'playful': 6, 'purchases': 1, 'sullen': 6, 'puffy': 1, 'clean-shaven': 2, 'flaxen': 6, 'spectacles': 1, 'twenty-seven': 1, 'spick': 1, 'span': 1, 'irreproachable': 1, 'watch-chain': 2, 'massive': 2, 'nonchalant': 1, 'studiously': 1, 'self-importance': 1, 'tedious': 1, 'depressed': 4, 'cried.': 1, 'aching': 2, 'irritably': 15, 'mushrooms': 1, 'cucumbers': 1, 'medicine': 4, 'Palais': 6, 'Cristal.': 1, 'disturb': 6, 'nuisance': 1, 'house-warming': 2, 'to-night': 4, 'Couldn': 5, 'promised.': 1, 'herrings': 1, 'friends.': 2, 'years.': 1, 'stagnating': 1, 'postmaster': 1, 'sixty-five': 1, 'Porfiry': 204, 'Investigation': 1, 'Department': 1, 'distant': 4, 'Because': 14, 'teacher': 2, 'musician': 1, 'Zametov.': 3, 'nodded': 7, 'Principles': 1, 'principles': 5, 'springs': 1, 'principle': 7, 'delightful': 4, 'person.': 2, 'bribes.': 1, 'bribes': 2, 'praise': 2, 'ways': 15, 'shouldn': 12, 'baked': 1, 'onion': 1, 'in.': 5, 'repel': 2, 'improve': 1, 'repelling': 1, 'progressive': 5, 'dullards': 2, 'common.': 1, 'what.': 2, 'house-painter': 2, 'mess': 2, 'self-evident': 1, 'steam.': 1, 'painter': 7, 'haven': 32, 'pawnbroker-woman': 1, 'mixed': 5, 'blurted': 11, 'audibly': 4, 'Didn': 6, 'mended': 2, 'flower': 5, 'petals': 2, 'scallops': 1, 'obstinately': 5, 'displeasure': 3, 'Evidence': 2, 'prove': 13, 'pitched': 1, 'Foo': 10, 'stupidly': 5, 'curiously': 6, 'stir': 4, 'busybody': 1, 'offensive': 5, 'leads': 6, 'worship': 3, 'murderers': 2, 'logic': 2, 'detained': 3, 'swindler': 1, 'buys': 1, 'rotten': 1, 'petrified': 1, 'routine': 1, 'introducing': 3, 'method': 4, 'psychological': 7, 'data': 2, 'interpret': 3, 'tangible': 2, 'painter.': 1, 'Early': 2, 'dandling': 1, 'accounted': 1, 'pikestaff': 1, 'Dushkin': 8, 'dram-shop': 1, 'jeweller': 1, 'containing': 2, 'rigamarole': 1, 'journeyman': 1, 'Nikolay': 64, 'more.': 3, 'quicker': 6, 'rumours': 6, 'police.': 1, 'taradiddle': 1, 'receiver': 1, 'stolen': 6, 'cheat': 1, 'thirty-rouble': 1, 'trinket': 1, 'Dementyev': 1, 'Zaraïsk': 1, 'Ryazan': 1, 'drinks': 1, 'painting': 5, 'Dmitri': 48, 'village': 3, 'glasses': 3, 'spree': 2, 'daybreak': 6, 'stayed': 10, 'finishing': 3, 'tale': 6, 'sober': 3, 'Peski': 2, 'Kolomensky': 2, 'men.': 1, 'signed': 6, 'darted': 5, 'Hear': 1, 'searched': 3, 'dram': 2, 'cowshed': 1, 'stable': 1, 'adjoining': 2, 'sash': 1, 'beam': 1, 'screeched': 1, 'hardest': 2, 'such-and-such': 3, 'everything.': 2, 'escort': 4, 'twenty-two': 1, 'folks': 4, 'special.': 2, 'Widow': 2, 'So-and-so': 1, 'robbed': 5, 'Pavlovitch': 1, 'pavement.': 1, 'drinking.': 1, 'place.': 2, 'frightened.': 2, 'accused.': 1, 'guilt': 3, 'literally': 8, 'evidence.': 1, 'squeezed': 14, 'Dmitri.': 1, 'swore': 10, 'sport': 2, 'escaped': 2, 'hooks': 1, 'undid': 2, 'Lying': 1, 'leaning': 3, 'repeating': 4, 'anxiety.': 1, 'deduced': 1, 'doubt.': 1, 'admit': 30, 'case.': 1, 'study': 6, 'fail': 11, 'answers': 4, 'Kryukov': 1, 'witnesses': 11, 'blocking': 1, 'thoroughfare': 2, 'sworn': 3, 'funniest': 2, 'chasing': 1, 'robbery': 4, 'squeals': 1, 'giggles': 1, 'scuffling': 2, 'axes': 1, 'bloodshed': 8, 'fiendish': 1, 'booty': 1, 'rolled': 2, 'attracting': 2, '_buts_': 1, 'constitutes': 2, 'circumstantial': 5, 'accounts': 3, '_cannot': 1, 'denied_': 1, 'irrefutable': 2, 'conclusively': 3, 'prosecution': 1, 'jewel-case': 4, 'hadn': 15, 'guilty.': 1, 'excites': 2, 'proved': 9, 'reluctance': 2, 'owner': 7, 'his.': 1, 'defence': 6, 'presumption': 1, 'rate': 3, 'popped': 1, 'conclusive': 4, 'Too': 3, 'melodramatic.': 1, 'A-ach': 4, 'personage': 4, 'portly': 1, 'sour': 1, 'countenance': 5, 'undisguised': 1, 'Mistrustfully': 1, 'cabin.': 1, 'dishevelled': 1, 'fixedly': 2, 'deliberation': 2, 'constrained': 3, 'scene-shifting': 1, 'Reflecting': 1, 'overawe': 1, 'civilly': 2, 'severity': 4, 'emphasising': 1, 'syllable': 3, 'anticipated': 2, 'pompous': 1, 'nodding': 4, 'prolonged': 3, 'yawn': 1, 'waistcoat-pocket': 1, 'hunter': 1, 'proceeded': 3, 'operation': 1, 'arouse': 1, 'articulated': 10, 'impressively': 4, 'wholly': 1, 'languidly': 1, 'embarrassment': 9, 'presumed': 1, 'posted': 5, 'chosen': 5, 'Reaching': 2, 'suspiciously': 5, 'nursing': 1, 'invalid': 7, 'N-no': 6, 'yawned': 1, 'familiarity': 4, 'unaffected': 1, 'good-nature': 1, 'shabby': 7, 'introduced': 3, 'shrugged': 2, 'commenced': 1, 'sojourning': 1, 'purposely': 4, 'elapse': 1, 'tidings': 1, 'impatient': 9, '_fiancé_': 5, 'fiancé': 2, 'applied': 2, 'rig': 1, 'expectation': 4, 'betrothed': 17, 'permissible': 4, 'proceeding': 1, 'complacent': 1, 'rôle': 3, 'tailor': 2, 'appropriate': 2, 'stylish': 1, 'respectfully': 4, 'exquisite': 1, 'lavender': 1, 'Louvain': 1, 'Light': 1, 'predominated': 1, 'charming': 5, 'jacket': 2, 'fawn': 1, 'lightest': 1, 'cambric': 2, 'pink': 2, 'stripes': 1, 'suited': 4, 'mutton-chop': 2, 'hairdresser': 1, 'inevitably': 1, 'suggesting': 1, 'wedding-day': 1, 'unpleasing': 1, 'repulsive': 3, 'imposing': 1, 'causes': 9, 'hardened': 1, 'determine': 2, 'oddities': 1, 'earlier': 6, 'preoccupations': 1, 'conjecture': 4, 'minute.': 3, 'Any': 3, 'arrival.': 1, 'Bakaleyev': 8, 'house.': 1, 'Voskresensky': 1, 'Yushin': 1, 'Things': 1, 'scandalous': 1, 'replied': 13, 'huffily': 2, 'However': 7, 'permanent': 5, 'Andrey': 21, 'Madame': 15, 'Ministry': 1, 'inquiry': 7, 'guardian': 1, 'learns': 1, 'novelties': 1, 'reforms': 1, 'views': 1, 'criticism': 4, 'practicality': 2, 'Nonsense': 4, 'practicality.': 1, 'Practicality': 2, 'divorced': 1, 'Ideas': 1, 'fermenting': 1, 'exists': 5, 'honesty': 3, 'brigands': 1, 'shod.': 1, 'indulgence': 1, 'abnormal': 4, 'external': 4, 'environment': 9, 'accomplished': 1, 'New': 5, 'circulating': 1, 'dreamy': 5, 'Literature': 2, 'maturer': 1, 'injurious': 1, 'ridicule': 2, 'hastened': 17, 'interpose': 1, 'Isn': 12, 'superciliousness': 1, 'economic': 2, 'commonplace.': 1, 'commonplace': 4, 'Hitherto': 1, 'thy': 2, 'neighbour': 6, 'excessive': 5, 'naked': 1, 'proverb': 2, 'hares': 1, 'one.': 5, 'Science': 1, 'tells': 3, 'rests': 2, 'self-interest': 2, 'manage': 7, 'remains': 3, 'Economic': 2, 'adds': 1, 'organised': 3, 'firmer': 1, 'foundations': 2, 'welfare': 2, 'Therefore': 1, 'acquiring': 2, 'wealth': 4, 'solely': 8, 'liberality': 1, 'consequence': 13, 'unhappily': 2, 'hindered': 2, 'idealism': 1, 'sentimentality': 2, 'wit': 11, 'perceive': 4, 'chattering': 2, 'incessant': 1, 'flow': 3, 'commonplaces': 1, 'blush': 2, 'exhibit': 1, 'acquirements': 1, 'pardonable': 1, 'unscrupulous': 1, 'mire': 1, 'suggest': 3, 'continue': 2, 'disavowal': 1, 'closer': 6, 'Above': 5, 'health': 7, 'doesn': 24, 'Examining': 1, 'Nothing.': 1, 'names': 3, 'wrappers': 1, 'themselves.': 1, 'practised': 3, 'ruffian': 1, 'boldness': 1, 'coolness': 2, 'supposition': 3, 'inexperienced': 2, 'foresee': 2, 'jewels': 3, 'ransacked': 1, 'trunks': 1, 'notes': 17, 'rob': 7, 'counsel': 1, 'departing': 1, 'intellectual': 5, 'vanity': 10, 'overcame': 2, 'neighbourhood.': 1, 'increase': 1, 'classes': 3, 'arson': 1, 'strikes': 1, 'strangest': 3, 'increasing': 4, 'proportionately': 1, 'hears': 1, 'robbing': 2, 'mail': 2, 'social': 11, 'forge': 3, 'banknotes': 1, 'gang': 3, 'captured': 1, 'lottery': 3, 'tickets': 2, 'ringleaders': 1, 'lecturer': 2, 'motive': 12, 'demoralisation': 1, 'civilised': 1, 'inveterate': 2, 'impracticality.': 1, 'forging': 1, 'Everybody': 1, 'exact': 3, 'upshot': 1, 'ready-made': 1, 'crutches': 1, 'chewed': 1, 'colours.': 1, 'emancipation': 2, 'serfs': 2, 'NOTE': 2, 'morality': 2, 'accordance': 4, 'logically': 2, 'advocating': 1, 'follows': 4, 'lip': 8, 'superciliously': 2, 'incitement': 1, '_fiancée_': 1, 'acceptance': 1, 'reproach': 6, 'crimson': 9, 'distort': 1, 'report': 4, 'foundation': 5, 'arrow': 2, 'excellent': 6, 'qualities': 7, 'miles': 2, 'misunderstand': 3, 'misrepresent': 2, 'fanciful': 2, 'fixing': 1, 'piercing': 3, 'Silence': 2, 'restrain': 14, 'ill-disposed': 1, 'connection': 4, 'hell': 5, 'curve': 1, 'tormenting': 3, 'overtake': 3, 'mustn': 13, 'irritated.': 3, 'gather': 1, 'respond': 1, 'fainted.': 1, 'inflammation': 1, 'though.': 2, 'Thanks': 3, 'lingered': 3, 'Won': 4, 'sleepy': 1, 'panic': 4, 'precise': 4, 'To-day': 5, 'spiritual': 2, 'self-confidence': 3, 'samovar': 5, 'dizzy': 2, 'savage': 3, 'energy': 4, 'wasted': 11, 'that_.': 1, 'dark-haired': 1, 'barrel': 1, 'organ': 8, 'accompanying': 1, 'crinoline': 3, 'mantle': 2, 'flame-coloured': 3, 'feather': 8, 'coarsened': 1, 'sang': 2, 'copeck': 3, 'grinder': 1, 'music': 2, 'middle-aged': 2, 'idly': 1, 'startled': 4, 'snow': 1, 'lamps': 1, 'Recognising': 1, 'gaping': 2, 'corn': 1, 'chandler': 1, 'booth': 1, 'christened.': 1, 'Aren': 4, 'Zaraïsky': 1, 'Which': 8, 'Graciously': 1, 'billiard-room': 1, 'princesses': 1, 'La-la': 1, 'dense': 1, 'thickest': 1, 'inclination': 2, 'groups': 3, 'V.': 2, 'angle': 3, 'market-place': 2, 'Sadovy': 2, 'Street': 4, 'wander': 1, 'buildings': 1, 'eating-houses': 1, 'bare-headed': 2, 'indoor': 2, 'entrances': 1, 'din': 1, 'tinkling': 1, 'guitar': 2, 'shouts': 4, 'merriment': 2, 'thronging': 1, 'swearing': 1, 'throng': 1, 'husky': 2, 'blackened': 2, 'saloon': 5, 'dancing': 5, 'marking': 1, 'falsetto': 1, 'gloomily': 11, 'trilled': 1, 'singer': 1, 'musical': 1, 'compliment': 1, 'bass': 1, 'generals': 1, 'snub': 1, 'noses': 3, 'jolly': 2, 'are.': 2, 'sweetie': 1, 'hesitated': 4, 'Ask': 3, 'Duclida.': 1, 'Duclida': 1, 'pock-marked': 1, 'wench': 3, 'bruises': 1, 'thinks': 7, 'rock': 2, 'ledge': 1, 'tempest': 2, 'eternity': 5, 'Life': 4, 'Cristal': 5, 'newspapers': 2, 'spacious': 1, 'champagne': 10, 'waiter': 4, 'something.': 1, 'items': 1, 'accident': 10, 'spontaneous': 2, 'combustion': 1, 'shopkeeper': 1, 'alcohol': 1, 'additions': 2, 'curly': 1, 'humour': 3, 'good-humouredly': 1, 'aside': 13, 'befriend': 1, 'winked': 4, 'Razumihin.': 3, 'places': 5, 'pouring': 3, 'fee': 10, 'profit': 6, 'slapping': 1, 'workman': 14, 'do.': 4, 'unwell': 2, 'oughtn': 1, 'fires.': 2, 'mysteriously': 2, 'twisted': 3, 'winking': 3, 'Mayn': 2, 'sixth': 1, 'gymnasium': 3, 'Sixth': 1, 'cock-sparrow': 3, 'delirious.': 1, 'fibbing': 1, 'Suspicious': 1, 'prick': 4, 'deposition': 1, 'depose': 1, 'screwed': 6, 'heeding': 1, 'Understand': 3, 'mock': 1, 'stunned': 1, 'thoughtful': 5, 'melancholy': 7, 'Tea': 1, 'sipped': 2, 'morsel': 1, 'resumed': 2, 'original': 7, '_Moscow': 1, 'News_': 1, 'coiners': 1, 'criminals.': 1, 'simpletons': 2, 'blab': 1, 'collapses': 1, 'Simpletons': 1, 'untrustworthy': 1, 'casual': 2, 'million': 3, 'Each': 4, 'count': 7, 'crash': 1, 'things.': 1, 'Shivers': 1, 'forwards': 1, 'half-way': 2, 'fifty-rouble': 1, 'seventh': 1, 'pick': 6, 'Change': 1, 'stew': 1, 'example': 3, 'risked': 3, 'miracle': 7, 'Clear': 1, 'gibing': 1, 'spending': 4, 'begins': 4, 'mislead': 2, 'frowned': 5, 'enjoy': 2, 'Somewhat': 1, 'earnestness': 2, 'fences': 1, 'hundredweight': 1, 'roll': 1, 'trace.': 1, 'tablecloth': 1, 'Own': 2, 'frightening': 1, 'lead': 8, 'lieutenant': 4, 'Red': 1, 'cross-examined': 1, '_Assez': 1, 'causé': 1, 'element': 6, 'rapture': 4, 'irritating': 5, 'stimulated': 1, 'revived': 1, 'stimulus': 1, 'removed': 7, 'unwittingly': 1, 'revolution': 2, 'blockhead': 3, 'astounded': 2, 'fiercely': 2, 'Confess': 2, 'Alone': 2, 'Idiot': 2, 'tie': 1, 'benevolence': 3, 'benefits': 2, 'feels': 4, 'plainly': 5, 'hindering': 1, 'persecute': 1, 'kindness': 5, 'ungrateful': 4, 'gloating': 3, 'venomous': 1, 'roared': 7, 'babbling': 1, 'posing': 1, 'idiots': 1, 'brood': 2, 'plagiarists': 1, 'spermaceti': 1, 'ointment': 1, 'lymph': 1, 'veins': 1, 'unlike': 7, 'guests': 5, 'weren': 6, 'snug': 2, 'No.': 3, 'R-rubbish': 1, 'patience': 6, 'Thousands': 1, 'fought': 3, 'tooth': 2, 'Potchinkov': 5, 'anybody': 3, 'sheer': 1, 'benevolence.': 1, 'Whom': 6, 'Me': 7, 'Babushkin': 2, 'Confound': 4, 'madmen': 3, 'of.': 2, 'blunder': 1, 't.': 4, 'rail': 1, 'weaker': 1, 'sunset': 6, 'gathering': 3, 'twilight': 2, 'attic': 2, 'flashing': 6, 'rays': 1, 'darkening': 2, 'circles': 4, 'uncanny': 1, 'sunken': 2, 'parapet': 1, 'drowning': 6, 'current': 4, 'inflated': 1, 'balloon': 3, 'thronged': 1, 'spectators': 4, 'Afrosinya': 1, 'tearfully': 2, 'boat': 3, 'pole': 1, 'granite': 1, 'embankment': 1, 'sneezing': 1, 'wiping': 3, 'wailed': 6, 'Out': 3, 'indifference': 3, 'apathy': 3, 'disgusted': 2, 'depression': 1, 'all.': 3, 'Complete': 2, 'listlessly': 2, 'head.': 2, 'prompting': 2, 'framework': 1, 'let.': 1, 'amaze': 1, 'corpses': 1, 'window-sill': 2, 'papering': 1, 'lilac': 1, 'annoyed': 6, 'rolling': 2, 'elder': 11, 'preening': 1, 'prinking': 1, 'Tit': 1, 'Vassilitch': 1, 'regarded': 5, 'coloured': 1, 'Saturday': 1, 'post': 7, 'male': 1, 'sex': 2, 'female': 3, 'fluffles': 1, 'fancy.': 1, 'enthusiastically': 1, 'Except': 4, 'sententiously': 2, 'Instead': 3, 'answering': 4, 'agonisingly': 2, 'round.': 1, 'Alyoshka': 1, 'course.': 1, 'Shil': 1, 'Number': 2, 'lazy': 3, 'jerked': 1, 'tones': 1, 'along.': 1, 'funk': 2, 'jeeringly': 1, 'rogue': 5, 'belt': 1, 'cross-roads': 6, 'elegant': 2, 'bridle': 1, 'lantern': 2, 'misfortune': 6, 'commotion': 1, 'flowing': 2, 'mutilated': 1, 'disfigured': 1, 'injured': 11, 'Merciful': 3, 'confirmed': 4, 'belonged': 7, 'awaiting': 6, 'hospital.': 1, 'legitimate': 1, 'volunteered': 1, 'foremost': 2, 'Turn': 2, 'Polenka': 44, 'strove': 1, 'motionless': 4, 'toes': 2, 'pouting': 1, 'wide-open': 1, 'screen': 3, 'relieve': 2, 'thinner': 2, 'brighter': 2, 'papa': 5, 'Papa': 1, 'colonel': 6, 'Mihailovitch': 1, 'cursed': 4, 'ball': 4, 'marshal': 1, 'Princess': 1, 'Bezzemelny': 1, 'breaking-up': 1, 'mend': 1, 'tear': 3, 'darn': 1, 'cough': 16, 'bigger': 3, 'Prince': 2, 'Schegolskoy': 1, 'kammerjunker': 1, 'mazurka': 1, 'thanked': 2, 'expressions': 3, 'Polya': 1, 'Lida': 22, 'wash': 4, 'vagabond': 1, 'dish-clout': 1, 'Cough': 3, 'Put': 2, 'Run': 5, 'Drunk': 1, 'terrified': 3, 'Having': 4, 'despairingly': 2, 'swoon': 1, 'placed': 2, 'biting': 4, 'screams': 1, 'induced': 3, 'assuring': 1, 'Haven': 7, 'towel': 4, 'oftener': 1, 'uncleanliness': 1, 'preferred': 5, 'shawl.': 2, 'fastest': 1, 'relapsed': 2, 'dumb': 8, 'rigidity': 1, 'pin': 1, 'lodgers': 19, 'streamed': 2, 'overflowed': 1, 'gape': 1, 'reproaches': 5, 'awe': 1, 'exempt': 3, 'sincerest': 1, 'Voices': 1, 'disturbance': 2, 'rushing': 6, 'vent': 1, 'wrath': 1, 'quarrelsome': 1, 'irresponsible': 2, 'clasping': 4, 'trampled': 1, 'Ludwigovna': 10, 'beg': 29, 'haughtily': 3, 'despicable': 6, 'flatterers': 1, 'audible': 3, 'warn': 9, 'Governor-General': 1, 'conduct': 7, 'prince': 2, 'remembers': 2, 'protectors': 1, 'abandoned': 10, 'connections': 8, 'rapidity': 4, 'eloquence': 1, 'groan': 1, 'recognition': 1, 'oozed': 1, 'corners': 4, 'recognising': 3, 'sad': 10, 'trickled': 1, 'huskily': 1, 'exclaimed': 5, 'obeyed': 2, 'favourite': 4, 'A-ah': 4, 'Barefoot': 1, 'barefoot': 2, 'indicating': 3, 'barefooted.': 1, 'relieved': 4, 'bared': 1, 'gashed': 1, 'fractured': 1, 'sinister-looking': 1, 'yellowish-black': 1, 'bruise': 1, 'cruel': 8, 'hoof': 1, 'wheel': 1, 'immediately.': 1, 'bleed': 2, 'minutes.': 1, 'then.': 2, 'useless.': 1, 'sacrament': 2, 'exchanging': 2, 'glances': 4, 'confession': 15, 'indistinct': 1, 'kneel': 3, 'kneeling': 2, 'rhythmically': 1, 'precision': 2, 'afford': 1, 'especial': 1, 'cover': 2, 'ceasing': 1, 'denser': 2, 'Timidly': 1, 'midst': 4, 'decked': 1, 'gutter': 5, 'finery': 2, 'unmistakably': 1, 'betraying': 1, 'fourth-hand': 1, 'gaudy': 2, 'ridiculous': 12, 'train': 11, 'light-coloured': 1, 'flaring': 1, 'rakishly-tilted': 1, 'admonition': 1, 'merciful': 5, 'High': 2, 'succour': 1, 'sin': 9, 'madam': 8, 'compensate': 3, 'earnings.': 1, 'sin.': 1, 'sweat': 4, 'Forgive': 7, 'sousing': 1, 'rinsing': 1, 'drying': 1, 'darning': 1, 'forgiveness': 11, 'peremptorily': 1, 'Lie': 2, 'do-own': 1, 'propping': 1, 'humiliation': 1, 'good-bye': 23, 'Daughter': 1, 'downwards': 3, 'bury': 1, 'reverence': 2, 'devoted': 7, 'repay': 6, 'jostled': 1, 'Try': 1, 'lamplight': 1, 'compared': 4, 'pardoned': 1, 'Halfway': 1, 'greeting': 3, 'message': 6, 'breathless': 7, 'Sister': 1, 'Mamma': 1, 'Polenka.': 1, 'graver': 1, 'naïvely': 3, 'tear-stained': 1, 'brushing': 1, 'misfortunes': 2, 'sedate': 1, 'grown-up': 2, 'presents': 7, 'grammar': 1, 'scripture': 1, 'began.': 1, 'Kolya': 16, 'Ave': 1, 'Maria': 1, 'father.': 2, 'Pray': 2, 'hugged': 2, 'enchanted': 1, 'imaginary': 1, 'phantoms': 1, 'Kingdom': 1, 'reign': 1, 'defiantly': 1, 'challenging': 2, 'win': 3, 'Strength': 1, 'proudly': 1, 'self-confidently': 1, 'flagging': 1, 'Pride': 2, 'woman.': 1, 'emergency': 1, 'boyish': 1, 'sally': 2, 'Half-way': 1, 'animated': 3, 'samovars': 2, 'dishes': 4, 'savouries': 1, 'amount': 5, 'liquor': 1, 'perceptibly': 2, 'affected': 7, 'to-morrow.': 1, 'visitors': 9, 'curly-headed': 2, 'Goodness': 2, 'invaluable': 1, 'introduce': 6, 'stuff': 5, 'Zossimov.': 1, 'brightened': 1, 'powder.': 1, 'considerable': 10, 'afternoon': 4, 'Live': 2, 'needn': 3, 'thirdly': 3, 'specialty': 2, 'surgery': 1, 'mental': 4, 'diseases': 2, 'hatched': 1, 'bubble': 1, 'thrashing': 3, 'ticklish': 1, 'fainting': 8, 'testifies': 1, 'convulsions': 1, 'masterly': 2, 'irritated': 11, 'death-bed': 1, 'Through': 8, 'Queer': 1, 'witness.': 1, 'dumbfoundered': 1, 'arrive': 2, 'plying': 1, 'Heavens': 3, 'greeted': 1, 'thunderbolt': 4, 'clasped': 8, 'tottered': 1, 'Anxiety': 1, 'moans': 1, 'trifle': 3, 'Water': 3, 'dislocated': 1, 'bend': 1, 'again.': 11, 'gratitude': 6, 'Providence': 7, 'competent': 5, 'Pulcheria': 123, 'Alexandrovna': 123, 'consolations': 1, 'revealed': 1, 'insane': 6, 'induce': 3, 'content': 1, 'presiding': 1, 'distressing': 1, 'evident.': 1, 'interrupting': 4, 'muddled': 7, 'today': 1, 'reporting': 1, 'suspense': 3, 'Brother': 6, 'impetuously': 1, '_my_': 1, 'hasty': 3, 'tipsily': 1, 'learning': 3, 'crest-fallen': 1, 'Rodya.': 2, 'infamy': 2, 'act': 8, 'Despot': 1, 'home.': 2, 'irritate': 5, 'staying': 9, 'blackguard': 2, 'beseech': 2, 'quantities': 1, 'imbibed': 1, 'bordering': 1, 'persuading': 2, 'plainness': 1, 'emphasise': 1, 'vise': 3, 'bony': 1, 'paws': 1, 'jump': 3, 'eccentric': 5, 'peculiarities': 1, 'timorous': 1, 'disposition': 2, 'unbounded': 2, 'Ten': 2, 'considerably': 2, 'reassured': 5, 'twinkling': 1, 'reports': 2, 'jealous': 6, 'Fly': 1, 'hour.': 1, 'strolled': 1, 'unworthy': 4, 'pailfuls': 1, 'Last': 6, 'argument': 4, 'argue': 1, 'trash': 5, 'preside': 1, 'individualism': 1, 'fuel': 2, 'flames': 1, 'privilege': 1, 'creation': 5, 'error': 3, 'err': 1, 'Talk': 2, 'Truth': 1, 'examples': 4, 'invention': 2, 'ideals': 2, 'aims': 4, 'liberalism': 1, 'preparatory': 1, 'prefer': 3, 'transport': 1, 'fount': 1, 'purity': 5, 'perfection': 1, 'entreat': 2, 'homage': 3, 'scoundrel.': 1, 'sincerely': 11, 'daren': 2, 'barber': 1, 'spy': 1, 'speculator': 1, 'skin-flint': 1, 'buffoon': 2, 'puppy': 1, 'bullock': 1, 'corridor': 10, 'run.': 1, 'aid': 1, 'depend': 4, 'Tears': 2, 'unhinged': 9, 'reason.': 1, 'consoled': 1, 'probing': 2, 'infatuation': 2, 'justified': 2, 'pensive': 1, 'strikingly': 2, 'well-proportioned': 1, 'self-reliant': 1, 'quality': 2, 'detract': 1, 'grace': 1, 'softness': 2, 'resembled': 1, 'described': 8, 'lighter': 2, 'healthy': 1, 'pallor': 2, 'radiant': 3, 'vigour': 1, 'projected': 1, 'irregularity': 1, 'gay': 3, 'lighthearted': 1, 'simple-hearted': 3, 'giant': 1, 'transfigured': 1, 'quiver': 3, 'insolent': 5, 'Although': 2, 'forty-three': 1, 'retained': 2, 'serenity': 1, 'sensitiveness': 1, 'sincere': 4, 'preserve': 4, 'retaining': 1, 'grow': 4, 'crow': 1, 'wrinkles': 2, 'projecting': 1, 'underlip': 1, 'emotional': 1, 'yielding': 1, 'barrier': 1, 'deepest': 3, 'Exactly': 1, 'subdued': 1, 'knocks': 1, 'grant': 5, 'fetching': 3, 'resuming': 1, 'relying': 2, 'desert': 3, 'exhilarated': 3, 'flattered': 2, 'oracle': 1, 'convincing': 3, 'comforting': 2, 'seriousness': 1, 'consultation': 2, 'display': 4, 'Remarking': 1, 'dazzling': 1, 'endeavoured': 1, 'satisfactorily': 1, 'According': 1, 'origin': 1, 'product': 1, 'apprehensions': 1, 'troubles': 1, 'Noticing': 1, 'enlarge': 2, 'theme': 3, 'insanity': 5, 'composed': 4, 'exaggerated': 10, 'monomania': 2, 'branch': 1, 'shocks': 1, 'affable': 1, 'blessings': 1, 'entreaties': 3, 'report.': 1, 'licking': 1, 'Fetching': 1, 'struggling': 3, 'another.': 2, 'folly.': 1, 'failings': 1, 'feeble': 2, 'wretch': 13, 'whims': 1, 'slack': 1, 'patients': 4, 'Hard': 1, 'modesty': 3, 'bashfulness': 2, 'melting': 2, 'Save': 1, 'unholy': 1, 'smitten': 2, 'rot': 1, 'curing': 2, 'strum': 1, 'tears.': 1, 'performer': 1, '_maître_': 1, 'Rubinstein': 1, 'attraction': 2, 'brother.': 2, 'mathematics': 2, 'teaching': 2, 'integral': 1, 'calculus': 1, 'gaze': 2, 'Prussian': 2, 'Lords': 1, 'perspired': 1, 'hysterics': 2, 'comfortable': 1, 'careful.': 1, 'reminded': 6, 'feather-bed': 1, 'anchorage': 1, 'navel': 1, 'fishes': 1, 'essence': 1, 'pancakes': 4, 'savoury': 1, 'fish-pies': 1, 'sighs': 1, 'stoves': 1, 'advantages': 2, 'bedtime': 1, 'troubled': 8, 'confronted': 2, 'unlooked-for': 2, 'novel': 2, 'befallen': 1, 'fired': 3, 'cares': 3, 'bequeathed': 1, 'thrice': 1, 'jealousy': 1, 'obligations': 4, 'criticise': 1, 'unguarded': 2, 'thinkable': 1, 'furnishing': 1, 'justification': 2, 'uncleanness': 1, 'envious': 2, 'noisy': 1, 'braggart': 3, 'cynical': 2, 'juxtaposition': 1, 'blushed': 5, 'desperately': 1, 'self-abasement': 1, 'infamies': 1, 'smoothed': 4, 'cynic': 3, 'sloven': 1, 'offend': 1, 'brushed': 2, 'scrupulously': 1, 'shave': 1, 'stubbly': 1, 'razors': 1, 'negative': 2, 'pothouse': 2, 'admitting': 3, 'essentials': 1, 'dishonest': 2, 'parlour': 2, 'dormouse': 1, 'cure': 4, '_they_': 1, 'I.': 3, 'confessor': 1, 'plenty': 7, 'worries': 4, 'insane.': 1, 'monomaniac': 2, 'mole-hill': 1, 'realities': 1, 'mystery': 6, 'hypochondriac': 2, 'frantic': 9, 'starting-point': 1, 'bother': 3, 'chatterbox': 1, 'Porfiry.': 2, 'annoyance': 10, '_bonjour_': 1, 'vouchsafed': 3, 'risen': 3, 'awkwardly': 3, 'host': 1, 'friendliness': 1, 'ill-disguised': 1, 'Fortunately': 2, 'Hearing': 2, 'beforehand.': 1, 'breakfast': 1, 'invitation': 5, 'disorderly': 3, 'vigorously': 3, 'stream': 3, 'concluding': 2, 'omitted': 2, 'consequences': 2, 'Prokofitch.': 1, 'Prokofitch': 23, 'dislikes': 1, 'Naturally': 1, 'inhumanly': 1, 'callous': 1, 'alternating': 1, 'characters': 2, 'reserved': 2, 'hindrance': 1, 'hasn': 10, 'beneficial': 1, 'compressed': 4, 'transparent': 3, 'scarf': 1, 'belongings': 1, 'queen': 4, 'diffident': 1, 'impartially': 3, 'uncritically': 1, 'decisively': 1, 'crab': 1, 'piqued': 1, 'moody': 1, 'capricious': 1, 'disregarded': 5, 'strange.': 1, 'liking': 3, 'ugly': 7, 'inexplicable': 4, 'matters.': 1, 'briefly': 2, 'rejoiced': 1, 'tentatively': 1, 'consternation': 1, 'openly': 16, 'blamed': 6, 'intentionally': 4, 'score': 5, 'dejected': 4, 'vulgar': 3, 'deigned': 1, 'disgustingly': 2, 'crimsoned': 2, 'faltering': 3, 'emphatically': 6, 'announcing': 1, 'advise': 3, 'opinion.': 1, 'dated': 1, 'Dear': 3, 'Madam': 3, 'unforeseen': 1, 'rendered': 1, 'likewise': 1, 'deprived': 1, 'intrude': 1, 'respects': 5, 'herewith': 1, 'imperative': 1, 'gross': 2, 'unprecedented': 1, 'affront': 2, 'occasion': 9, 'personally': 7, 'indispensable': 3, 'anticipation': 3, 'compelled': 3, 'withdraw': 4, 'assumption': 1, 'belief': 2, 'testimony': 2, 'notorious': 5, 'gravely': 3, 'pains': 1, 'Herewith': 1, 'respectful': 4, 'humble': 4, 'P': 1, 'LUZHIN.': 1, 'refusing': 3, 'Act': 1, 'stratagem': 1, 'enamelled': 1, 'Venetian': 1, 'flutter': 2, 'escorting': 1, 'prison': 32, 'inch': 2, 'sumptuous': 2, 'banquets': 1, 'levées.': 1, 'dozed': 1, 'blaming': 3, 'omen': 2, 'providence': 2, 'bruised': 1, 'overjoyed': 2, 'weaknesses': 1, 'frown': 1, 'distress': 11, 'caressing': 1, 'slam': 1, 'cheerfully': 1, 'follow': 15, 'listless': 2, 'brows': 4, 'knitted': 3, 'performing': 6, 'restlessness': 3, 'sling': 1, 'bandage': 1, 'dejection': 6, 'zest': 2, 'practise': 2, 'sore': 1, 'controlling': 2, '_as': 1, 'yesterday_': 1, 'pressure': 2, 'tentative': 1, 'impress': 1, 'elementary': 1, 'fundamental': 3, 'tending': 1, 'produce': 6, 'cured': 1, 'stage': 3, 'coincides': 1, 'occupation': 3, 'aim': 5, 'beneficial.': 1, 'sage': 1, 'mystified': 1, 'mockery': 3, 'thanking': 3, 'journey.': 1, 'Setting': 2, 'referring': 2, 'weighs': 1, 'candidly.': 1, 'Assume': 1, 'patients.': 1, 'trouble.': 2, 'penetration': 1, 'unfeigned': 1, 'thankful': 1, 'ecstatic': 2, 'unspoken': 1, 'reconciliation': 2, 'exaggerating': 2, 'vigorous': 5, 'movements.': 1, 'impulses': 1, 'delicately': 2, 'Vasya': 1, 'rush': 9, 'hug': 3, 'Fancy': 2, 'Potanchikov': 1, 'court-yard': 2, 'plaintively': 1, 'recollecting': 2, 'annoying': 3, 'preoccupied': 5, 'inattentive': 2, 'first.': 1, 'reconciled': 5, 'rite': 1, 'dressed.': 1, 'Delirious': 2, 'carefulness': 1, 'actions': 6, 'dream.': 1, 'infrequently': 1, 'madder': 1, 'with.': 1, 'carelessly': 3, 'meditating': 3, 'unpardonable': 3, '_Crevez': 1, 'chiens': 1, 'si': 1, 'vous': 3, 'n': 2, 'êtes': 1, 'pas': 2, 'contents_.': 1, 'sarcastically': 5, 'praiseworthy': 1, 'overstep': 8, 'unhappier': 2, 'twisting': 5, 'constraint': 1, 'her.': 4, 'A-a-h': 1, 'encouraged': 2, 'dreadfully.': 1, 'considerate': 1, 'patience.': 1, 'defending': 3, 'harnessed': 1, 'bath-house': 1, 'undergoing': 1, 'treatment': 7, 'baths': 1, 'bathe': 1, 'regularly': 2, 'stroke': 1, 'H': 5, 'stairs.': 1, 'convulsion': 1, 'Hush': 7, 'deadly': 4, 'perceptible': 2, '_speak_': 1, 'clutching': 2, 'distrustfully': 3, 'bows': 2, 'well-educated': 1, 'surprising': 6, 'liveliness': 1, 'protested': 5, 'blushing': 4, 'talking.': 1, 'expensive': 1, 'Hardly': 1, 'unreasonably': 1, 'yet.': 1, 'dear.': 1, 'nunnery': 1, 'hunchback': 1, 'delirium.': 1, 'intent': 4, 'away.': 2, 'tomb': 1, 'oppressive': 5, 'melancholy.': 1, 'companionship': 1, 'endurance': 1, 'urgent': 3, 'drily': 2, 'cease': 4, 'sister.': 3, 'mournfully': 3, 'dryness': 1, 'useful': 2, 'vindictively': 1, 'Proud': 1, 'hate': 12, 'evils': 1, 'intend': 7, 'honestly': 1, 'expects': 2, 'deceiving': 1, 'Within': 1, 'limits': 1, 'courtship': 1, 'esteems': 3, 'feminine': 2, 'obstinacy': 1, 'acting': 2, 'basely': 1, 'vileness': 2, 'merciless': 1, 'heroism': 1, 'despotism': 2, 'tyranny': 1, 'committing': 2, 'fuss': 2, 'Marry': 1, 'puzzled': 3, 'surprises': 1, 'lawyer': 10, 'pretentious': 1, 'uneducated': 3, 'letter.': 1, 'consulted': 1, 'jargon': 2, 'courts': 1, 'Legal': 2, 'documents': 1, 'frivolous': 1, 'apropos': 6, 'threat': 5, 'equivalent': 1, 'abandon': 3, 'disobedient': 1, 'summoning': 2, 'resent': 1, 'animation': 3, 'skill': 1, 'coarser': 2, 'disillusion': 1, 'contemptible': 16, 'dissension': 2, 'eagerness': 3, 'esteem': 3, 'resolution': 5, 'businesslike': 3, 'inviting': 2, 'concealment': 1, 'deception': 4, 'modestly': 2, 'poorly-dressed': 1, 'modest': 1, 'frightened-looking': 1, 'Unexpectedly': 1, 'shyness': 4, 'retreat': 3, 'confused': 5, 'behaviour.': 2, 'protesting': 2, 'calumny': 2, 'declaring': 2, 'vaguely': 2, 'fleetingly': 1, 'pang': 7, '_familiar_': 1, 'inconceivable': 1, 'disturbing': 5, 'falteringly': 1, 'Mitrofanievsky': 1, 'stammered': 1, 'finish': 5, 'angry.': 1, 'cemetery': 6, 'begs': 1, 'lunch.': 1, 'lunch': 4, 'funeral.': 3, 'During': 3, 'irregular': 5, 'angular': 2, 'kindliness': 1, 'childishness': 1, 'coffin': 7, 'tomb.': 1, 'fussily': 2, 'to.': 2, 'dining': 3, 'greet': 2, 'await': 2, 'attentive': 3, 'courteous': 1, 'discomfort': 1, 'courtesy': 1, 'hand.': 2, 'brightness': 1, 'forgiven.': 1, 'jealously': 1, 'portrait': 4, 'hot-tempered': 1, 'egoist': 2, 'store': 3, 'sinks': 1, 'breaks': 1, 'incautiously': 1, 'shut-up': 1, 'push': 2, 'presentiments': 1, 'introduces': 1, 'nonsense.': 2, 'slanderer': 2, 'depart': 2, 'secrets': 7, 'managing': 1, 'keepsake': 1, 'quaking': 1, 'dinner.': 1, 'splendidly': 2, 'man.': 5, 'live.': 1, 'remember.': 1, 'meditate': 1, 'Dimly': 1, 'noted': 5, 'Home': 1, 'broad': 10, 'spotless': 1, 'cheek-bones': 1, 'abundant': 1, 'remarkedly': 1, 'well-preserved': 1, 'preoccupation': 1, 'inscribed': 1, 'Tailor.': 1, 'altered': 1, 'Resslich': 11, 'present.': 1, 'pledged': 1, 'solicitude': 2, 'emphasis': 3, 'mentioning': 5, 'Hullo': 1, 'stake': 1, '_cleared': 1, 'up_': 2, 'range': 2, 'incredulous': 2, 'sceptical': 2, 'impose': 2, 'pooh': 1, 'apologising': 1, 'perceived': 1, 'naturally': 2, 'Carefully': 1, '_carefully_': 1, 'butterfly': 2, 'flies': 2, 'ruin.': 1, 'Excited': 1, 'stung': 4, 'writhing': 1, 'sweetmeat': 1, 'awfully.': 1, 'wriggling': 1, 'schoolboy': 2, 'shamefaced': 3, 'Romeo': 3, 'Ha-ha-ha': 6, 'fiend': 2, 'foo': 2, 'suits': 1, 'cleaned': 1, 'unheard': 1, 'Bend': 1, 'Pig': 2, 'guffawing': 1, 'strode': 3, 'gawky': 1, 'awkward': 5, 'peony': 1, 'crestfallen': 1, 'ferocious': 1, 'amply': 1, 'introduction': 1, 'subdue': 1, 'assuming': 2, 'irresistibly': 2, 'ferocity': 1, 'naturalness': 1, 'strengthened': 2, 'tea-glass': 1, 'crashing': 1, 'Crown': 1, 'quoted': 2, 'overdo': 2, 'smashing': 1, 'fragments': 3, 'incredulity': 1, 'unpleasantly': 1, 'Raskolnikov.': 2, 'pleasantly': 1, 'good-morning': 1, 'bursting': 1, 'begging': 8, 'sniffed': 1, 'trodden-down': 1, 'corpulence': 1, 'shaven': 4, 'prominent': 1, 'snub-nosed': 1, 'ironical': 8, 'watery': 1, 'mawkish': 1, 'blinking': 1, 'eyelashes': 4, 'womanish': 4, 'over-serious': 1, 'embarrassing': 3, 'coherent': 1, 'charge': 10, 'feign': 1, 'funds': 1, 'pecuniary': 2, 'claiming': 1, 'financial': 2, 'irony': 3, 'screwing': 1, 'troubling': 4, 'prize': 2, 'vindictive': 5, 'well-feigned': 1, 'selfish': 1, 'grasping': 1, 'cent': 2, 'inquired': 5, 'night.': 3, 'ash-tray': 1, 'ruthlessly': 1, 'scattering': 1, 'ash': 1, 'carpet': 2, 'concerned': 8, 'Expecting': 1, 'legibly': 1, 'pencil': 2, 'observant': 1, 'Stupid': 1, 'Feeble': 1, 'still.': 1, 'changing': 3, 'repress': 1, 'backs': 1, 'midnight': 3, 'Extraordinary': 1, 'Really': 3, 'plainly.': 1, 'defiance': 2, 'dispute.': 1, 'strangled': 2, 'artfully': 2, 'dryly': 5, 'over.': 2, 'liberal': 1, 'trivialities': 1, 'boring': 2, 'last.': 2, 'Capital': 1, 'Wouldn': 5, 'whirl': 1, 'exasperation': 2, 'disguise': 2, 'tracking': 1, 'pack': 3, 'dogs': 1, 'spit': 4, 'face.': 1, 'play': 4, 'mouse': 6, 'despise': 2, 'inexperience': 1, 'nasty': 4, 'unintentional': 1, 'bluntly': 1, 'Feverish': 1, 'wink': 3, 'teasing': 2, 'foresaw': 2, 'thieves': 1, 'cleverly': 3, 'jovial': 1, 'space.': 2, 'Whether': 4, 'off.': 2, 'everyday': 2, 'socialist': 1, 'doctrine': 2, 'abnormality': 1, 'organisation': 3, 'noticeably': 1, 'pamphlets': 1, 'phrase': 9, 'normally': 2, 'righteous': 3, 'Human': 1, 'excluded': 1, 'exist': 8, 'developing': 4, 'historical': 1, 'mathematical': 2, 'organise': 1, 'sinless': 1, 'instinctively': 2, 'ugliness': 1, '_living_': 1, '_living': 1, 'soul_': 1, 'rules': 3, 'mechanics': 1, 'retrograde': 1, 'smells': 1, 'India-rubber': 1, 'servile': 1, 'revolt': 2, 'reducing': 1, 'planning': 2, 'passages': 2, 'phalanstery': 3, 'vital': 3, 'skip': 1, 'Logic': 1, 'presupposes': 1, 'possibilities': 5, 'millions': 6, 'reduce': 2, 'easiest': 1, 'solution': 4, 'seductively': 1, 'musn': 1, 'pages': 4, 'print': 4, 'drum': 3, 'punch': 2, 'preliminary': 3, 'violates': 2, 'noteworthy': 2, 'gravity': 3, 'environment.': 1, 'Church': 1, 'Great': 1, 'progressively': 1, 'Liberal': 1, 'Done': 1, 'humbugging': 1, 'gesticulating': 1, 'dissembler': 1, '_Periodical': 2, 'Review_.': 2, 'Review_': 3, '_Weekly': 3, '_Periodical_.': 1, 'printed': 5, 'amalgamated': 1, '_Periodical_': 1, 'concern': 4, 'reading-room': 1, 'initial.': 1, 'editor': 1, 'interested.': 1, 'analysed': 2, 'psychology': 11, 'crime.': 1, 'suggested': 4, 'suggestion': 3, 'breaches': 2, 'intentional': 1, 'distortion': 1, 'extraordinary.': 1, 'Ordinary': 1, 'submission': 1, 'transgress': 4, 'challenge': 3, 'contention': 1, 'stated': 2, 'contend': 2, 'morals': 1, 'hinted': 5, 'fulfilment': 1, 'discoveries': 2, 'Kepler': 1, 'Newton': 3, 'duty-bound': 1, '_eliminate_': 1, 'legislators': 1, 'leaders': 2, 'Lycurgus': 2, 'Solon': 1, 'Mahomet': 3, 'Napoleon': 11, 'exception': 2, 'transgressed': 2, 'ancestors': 1, 'sacred': 3, 'bravely': 1, 'majority': 1, 'benefactors': 3, 'guilty': 14, 'carnage': 1, 'Otherwise': 1, 'submit': 3, 'division': 1, 'acknowledge': 2, 'arbitrary': 1, '_in': 4, 'general_': 1, 'categories': 2, 'serves': 2, 'reproduce': 1, 'word_': 2, 'sub-divisions': 2, 'distinguishing': 1, 'category': 5, 'conservative': 2, 'law-abiding': 2, 'vocation': 2, 'destroyers': 2, 'destruction': 4, 'capacities': 2, 'varied': 3, 'corpse': 1, 'wade': 1, 'sanction': 5, 'wading': 1, 'dimensions': 1, 'masses': 2, 'fulfil': 3, 'justly': 2, 'pedestal': 1, 'goal': 4, 'rights': 2, '_vive': 1, 'la': 3, 'guerre': 3, 'éternelle_': 1, 'Jerusalem': 3, 'preceding': 5, 'tirade': 1, 'curiosity.': 2, 'Lazarus': 7, 'Literally.': 1, 'executed': 1, 'Triumph': 1, 'lifetime': 2, 'attain': 3, 'executing': 1, 'remark': 4, 'witty.': 1, 'exactitude': 1, 'definition': 1, 'adopt': 1, 'branded': 3, 'arises': 1, 'member': 4, 'imagines': 2, 'eliminate': 1, 'happily': 2, 'happens': 5, 'wittier': 1, 'other.': 1, 'arise': 4, 'unfortunately': 1, 'predisposition': 1, 'obedience': 1, 'playfulness': 1, 'cow': 1, '_new_': 3, 'unobserved': 2, 'despised': 4, 'reactionaries': 1, 'grovelling': 1, 'tendencies': 1, 'castigate': 1, 'conscientious': 1, 'perform': 3, 'chastise': 1, 'acts': 1, 'penitence': 1, 'edifying': 1, 'alarming': 3, 'capacity': 1, 'grades': 2, 'unfailing': 2, 'regularity': 2, 'races': 1, 'stocks': 1, 'spark': 2, 'independence': 6, 'approximately': 2, 'genius': 8, 'geniuses': 2, 'crown': 1, 'retort': 3, 'chance.': 2, 'mournful': 7, 'unconcealed': 1, 'persistent': 6, '_discourteous_': 1, 'sarcasm': 2, 'conscience_': 2, 'fanaticism': 3, '_by': 1, 'yes.': 1, 'attitude': 5, 'impertinence': 1, 'remove': 2, 'enterprise': 3, 'tries': 1, 'snare': 1, 'especially.': 1, 'Society': 1, 'protected': 6, 'prisons': 1, 'banishment': 1, 'investigators': 1, 'thief.': 1, 'deserves.': 1, 'logical': 8, 'humanity.': 1, 'prison.': 2, 'Oughtn': 1, '_ought_': 1, 'prohibition': 2, 'Pain': 1, 'sadness': 2, 'comparison': 3, 'he-he': 18, '_new': 1, 'worldly': 2, 'hardship': 1, 'act.': 1, 'Napoleons': 2, 'intonation': 2, 'amiably': 2, 'cross-examine': 1, 'officially': 3, 'seemingly': 1, 'Painters': 1, 'ransacking': 1, 'racking': 1, 'nerve': 2, 'trap': 7, 'slapped': 1, 'Deuce': 1, 'apologetically': 1, 'refute': 1, '_it_': 2, 'careless': 2, 'word.': 2, 'h': 1, 'brainless': 1, 'careless.': 1, 'mirage': 1, 'ambiguous': 4, 'floating': 3, 'impudence': 1, 'explaining': 4, 'frankly': 6, 'merest': 2, 'insinuation': 2, 'eve': 2, 'severe': 4, 'soles': 1, 'I.O.U': 1, 'Reaumur': 1, 'stomach': 1, 'downhearted': 1, 'cross-examination': 1, 'Must': 2, 'condescended': 2, 'squeeze': 3, '_that': 2, 'thing_': 1, 'novices': 1, 'flatly': 1, 'examinations': 1, 'explanation.': 1, 'detail.': 1, 'suspects': 3, 'simpler': 3, 'knave': 1, 'strangeness': 1, 'frankness': 4, 'aspects': 1, 'here.': 5, 'Say': 2, 'striding': 1, 'gritting': 1, 'lemon': 1, 'reassure': 3, 'fold': 2, 'Finding': 1, 'stud': 1, 'tangled': 1, 'wrinkled': 1, 'flabby': 1, 'discontentedly': 1, 'funny.': 1, 'meditation': 2, 'Murderer': 1, '_You_': 1, 'articulately': 1, 'stricken': 1, 'chilled': 2, 'belfry': 2, 'billiard': 2, 'cigars': 1, 'underground': 1, 'strewn': 2, 'egg-shells': 1, 'faded': 1, 'oppression': 1, 'pretended': 4, 'later.': 1, 'withdrew': 4, 'sprang': 2, 'infinitesimal': 1, 'build': 2, 'pyramid': 1, 'physically': 1, 'standstill': 1, '_Master_': 1, 'permitted': 5, 'storms': 1, 'Toulon': 2, 'massacre': 1, 'Paris': 3, '_forgets_': 1, 'army': 3, '_wastes_': 1, 'expedition': 2, 'jest': 1, 'Vilna': 1, 'altars': 1, '_all_': 3, 'flesh': 1, 'bronze': 1, 'pyramids': 1, 'Waterloo': 1, 'skinny': 1, 'hash': 1, 'digest': 2, 'inartistic': 1, 'killing': 4, 'Principle': 1, 'socialists': 1, 'industrious': 2, 'brick': 4, 'Ha-ha': 5, 'Ech': 1, 'æsthetic': 1, 'benevolent': 3, 'fleshly': 1, 'lusts': 1, 'grand': 1, 'ha-ha': 8, 'Thirdly': 1, 'aimed': 5, 'measuring': 3, 'calculating': 1, 'lice': 1, 'proposed': 5, '_I': 2, 'vulgarity': 2, 'abjectness': 1, 'prophet': 4, 'sabre': 1, 'steed': 1, 'Allah': 1, 'commands': 2, 'sets': 2, 'battery': 1, 'deigning': 1, '_to': 4, 'desires_': 1, '_She_': 1, 'Gentle': 1, 'moon': 4, 'breathlessness': 1, 'stagnant': 1, 'beckoning': 1, 'beckon': 2, 'panes': 1, 'somewhere.': 1, 'stillness': 2, 'flooded': 2, 'moonlight': 3, 'copper-red': 1, 'weaving': 1, 'hush': 5, 'snapping': 1, 'splinter': 1, 'pane': 2, 'plaintive': 2, 'buzz': 2, 'cloak': 5, 'double': 1, 'rows': 1, 'huddled': 1, 'persist': 1, 'indefinitely': 1, 'whitish': 1, 'buzzed': 1, 'want.': 1, 'oddly': 3, 'Arkady': 11, 'exclamation': 1, 'cherish': 1, 'assist': 7, 'concerning': 4, 'prejudiced': 1, 'wrongly': 1, 'persecuted': 1, 'proposals': 3, '_et': 1, 'nihil': 1, 'humanum_': 1, 'proposing': 2, 'elope': 1, 'Switzerland': 1, 'cherished': 3, 'promoting': 3, 'Reason': 1, 'frankest': 1, '_bonne': 1, 'guerre_': 1, 'unpleasantness': 7, 'apprehension': 2, 'medical': 1, 'diagnosed': 1, 'apoplexy': 1, 'contribute': 2, 'calamity': 1, 'morally': 1, 'question.': 1, 'switch': 1, 'marks': 1, 'bored': 7, 'switches': 1, 'instances': 1, 'beings': 1, 'amusement.': 1, 'linger': 1, 'harmoniously': 1, 'reactionary': 1, 'beneficent': 1, 'publicity': 1, 'nobleman': 1, '_Age_': 1, 'Nights': 1, 'golden': 1, 'provoking': 2, 'humane': 4, 'Scarcely': 1, 'adaptable': 2, 'think.': 1, 'breeding': 3, 'haughtiness': 3, 'climate': 2, 'connections.': 1, 'lounging': 1, 'consists': 1, 'forests': 1, 'meadows': 1, 'revenue': 1, 'officials': 2, 'anatomy': 2, 'Anatomy': 1, 'clubs': 1, 'Dussauts': 1, 'parades': 1, 'card-sharper': 5, 'poets': 1, 'deteriorated': 1, 'Greek': 1, 'Nezhin': 1, 'bargained': 1, 'seventy': 1, 'united': 1, 'lawful': 1, 'wedlock': 1, 'IOU': 1, 'elect': 2, 'restive': 1, 'trapped': 1, 'Women': 2, 'incompatible': 2, 'restrained': 3, 'sunrise': 1, 'Naples': 1, 'sea': 2, 'blames': 1, 'North': 2, 'Pole': 8, '_j': 1, 'ai': 1, 'le': 1, 'vin': 1, 'mauvais_': 1, 'Berg': 2, 'Garden': 1, 'passengers': 1, 'meditatively': 1, 'name-day': 1, 'decently': 2, 'approved': 1, 'over-studying.': 1, 'Missing': 1, 'ghosts': 6, 'ghosts.': 1, '_pour': 1, 'plaire_': 1, 'exactly.': 1, 'Malaya': 1, 'Vishera': 1, 'ingenuously': 1, 'talks': 2, 'silliest': 1, 'cigar': 1, 'dining-room': 1, 'cookshop': 1, 'Aniska': 2, 'dressmaker': 2, 'serf': 3, 'trained': 1, 'Petrovna.': 2, 'gracious': 3, 'tease': 2, 'choice': 2, 'people.': 1, 'rarely': 4, 'Y-yes': 1, 'Filka': 2, 'burial': 1, 'pipe': 4, 'revenge': 2, 'scamp': 1, 'sung': 4, 'ashamed.': 1, 'doctor.': 1, 'exist.': 2, 'bowing': 3, 'appears': 3, 'unreal': 1, 'fantasy.': 1, 'worlds': 1, 'completeness': 1, 'organism': 2, 'possibility': 7, 'becomes': 3, 'contact': 4, 'dies': 2, 'spiders': 2, 'bath': 1, 'juster': 1, 'Juster': 1, 'enemies': 3, 'abstract': 3, 'Wasn': 4, 'Svidrigaïlov.': 2, 'haste.': 2, 'formed': 3, 'generously': 1, 'imprudently': 1, 'psychologically': 2, 'idleness': 1, 'depravity': 5, 'depraved': 5, 'Luzhin.': 1, 'arriving': 2, 'determining': 1, 'aunt': 2, 'Before': 4, 'detest': 1, 'dished': 1, 'mediation': 1, 'disinclined': 2, 'Secondly': 1, 'ulterior': 2, 'privileged': 1, 'millionth': 1, 'fraction': 1, 'coolly': 1, 'quietly.': 1, 'impertinence.': 1, 'tiniest': 1, 'formalities': 2, 'would.': 1, 'Romanovna.': 3, 'morning.': 1, 'intrusive': 1, 'card-sharpers': 1, 'Svirbey': 1, 'Raphael': 3, '_Madonna_': 1, 'Prilukov': 1, 'album': 1, 'Viazemsky': 1, 'perhaps.': 1, 'weeks.': 1, 'landowner': 3, 'persecuting': 2, 'attentions': 1, 'Guard': 1, 'faces.': 1, 'hallucination.': 1, 'phantom.': 1, 'imagination.': 1, 'cousin': 1, 'mystify': 1, 'punctually': 3, 'welcoming': 2, 'boiling': 2, 'reeking': 1, 'blew': 2, 'slighted': 1, 'emphatic': 2, 'disobeyed': 1, 'Petrovitch.': 1, 'over-fatigued': 1, 'unavoidable': 1, 'national': 1, 'railways': 1, 'inconvenience': 2, 'disheartening': 1, 'Himself': 2, 'hostile': 3, 'sidelong': 1, 'punctiliousness': 1, 'sacks': 1, 'flour': 1, 'mute': 1, 'recourse': 3, 'item': 1, 'acquainted': 2, 'believing.': 1, 'desirous': 2, 'discovering': 1, 'lodging.': 1, 'death.': 2, 'contributed': 1, 'accelerate': 1, 'characteristics': 2, 'period': 5, 'relapse': 1, 'abjectly': 1, 'vicious': 2, 'specimen': 1, 'Solely': 1, 'exertions': 2, 'sacrifices': 1, 'involving': 1, 'homicidal': 2, 'hushed': 1, 'sums': 1, 'commissions': 1, 'niece': 1, 'deaf': 4, 'hated': 5, 'grudged': 1, 'inquest': 1, 'verdict': 2, 'suicide': 3, 'proceedings': 2, 'outraged': 1, 'established': 2, 'trusted': 1, 'statement': 6, 'thanks': 2, 'Philip': 8, 'abolition': 1, 'serfdom.': 1, 'hanged': 3, 'systematic': 1, 'persecution': 1, 'domestic': 2, 'philosopher': 1, 'behaved': 4, 'astute': 1, 'insinuating': 2, 'renewed': 4, 'debtor': 1, 'substantial': 2, 'sufficiency': 1, 'insignificant': 2, 'ephemeral': 2, 'habits.': 1, 'miserable.': 1, 'proposition': 4, 'shortly.': 1, 'urged': 2, 'propose': 1, 'afterwards.': 1, 'engagement': 2, 'pique': 2, 'mother.': 3, 'Precisely': 1, 'desired': 2, 'weighty': 3, 'Assuming': 1, 'dignified': 3, 'insistance': 1, '_should_': 1, '_will_': 1, 'apologise.': 1, 'insults': 2, 'goodwill': 1, 'overstepped': 2, 'return.': 1, 'forgiveness.': 1, 'Esteeming': 1, 'adoring': 3, 'Trust': 1, 'occupy': 1, 'impertinent': 1, 'thereby': 2, 'existing': 1, 'flushing': 1, '_whole_': 1, '_little_': 1, 'fidgeted': 1, 'reproof': 1, 'relished': 1, 'outweigh': 1, 'nevertheless': 2, 'Razsudkin': 1, 'surname': 2, 'misrepresenting': 1, 'advantageous': 1, 'conjugal': 1, 'profitable': 1, 'accusing': 1, 'malicious': 5, 'relied': 3, 'correspondence': 2, 'convince': 3, 'considerately': 1, 'Romanovitch.': 4, 'exaggerated.': 1, 'instigation.': 2, 'approvingly': 1, 'false.': 1, 'slander.': 2, 'enlarged': 1, 'alluded': 1, 'falsehood': 2, 'unfortunate.': 1, 'virtues': 3, 'stones.': 1, 'Dounia.': 4, 'lofty': 2, 'hinder': 3, 'pleasures': 1, 'intimacy': 1, 'secrets.': 1, 'withdrawing': 1, 'similar': 2, 'compromises': 1, 'else.': 2, 'delicacy': 4, 'hands.': 1, 'legacy': 1, 'Judging': 1, 'helplessness': 5, 'entrusted': 2, 'victims': 1, 'quivered': 2, 'dismissal': 1, 'Consider': 2, 'shaken.': 1, 'springing': 1, 'intervened': 1, 'stormed': 1, 'restraining': 1, 'Expenses': 1, 'conductor': 1, 'implored': 3, 'Disregarding': 1, 'reinstating': 1, 'acted': 6, 'recklessly': 1, 'disregarding': 1, 'smashed': 1, 'Him': 9, 'ending': 3, 'overbearing': 1, 'destitute': 5, 'conceit': 2, 'fatuity': 1, 'insignificance': 1, 'morbidly': 2, 'self-admiration': 1, 'gloated': 1, 'valued': 2, 'amassed': 1, 'devices': 1, 'superiors': 1, 'sincerity': 2, 'genuinely': 4, 'ingratitude.': 1, 'groundlessness': 1, 'contradicted': 1, 'disbelieved': 1, 'denied': 1, 'heroic': 3, 'admired': 4, 'admire': 4, 'reap': 1, 'flattery': 8, 'undeservedly': 1, 'unrecognised': 1, 'unthinkable': 4, 'voluptuous': 2, 'amassing': 2, 'brooded': 1, 'virtuous': 2, 'humbled': 3, 'saviour': 1, 'scenes': 3, 'amorous': 1, 'episodes': 1, 'behold': 2, 'allurement': 1, 'grateful': 4, 'condescension': 1, 'absolute': 2, 'wider': 1, 'fascination': 1, 'wonders': 1, 'aureole': 1, 'ruins': 1, 'clap': 3, 'masterful': 1, 'milksop': 2, 'embracing': 4, 'delivered': 2, 'consciously': 3, 'ton-weight': 1, 'Anything': 1, 'insistent': 1, 'desires': 2, 'presence.': 1, 'omitting': 1, 'ghostly': 1, 'visitations': 1, 'wishing': 2, 'muddled.': 1, 'offers': 2, 'forgets': 2, 'designs': 6, 'Altogether': 1, 'assumes': 1, 'borrowing': 2, 'disproportionate': 1, 'soothing': 1, 'ecstatically': 1, 'accommodating': 2, 'bothering': 1, 'per': 1, 'lend': 2, 'unfold': 1, 'publishers': 4, 'booksellers': 1, 'publications': 1, 'publisher': 2, 'offices': 2, 'European': 1, 'languages': 1, 'schwach': 1, 'scuttling': 1, 'saint': 1, 'pots': 3, 'hesitate': 2, 'blockheads': 1, 'capital.': 1, 'untried': 1, 'belonging': 2, 'communicating': 1, 'furnished': 3, 'moderate': 3, 'burying': 1, 'Whatever': 1, 'Forget': 1, 'dully': 1, 'undertone': 1, 'Wicked': 1, 'heartless': 3, 'horror-stricken': 3, 'Good-bye.': 3, 'wits': 2, '_don': 1, 'leave_': 1, 'lamp': 3, 'penetrating': 2, 'nervously': 4, 'describe': 6, 'soothed': 1, 'whereabouts': 1, 'gallery': 1, 'inexpressibly': 1, 'separate': 1, 'barn': 1, 'quadrangle': 1, 'aslant': 1, 'acute': 3, 'disproportionately': 1, 'obtuse': 1, 'rush-bottom': 1, 'scratched': 1, 'wall-paper': 1, 'scrutinising': 4, 'arbiter': 1, 'destinies': 1, 'theirs': 3, 'stammer': 2, 'stammers': 3, 'bed.': 1, 'hesitatingly': 2, 'depths': 3, 'champion': 2, '_insatiable_': 1, 'feature': 1, 'righteousness': 2, 'canary': 1, 'builds': 1, 'native': 2, 'boarding': 1, 'superintend': 1, 'hugs': 1, 'tub': 1, 'taste': 4, 'pedlar': 3, 'embroidered': 1, '_Please': 1, 'do_': 1, 'grieved': 5, 'die.': 1, 'pitilessly': 1, 'insured': 1, 'overburdened': 1, 'imploringly': 1, 'entreaty': 1, 'rainy': 1, 'ironically': 2, 'ask.': 1, 'paced': 4, 'desperation': 2, 'protect': 10, 'malignance': 1, 'unutterable': 1, 'sobs': 2, 'tearful': 2, 'dishonourable': 1, 'sinner': 1, 'solemnly': 2, 'destroyed': 4, 'nothing_': 1, 'filth': 2, 'loathe': 1, 'saving': 3, 'degradation': 1, 'wiser': 4, 'leap': 2, 'monstrously': 1, 'orphan': 4, 'pitiful': 3, 'half-crazy': 1, 'unique': 1, 'infrequent': 1, 'exceptionalness': 1, 'penetrated': 2, 'madhouse': 2, 'obscures': 1, 'stone.': 1, 'sceptic': 1, 'preserved': 2, 'iniquity': 1, 'abyss': 1, 'loathsomeness': 1, 'Doesn': 1, 'forcibly': 2, 'heaving': 2, 'maniac': 2, 'Testament': 3, 'unwillingly': 1, 'Find': 3, 'Sonia.': 3, 'gospel': 3, 'sterner': 2, 'requiem': 3, 'service.': 2, 'God.': 1, 'maniacs': 1, 'infectious': 2, 'lunatic.': 1, 'breathlessly': 1, 'Lizaveta.': 2, 'Twice': 1, 'named': 2, 'Bethany': 1, 'unveil': 1, '_own_': 1, '_secret': 1, 'treasure_': 1, 'stepmother': 3, 'crazed': 1, '_him_': 2, '_now_': 2, 'spasm': 2, 'chapter': 1, 'St.': 2, 'nineteenth': 1, 'verse': 3, 'Jews': 6, 'Martha': 5, 'Mary': 4, 'Jesus': 13, 'hadst': 2, 'wilt': 1, 'Thee': 2, 'saith': 5, 'resurrection': 4, 'believeth': 2, 'whosoever': 1, 'liveth': 1, 'Believest': 1, 'Yea': 1, 'art': 4, 'Son': 1, 'world.': 1, 'thirty-second': 1, 'passionately': 1, 'reproduced': 1, 'censure': 1, 'disbelieving': 1, 'he_': 1, 'blinded': 1, 'unbelieving': 1, 'cometh': 1, 'cave': 1, 'stinketh': 1, 'hath': 1, 'days.': 1, '_four_': 1, 'Said': 1, 'wouldest': 1, 'shouldest': 1, 'glory': 2, 'hearest': 1, 'thus': 1, 'forth.': 1, 'Bound': 1, 'graveclothes': 1, 'Loose': 1, 'Him.': 2, 'feverishly': 3, 'harlot': 3, 'completely.': 1, 'analyse': 1, 'infinitely': 3, '_your': 2, 'own_': 1, 'Children': 3, 'Heaven.': 1, 'bade': 2, 'hysterically': 1, 'Break': 1, 'Over': 1, 'ant-heap': 1, 'chose': 2, 'idea_': 1, 'advertising': 1, 'uninhabited': 2, 'adjoined': 1, 'enjoyed': 4, 'department': 3, 'investigation': 2, 'pounce': 1, 'waiting-room': 2, 'phantom': 4, 'elected': 1, 'Thinking': 1, 'conflict': 3, 'unmitigated': 1, 'arrogant': 1, 'vowed': 3, 'writing-table': 1, 'upholstered': 1, 'bookcase': 1, 'genial': 1, 'good-tempered': 1, 'awkwardness': 1, 'domain': 4, '_tout': 2, 'court_': 2, 'sofa.': 1, 'apologies': 3, 'formally': 1, 'believe_': 1, 'proportions': 1, 'dashes': 1, 'avoiding': 3, 'rebounding': 1, 'repairs': 1, 'Government': 1, 'repetition': 1, 'incongruous': 4, 'ineptitude': 1, 'incautious': 1, 'insolently': 1, 'tradition': 3, 'investigating': 1, 'lawyers': 5, 'attack': 5, 'afar': 1, 'cross-examining': 1, 'knock-down': 3, 'fatal': 6, 'crafty': 2, 'contracted': 1, 'broadened': 1, 'disturbed': 1, 'stress': 4, 'addition': 2, 'cackled': 2, 'fidgeting': 1, 'tickled': 1, 'witty': 1, 'india-rubber': 1, 'paralysis': 1, 'bachelor': 1, 'seed': 3, '_c': 1, 'est': 1, 'rigueur_': 1, 'tongue-tied': 1, 'uncomfortable': 1, 'babble': 1, 'offending': 1, 'exercise': 1, 'sedentary': 1, 'join': 2, 'ranks': 2, 'Privy': 1, 'Councillors': 1, 'skipping': 2, 'interrogations': 1, 'interrogator': 1, 'interrogated': 1, 'aptly': 1, 'wittily.': 1, 'muddle': 4, 'harping': 1, 'reform': 1, 'he-he-he': 13, 'wittily': 3, 'Every': 1, 'prisoner': 6, 'rudest': 2, 'disarming': 2, 'felicitous': 1, 'formality': 4, 'chat': 1, 'bounded': 1, 'babbled': 1, 'reverting': 1, 'incoherence': 1, 'gesticulations': 1, 'elaborate': 1, 'methods': 2, 'adheres': 1, 'precedent': 1, 'instruct': 1, 'publish': 1, 'prematurely': 2, 'mathematically': 1, 'depriving': 1, 'Sevastopol': 2, 'Alma': 1, 'enemy': 3, 'siege': 2, 'occurs': 1, 'comic': 3, 'cultivated': 4, 'overlooked': 1, 'gold-mine': 1, 'Abroad': 1, 'measures': 3, 'He-he': 7, '_psychologically_': 2, 'attractions': 2, 'weave': 1, 'provide': 12, 'flop': 1, 'swallow': 1, 'scare': 1, 'proofs': 4, 'braced': 1, 'ordeal': 1, 'strangle': 1, 'flecked': 1, 'foam': 1, 'policy': 2, 'Anyhow': 1, 'harmless': 2, 'chuckling': 1, 'awaken': 2, 'intellect': 4, 'Playful': 1, 'fascinate': 1, 'Austrian': 1, '_Hof-kriegsrath_': 1, 'military': 5, 'cleverest': 3, 'Mack': 1, 'surrendered': 1, 'civilian': 2, 'histories': 1, 'missed': 5, 'major': 3, '_special': 2, 'case_': 2, 'sharpest': 1, 'calculation': 1, 'five-and-thirty': 1, 'reward': 2, 'adornment': 1, 'tricks': 3, 'liable': 2, 'incognito': 1, 'flagrant': 1, 'stuffy': 3, 'lied': 1, 'incomparably': 2, 'betrays': 1, 'paleness': 1, '_too': 1, 'natural_': 1, 'questioner': 1, 'brings': 3, 'allegorical': 1, 'allusions': 3, 'Comes': 1, 'psychologist': 1, 'reflects': 1, 'mirror': 1, 'Gaze': 1, 'checking': 1, 'murdering': 2, 'prosecute': 4, 'decanter': 2, 'good.': 2, 'dined': 2, 'flat_': 1, 'wrongs': 1, '_good_': 1, 'shivered': 1, 'practice': 2, 'hallucination': 1, 'imposed': 2, 'unintentionally': 1, 'imagining': 2, 'Court': 2, 'Appeal': 2, 'acquitted': 1, 'Tut-tut-tut': 1, 'studied': 2, 'bell-ringing': 5, 'neglect': 2, 'consult': 2, 'lightheaded': 1, 'rejected': 1, 'penetrate': 1, 'damnable': 2, 'wily': 1, 'tittered': 1, 'genially': 1, 'suspiciousness': 1, 'common-sense': 1, 'disarmed': 1, 'incensed': 1, 'preserving': 2, 'Prompting': 1, 'injury': 1, 'reliable': 1, 'delusions': 1, 'Briefly': 1, 'imperiously': 1, 'Uncertainty': 1, 'overhear': 1, 'peremptory': 1, 'mystification': 1, 'paroxysm': 1, 'obeying': 1, 'Arrest': 1, 'way.': 4, 'friendship': 3, 'chuckled': 1, 'maddened': 1, 'escape.': 1, 'restraint': 1, 'punchinello': 1, 'retreated': 2, 'clerks.': 1, 'Call': 3, 'Produce': 2, 'rubbishly': 1, 'priests': 2, 'deputies': 3, 'shove': 2, 'deathly': 1, 'crop': 1, 'warder': 2, 'instantaneously': 1, 'Darkness': 1, 'ready.': 1, '_good-bye_': 1, 'Shan': 1, 'wicked': 5, 'birthday': 1, 'comical': 3, 'harassing': 1, 'proving': 3, 'vivisecting': 1, 'quick-witted': 1, 'writers.': 1, 'Gogol.': 1, 'collect': 5, 'stupefied': 1, 'amazing': 1, 'imminent': 3, 'Remembering': 2, 'sketchily': 1, 'outlines': 1, '_might_': 1, 'circumstantially': 1, 'Knowing': 1, 'compromised': 1, '_facts_': 1, 'sleeve': 1, 'connected': 1, 'memorial': 4, '_from': 1, 'underground_': 1, 'sinned': 2, 'thoughts.': 1, 'wronged': 4, 'trade': 1, 'prepare': 4, 'hides': 1, '_trivial_': 1, '_delirium_': 1, '_psychology_': 1, '_cuts': 1, 'ways_': 1, 'convict': 5, 'detective': 1, 'went.': 1, 'punching': 1, 'scoundrels': 5, 'scolded': 1, 'hear.': 1, 'said.': 1, 'Nikolay.': 1, 'cuts': 3, 'confident': 1, 'cowardice.': 1, 'fateful': 2, 'sobering': 1, 'Intensely': 1, 'incredible': 2, 'snake': 1, 'gnawing': 1, 'jaundice': 1, 'clear-skinned': 1, 'fattish': 1, 'sarcastic': 1, 'impulsiveness': 1, 'hitch': 1, 'senate': 1, 'redecorated': 2, 'tradesman': 1, 'entertain': 3, 'contract': 3, 'forfeit': 1, 'upholsterers': 1, 'instalment': 2, 'purchased': 1, 'slay': 1, 'promptly': 3, 'trousseau': 1, 'knick-knacks': 1, 'dressing-cases': 1, 'jewellery': 1, 'Knopp': 1, 'blunder.': 1, 'Inquiring': 1, 'entertainment': 1, 'nines': 1, 'parsimony': 1, 'ward': 4, 'doings': 1, 'legend': 1, 'omniscient': 1, 'approximate': 1, 'progressives': 2, 'nihilists': 1, 'feared': 3, '_being': 1, 'transferring': 1, 'panic-stricken': 1, 'patrons': 1, 'anticipate': 1, 'contingencies': 1, 'generation.': 1, 'allayed': 1, 'doctrines': 1, 'systems': 1, 'pestered': 1, '_here_': 1, 'expose': 1, 'anæmic': 1, 'scrofulous': 1, 'soft-hearted': 1, 'self-confident': 1, 'attached': 2, 'legion': 1, 'half-animate': 1, 'abortions': 1, 'half-educated': 1, 'coxcombs': 1, 'attach': 1, 'vulgarise': 1, 'caricature': 1, 'duping': 1, 'despising': 1, 'expounding': 3, 'Darwinian': 1, 'liar': 1, 'third-hand': 1, 'propaganda': 6, 'accepted': 4, 'belauded': 1, 'commune': 1, 'christening': 1, 'acquiesce': 1, 'lover': 3, 'praises': 3, 'disdain': 2, 'five-per-cent': 3, 'bonds': 2, 'bundles': 1, 'unmoved': 1, 'entertaining': 1, 'inferiority': 1, 'incredibly': 3, 'enlarging': 1, 'commune.': 1, 'clicking': 2, 'beads': 2, 'discourteous': 1, 'ill-humour': 1, 'breach': 1, 'discourse': 2, 'console': 1, 'promote': 1, 'ceremonies': 1, 'beggarly': 2, 'feast': 1, 'wines': 2, 'obtaining': 4, 'flustered': 1, 'libel': 2, 'permissable': 1, 'defend': 4, 'equality': 2, 'convention': 1, 'were.': 1, 'indirectly': 2, 'enlightenment': 2, 'Terebyeva': 2, 'community': 10, 'conventionally': 1, 'Varents': 1, 'communities': 1, 'great-hearted': 1, 'establishing': 1, 'happy.': 1, 'letters': 13, 'fifteenth': 1, 'regretted': 2, 'delicate-looking': 1, '_distinguons_': 1, 'compulsory': 1, 'voluntary': 1, 'asset': 1, 'dispose': 1, 'assets': 1, 'rejoice': 2, 'lodgings.': 2, 'yelled': 3, 'disinterestedly': 2, 'inappropriately': 1, 'rôles': 1, 'conditions': 1, 'establish': 1, 'broader': 3, 'basis': 1, 'reject': 2, 'contrary.': 1, 'coarsely': 2, 'crude': 2, 'striving': 2, 'chastity': 2, 'lucky': 2, 'mistakenly': 1, 'deserving': 2, 'self-reliance': 1, 'inequality': 1, 'debate': 2, 'associations': 1, 'France': 1, 'society.': 1, 'inconvenient': 1, 'Tfoo': 3, 'referred': 3, 'privacy': 1, 'stumbling-block': 1, 'cesspools': 1, 'cesspool': 2, 'self-sacrifice': 1, 'useful.': 1, 'nobler': 2, '_of': 2, 'use_': 1, '_useful_': 1, 'snigger': 1, 'heartily': 4, 'ill-luck': 2, 'ill-humoured': 1, 'protests': 1, 'imagine.': 1, 'bantering': 1, '_interesting_': 1, 'madam.': 1, 'invitation.': 1, 'ignorance': 1, 'object.': 1, 'grey-and-rainbow-coloured': 1, 'indecorous': 1, '_her_': 1, 'eye-glass': 1, 'sufficient': 2, 'enable': 1, 'ascertain': 3, 'preternatural': 2, 'comprehensible': 2, 'comprehen': 1, 'foreseeing': 2, 'temporary': 3, 'patronage': 1, 'parent': 1, 'term': 2, 'go-ahead': 1, 'credulous': 1, 'subscription': 3, 'outsiders': 1, 'assisting': 1, 'done.': 1, 'unsafe': 1, 'Jamaica': 1, 'rum': 2, 'Madeira': 2, 'celebrate': 1, 'orphans': 9, 'ten-rouble': 3, 'unfolded': 1, 'ceremoniously': 1, 'interrupt': 2, '_saw_': 1, 'verb': 1, 'sympathise': 2, 'eradicate': 1, 'promotes': 1, 'drawback': 1, 'affection': 2, '_legal_': 1, '_legality_': 1, 'warhorse': 1, 'trumpet': 1, 'dictionary': 1, 'corrective': 1, 'opposing': 1, 'avenging': 1, 'pfoo': 1, 'sniggered': 1, 'originated': 1, 'disordered': 2, 'Nearly': 2, 'deceased': 1, 'suitably': 1, 'compels': 1, 'traditional': 2, 'upon.': 1, 'genteel': 6, 'aristocratic': 6, 'poorest': 3, 'broken-spirited': 2, 'paroxysms': 1, 'irresistible': 2, 'intimidated': 2, 'harassed': 1, 'stages': 2, 'doctors': 2, 'affect': 3, 'variety': 2, 'Lisbon': 1, 'quantity': 1, 'honey': 1, 'purchasing': 1, 'provisions': 2, 'stranded': 1, 'disposal': 1, 'bazaar': 1, '_Pani_.': 1, 'serviceable': 1, 'invent': 1, 'disillusioned': 2, 'repulse': 1, 'peace-loving': 1, 'failures': 1, '_keenly_': 1, 'jar': 1, 'disaster': 1, 'brightest': 1, 'crockery': 2, 'etc.': 2, 'table-cloth': 1, 'knives': 1, 'forks': 1, 'shapes': 1, 'patterns': 1, 'ribbons': 4, 'justifiable': 2, 'displeased': 2, 'mistress': 6, 'kitchen.': 1, 'contented': 1, 'inwardly': 4, 'creatures': 2, 'noble-hearted': 1, 'guest': 3, 'exalted': 1, 'adding': 1, 'praised': 1, 'Probably': 1, 'cue': 1, 'sharing': 2, 'old-maidish': 1, 'complained': 1, 'threatening': 1, 'harbour': 1, 'governorship': 1, 'colonel-major': 1, 'spotty': 2, 'abominably': 1, 'immemorial': 1, 'ages': 1, 'commissariat': 8, 'Finally': 4, 'removing': 1, 'Poles': 4, 'intensely': 1, 'feed': 1, 'well-bred': 1, 'loftily': 2, 'seats': 1, 'Rushing': 1, 'responsible': 4, 'resented': 1, 'professorship': 1, 'apologised': 2, 'suppressed': 3, 'interspersing': 1, 'uncontrollable': 1, 'cuckoo': 1, 'owl': 5, 'Cough-cough-cough': 6, 'patronising': 1, 'sweeps': 1, '_pan_': 2, 'starved': 1, 'glee': 1, 'Drops': 1, 'nicety': 1, 'baggage': 1, 'provincial': 1, 'nonentity': 1, 'fray': 1, 'skirts': 1, 'paints': 1, 'required': 3, 'unpunctual': 1, 'entrée': 1, 'jelly': 1, 'fidget': 1, 'choosing': 1, '_business_': 1, 'flatter': 2, 'gratify': 1, 'absent-minded': 1, 'Neither': 1, 'striped': 2, 'Listening': 1, 'disdained': 1, 'hospitality': 3, 'promise.': 1, 'poking': 2, 'imbecile': 1, 'draggletails': 3, 'heart.': 2, 'gulping': 1, 'twelfth': 1, 'disreputable': 1, 'sole': 1, 'shoe': 1, 'gingerbread': 1, 'cock': 4, 'vouchsafe': 1, 'bounds.': 1, 'drubbing': 1, 'heaved': 1, 'alluding': 1, 'Pass': 3, 'tasting': 1, 'hurting': 2, 'peaceably': 1, 'person_': 1, 'pierced': 3, 'good-humour': 3, 'chemist': 2, 'cabman': 3, 'anecdotes': 2, '_Vater': 3, 'aus': 3, 'Berlin_': 3, 'pockets.': 1, 'Cough-cough': 1, 'foreigners': 2, 'stupider': 2, 'idiot': 4, 'punishing': 1, 'begged.': 1, 'addled': 1, 'glaring': 1, 'Regaining': 1, 'T': 4, 'launched': 1, 'alluring': 1, 'boarding-school': 6, 'armed': 1, 'stuck-up': 1, 'incontestably': 1, 'adventuresses': 1, 'fore': 1, 'late.': 4, '_en': 1, 'toutes': 1, 'lettres_': 1, 'Warming': 1, 'peaceful': 1, 'teachers': 1, 'Frenchman': 1, 'Mangot': 1, 'Next': 2, 'disdainfully': 1, 'unaware': 1, 'undoubted': 1, 'ability': 2, 'gentleness': 2, 'tapping': 1, 'misgivings': 1, '_die': 2, 'Wäsche_': 2, '_dame_': 1, 'novels': 1, 'read.': 1, 'laundry': 1, 'maid': 1, 'directress': 1, 'novel-reading': 1, 'silent.': 1, '_gold_': 1, 'appropriately': 1, '_are_': 1, 'lady.': 1, 'slut': 1, 'Poof': 1, 'poof': 3, 'represent': 1, 'resembling': 1, 'amid': 1, 'Finn': 1, 'lobster': 1, 'squealed': 2, 'poof-poof-poof': 1, 'milkman': 1, 'lashed': 2, '_Vater_': 2, 'Johann': 1, 'burgomeister': 1, 'burgomeister.': 1, 'trample': 1, 'foot.': 1, 'vigilant': 1, 'governor-general': 1, 'orphans.': 1, 'squabbles': 1, 'stepdaughter': 1, 'pass.': 1, 'edging': 2, 'thunderstruck': 1, 'clamour': 1, 'hundred-rouble': 8, 'mademoiselle': 3, 'admonishing': 1, 'Reflect': 2, 'accuse': 4, 'accusation': 3, 'purposes': 1, 'securities': 1, 'pocket-book': 2, 'confirm': 2, 'advisability': 1, 'primarily': 1, 'allude': 1, 'total': 1, 'associated': 9, '_compelled_': 1, 'ingratitude': 1, 'donation': 2, 'reproachfully': 1, '_Gott': 1, 'der': 1, 'Barmherzige_': 1, 'witnesses.': 1, 'Foolish': 1, 'Hold': 1, 'Mad': 1, 'pettifogging': 1, 'eater': 1, 'trashy': 1, 'Search': 3, 'Sovereign': 2, 'Tsar': 2, 'meekness': 1, 'parabola': 1, 'Thief': 1, 'Police': 1, 'Away': 1, 'Exclamations': 2, 'arose': 3, 'occasional': 1, 'heartrending': 1, 'wail': 4, 'shelter': 1, 'swaying': 1, 'baby': 4, 'Defend': 3, 'audience': 2, 'agonised': 1, 'unrestrained': 1, 'trustful': 1, 'piteous': 2, '_compassion_': 1, 'instigator': 1, 'accomplice': 1, 'lowered': 3, 'Gentlemen': 1, 'Compassionate': 1, 'commiserating': 1, 'hugging': 1, 'madwoman': 2, 'drowned': 3, 'short-sighted': 2, 'dumbfounded': 2, 'stammering': 1, 'understand.': 1, 'nonsensical': 1, 'riddles': 1, 'oath': 3, 'impudently': 1, 'oath.': 1, 'Protect': 2, 'opposed': 2, 'approve': 1, 'effects': 1, 'radical': 1, 'decking': 1, 'charitable': 3, 'test': 2, 'indelicate': 1, 'Kobilatnikov': 1, 'Treatise': 1, 'Positive': 1, 'Method': 1, 'recommend': 1, 'Piderit': 1, 'Wagner': 1, 'reflections': 1, 'long-winded': 1, 'harangue': 1, 'deduction': 2, 'alas': 1, 'produced': 4, 'vehemence': 1, 'slandering': 1, 'free-thinking': 1, 'godless': 3, 'propositions': 1, 'Murmurs': 1, 'solved': 1, 'suspected': 5, 'scoundrelly': 2, 'intrigue': 1, 'consequently': 1, 'dividing': 2, 'squandering': 1, 'Irritated': 1, 'insinuations': 1, 'unpardonably': 1, 'estrange': 1, 'revenging': 1, 'interruptions': 1, 'deliberating': 2, 'implied': 2, 'accusations': 2, 'suggestions': 1, 'tremendously': 4, '_lajdak_': 1, 'Polish': 2, 'grasp': 1, 'obstructing': 1, 'unmasked': 1, 'judges': 2, 'infidels': 1, 'agitators': 1, 'atheists': 1, 'motives': 1, 'overbalancing': 1, 'ill-treated': 1, 'impunity': 1, 'submissiveness': 1, 'disappointment': 1, 'murmur': 3, 'throb': 1, 'amidst': 1, 'Quick': 1, 'march': 2, 'battle': 2, 'unequal': 1, 'raged': 2, 'lamenting': 1, 'commented': 1, 'impelled': 2, '_had_': 1, 'superficially': 1, '_felt_': 1, 'justice.': 1, 'everlastingly': 2, 'peevishly': 1, 'Known': 1, 'roundabout': 1, 'Divine': 2, 'grumbled': 1, 'morosely': 1, 'arrogance': 1, 'incomplete': 2, 'dreadfully': 4, 'unendurable': 1, 'regaining': 2, 'paler': 3, '_his_': 1, 'steeple': 1, 'look.': 1, 'froze': 1, 'immovably': 1, 'infected': 1, '_childish_': 1, 'gripping': 1, 'foreseen': 3, 'miserably': 2, 'doing.': 1, 'Together': 1, 'recoiled': 1, 'plunder': 1, 'wearily': 1, 'own.': 1, 'comprehend': 1, 'enigmatically': 1, '_happy_': 1, '_where_': 1, 'coward': 4, 'begin.': 1, 'alike': 1, 'myself_': 1, 'Mont': 1, 'Blanc': 1, 'picturesque': 2, 'monumental': 3, 'sinful': 2, 'was.': 1, 'sadly': 2, 'drudge': 1, 'centered': 1, 'fared': 1, 'decorously': 1, 'inflicted': 1, 'thorough': 2, 'scale': 1, 'enough.': 1, 'truth.': 1, 'harmful': 1, 'creature.': 1, 'brilliance': 1, 'fees': 5, 'Lessons': 1, 'sulkiness': 2, 'spider': 2, 'ceilings': 1, 'cramp': 1, 'candles': 1, 'notebooks': 1, 'waits': 1, 'alter': 1, 'whoever': 1, 'Anyone': 1, 'despises': 2, 'lawgiver': 1, 'dares': 2, 'creed': 1, 'code': 1, 'divined': 2, 'stoop': 2, 'needful': 1, 'daring_': 1, 'temptation': 1, 'blasphemer': 1, 'insistence': 2, 'argued': 1, 'headlong': 1, 'web': 2, 'sucking': 2, 'committed': 5, '_right_': 1, 'Welcome': 2, '_try_': 1, 'murders': 2, 'hideously': 2, 'defiled': 1, 'Suffer': 2, 'expiate': 1, 'destroy': 3, 'knaves': 1, 'supplication': 1, 'unfair': 1, 'will.': 1, 'shore': 1, 'burdensome': 1, 'immeasurably': 1, 'cypress': 2, 'together.': 1, 'perturbed': 1, 'abused': 1, 'barrel-organ': 1, 'sing': 16, 'well-born': 2, 'Village': 3, 'actors': 1, 'tubercles': 3, 'listen.': 2, 'experiments': 1, 'professor': 1, 'incorrect': 1, 'douches': 1, 'least.': 1, 'tattered': 1, 'continuous': 1, 'window-sills': 1, 'sickly-looking': 1, 'Linen': 1, 'poison': 3, 'surging': 1, 'silently': 3, 'vacantly': 1, 'cutting': 2, 'this_': 1, '_I_': 1, 'fellow.': 1, 'hardworking': 1, '_say': 1, 'good-bye_': 1, 'tell_': 1, 'kiss.': 1, 'fading': 1, 'permanence': 1, 'Towards': 1, 'depending': 1, 'rapping': 2, 'frying-pan': 2, 'Semyonova': 1, 'close.': 1, 'principally': 1, 'sunshine': 3, 'flag': 1, 'coaxed': 1, 'appealed': 1, 'scoffers': 1, 'pan': 1, 'clapping': 1, 'singers': 4, 'turban': 2, 'Turk': 1, 'costume': 1, 'ostrich': 2, 'fidelity': 1, 'Explain': 1, 'organ-grinders': 2, 'bereaved': 1, 'drives': 1, 'fatherless': 1, '_tenez': 1, 'droite_': 1, 'Whimpering': 1, 'uninterrupted': 1, 'organ-grinder': 2, 'castle': 1, 'forsaken': 1, 'inkpot': 1, 'tongues': 1, '_parlez-moi': 1, 'français_': 1, 'Else': 1, 'brought-up': 1, 'Punch': 1, 'Judy': 1, 'performance': 1, 'impromptu': 1, 'rehearse': 1, 'Nevsky': 2, 'sings': 2, 'Hussar.': 1, 'Cinq': 3, 'sous': 5, 'Marlborough': 1, 'en': 2, 'va-t-en': 2, 'lullaby': 1, '_Marlborough': 1, 'Ne': 1, 'sait': 1, 'quand': 1, 'reviendra_': 1, 'sous.': 1, 'hips': 2, '_Cinq': 1, 'cinq': 2, 'monter': 1, 'notre': 1, 'menage_.': 1, 'Set': 1, 'genteelly': 1, 'bodice': 1, 'widths': 1, 'deformed': 1, 'stupids': 1, 'solid-looking': 1, 'three-rouble': 1, 'ceremonious': 1, 'gentlewoman': 1, 'grouse': 1, 'stamped': 2, 'basest': 1, 'slandered': 1, 'daughter.': 1, 'disturbance.': 1, 'licence': 1, 'license': 7, 'Calm': 2, 'sakes': 1, 'troublesome': 2, 'naughty': 1, 'imps': 1, 'flows': 2, 'chokes': 1, 'dying.': 1, 'Send': 1, 'adopted': 1, 'one-eyed': 1, 'open-mouthed': 1, 'wonder-struck': 1, 'sillies': 1, 'Och': 1, 'room.': 1, 'Lay': 2, 'peace.': 1, 'rattle': 1, '_Glissez': 1, 'glissez': 1, 'basque': 1, 'Tap': 1, '_Du': 2, 'Diamanten': 1, 'und': 1, 'Perlen_': 1, 'schönsten': 1, 'Augen': 1, 'Mädchen': 1, 'willst': 2, 'du': 2, 'mehr': 2, '_Was': 1, 'invents': 1, 'midday': 2, 'vale': 2, 'Dagestan': 2, 'Remind': 1, 'heart-rending': 1, 'flood': 2, 'caressingly': 1, 'Farewell': 1, 'unconsciousness': 1, 'asylum': 1, 'thousand.': 1, 'neighbour.': 1, 'enormously': 1, 'foretold': 1, 'fog': 1, 'dreary': 2, 'intervals': 1, 'catastrophe': 2, 'recollections': 2, 'incidents': 1, 'existed': 1, 'prey': 1, 'amounting': 1, 'insensibility': 1, 'Certain': 1, 'immediate': 6, 'irksome': 1, 'permanently': 1, 'city': 2, 'reference': 1, 'tacitly': 1, 'satisfactory': 3, 'institutions': 1, 'Cheer': 1, 'server': 1, 'incense': 1, 'blessed': 1, 'self-abnegation': 1, 'interpreted': 2, 'lonelier': 1, 'mingle': 1, 'restaurants': 1, 'thoroughfares': 1, 'songs': 1, 'smote': 1, 'requiring': 1, 'greediness': 1, 'fresher': 1, 'calmer': 1, 'mad.': 1, 'kindness.': 1, '_his': 1, 'girl_.': 1, 'girl_': 1, 'reported': 2, 'guzzling': 1, 'bite': 1, 'bout.': 1, 'plain.': 1, 'herself.': 1, 'Wherever': 1, 'bout': 1, 'conspirator': 2, 'defended': 1, 'companions': 1, 'hypocrisy': 1, 'resourcefulness': 1, 'Psychologically': 1, 'fashion.': 1, 'Explained': 1, 'descended': 1, 'hints': 1, 'confessing': 2, 'smallness': 1, 'cramping': 1, 'lethargy': 1, 'suffocating': 1, 'penned': 1, 'feebler': 1, 'fundamentally': 1, 'riddle': 1, 'tête-à-tête': 1, '_one_': 1, 'accord.': 1, 'cigarette.': 1, 'drained': 1, 'mortal': 1, 'brigand': 1, 'flinching': 1, 'pernicious': 2, 'tickling': 1, 'Dr.': 2, 'B': 1, 'Tobacco': 1, 'lungs': 1, 'affected.': 1, 'patting': 1, 'careworn': 1, 'unfairly': 1, 'indecorous.': 1, 'openness': 1, 'disconcert': 1, 'disdaining': 1, 'wiles': 1, 'proportion': 1, 'extent': 3, 'blurts': 1, 'results': 1, 'imperious': 1, 'elements': 1, 'magnanimity': 1, 'efface': 1, 'sincerely.': 1, 'Those': 3, 'capitally': 1, 'reproducing': 1, 'rabbits': 1, 'partial': 2, 'headstrong': 1, 'sleepless': 1, 'amateur': 1, 'essays': 1, 'mistiness': 1, 'chord': 1, 'vibrating': 1, 'mist': 3, 'incorruptible': 1, 'prosecutor': 1, 'notions': 1, '_umsonst_': 1, 'blurting': 1, 'reckless': 2, 'formidable': 1, 'bowled': 1, 'bothered': 1, 'semi-delirium': 1, 'plausible': 1, '_Morgenfrüh_': 1, 'Mr': 2, 'outsider': 1, 'type': 2, 'responsive': 1, 'dances': 1, 'stories': 3, 'villages': 2, 'attends': 1, 'laughs': 1, 'picks': 2, 'Old': 1, 'Believer': 1, 'dissenter': 2, 'Wanderers': 1, 'guidance': 1, 'villagers': 1, 'wilderness': 1, 'fervour': 1, 'sect.': 1, 'responds': 1, 'Whose': 1, 'juries': 1, 'venerable': 1, 'Bible': 2, 'suffer.': 1, 'authorities': 2, 'mild': 1, 'assaults': 1, 'weapon': 4, 'suffering.': 2, 'influencing': 1, 'abjure': 1, 'plausibly': 1, 'renews': 1, 'preached': 1, 'bookish': 1, 'precipice': 1, 'tower': 3, 'poses': 1, 'recantation': 1, '_you_': 2, 'sympathetically': 1, 'scornfully': 1, 'chase': 1, 'capture': 2, 'hare': 1, 'interest.': 1, 'confront': 1, 'mug': 1, 'rascal': 1, 'notoriously': 1, 'candidly': 1, 'etiquette': 2, 'surrender': 1, 'shameless': 4, 'lessen': 1, 'aberration': 2, 'abandoning': 1, 'appearances': 3, 'lessening': 1, 'mitigation': 2, 'sentence.': 1, 'expressively': 1, 'Seek': 1, 'shortened': 1, 'bourgeois': 1, 'confessing.': 1, 'grossly': 1, 'torturer': 1, 'entrails': 1, 'Suffering': 1, 'over-wise': 1, 'safe': 2, 'expiation': 1, 'harden': 1, 'majestic': 1, 'proclaim': 1, 'Schiller': 6, 'honest.': 1, 'flunkey': 1, '_You': 1, 'us._': 1, 'freshen': 1, 'air.': 1, 'Walk': 1, 'manoeuvre': 1, 'investigate': 1, 'Men': 5, 'straws': 1, 'instinct': 2, 'irrevocable': 1, 'owning': 1, 'evil-doing': 1, 'undoubtedly': 2, 'deceitful': 1, 'befriending': 1, 'hovering': 1, 'causing': 1, 'dogging': 1, 'transform': 1, 'rash': 1, 'root': 1, 'intriguing': 1, 'oppressed': 2, 'overflowing': 2, 'clarionet': 1, 'violin': 1, 'boom': 2, 'Turkish': 1, 'tea-table': 1, 'absent-mindedly': 1, 'chorus': 3, 'click': 1, 'balls': 1, 'healthy-looking': 1, 'red-cheeked': 1, 'tucked-up': 1, 'Tyrolese': 1, 'hall': 1, 'contralto': 1, 'accompaniment': 1, 'guttural': 1, 'rhymes': 1, 'Drink': 3, 'Katia': 5, 'gulps': 1, 'trailed': 1, 'patriarchal': 1, 'obsequious': 1, 'second-rate': 1, 'folk': 1, 'cowards': 1, 'philosophers': 2, 'administrative': 2, 'centre': 1, 'declaim': 1, 'mask': 2, 'wonderfully': 2, 'dainty': 1, 'injure': 1, 'derive': 2, 'Still': 1, 'complex': 1, 'glutton': 1, 'club': 1, 'gourmand': 1, 'remnants': 1, 'terrible-looking': 1, 'beef-steak': 1, 'cavalry': 2, 'photographer': 1, 'journalist': 1, 'new.': 1, 'biography': 1, 'gambler': 2, 'gambler.': 1, 'challenged': 1, 'lively.': 1, 'philosophy': 1, 'women.': 1, 'candour': 1, 'Vice': 1, 'anyway.': 1, 'founded': 1, 'ever-burning': 1, 'ember': 1, 'extinguished': 1, 'sort.': 1, 'exceeds': 1, 'moderation': 2, 'exceed': 1, 'prudent': 1, 'shoot': 7, 'parried': 1, 'mystic': 1, 'apparitions': 1, 'pretend': 1, 'preach': 1, 'æsthetics': 1, 'idealist': 1, 'by-the-way': 1, 'brag': 1, 'half-glass': 1, 'respect.': 1, 'debtors': 1, 'particulars': 1, 'throughout': 2, 'clove': 1, 'swinishness': 1, 'faithful': 3, 'unwritten': 1, 'fourthly': 1, 'maidservants': 1, 'fifthly': 1, 'sixthly': 1, 'reveal': 1, 'dissolute': 1, 'profligate': 2, 'preconceived': 1, 'opinions': 3, 'woes': 1, 'decorous': 1, '_oraison': 1, 'funèbre_': 1, 'tender': 5, 'influenced': 1, 'ardent': 1, 'impressionable': 1, 'reception': 1, 'confide': 1, 'betting': 2, 'charged': 1, 'refer': 1, 'tales': 1, 'idiocy': 4, 'footman': 2, 'badly.': 1, 'satisfy': 1, 'repellent': 1, 'aspect': 2, '_pity_': 1, 'usefulness': 1, 'cage': 1, 'century': 2, 'A.D.': 1, 'reigning': 1, 'pro-consul': 1, 'Asia': 2, 'Minor': 1, 'martyrdom': 1, 'pincers': 1, 'roots': 1, 'ecstasies': 1, 'visions': 4, 'thirsting': 2, 'suggests': 1, 'divinity': 1, 'phenomenally': 1, 'Parasha': 3, 'black-eyed': 1, '_insisted_': 1, 'wishes': 1, 'exhortations': 1, 'supplications': 1, 'posed': 1, 'hungering': 1, 'resorted': 1, 'subjection': 1, 'well-known': 2, 'resource': 2, 'harder': 1, 'discord': 1, 'vestal': 1, 'virgin': 1, 'seduced': 2, 'tactics': 1, 'prostrate': 1, 'shamelessly': 1, 'resisted': 1, 'unprincipled': 1, 'treachery': 1, 'yielded': 1, 'unawares': 1, 'triumphed': 1, 'succumbed': 1, 'spoiled': 1, 'coarsest': 2, 'convert': 2, 'tremendous': 1, 'epileptic': 1, 'expresses': 1, 'attorney': 1, 'point.': 1, 'mockingly': 1, 'promptly.': 1, 'epithet': 1, 'bestowed': 1, 'Afraid': 1, '_cher': 1, 'ami_': 1, 'Hi': 1, 'wetting': 1, 'annihilate': 1, 'light-hearted': 1, 'broken-down': 1, 'paralysed': 1, 'serving': 1, 'nephews': 1, 'fascinating': 5, 'curtseys': 1, 'frock': 2, 'unopened': 1, 'bud': 1, 'Flushing': 1, 'Fair': 1, 'curls': 2, 'lamb': 1, 'rosy': 2, 'charmer': 1, 'flushes': 1, 'delicious': 1, '_la': 1, 'et': 1, 'vérité_': 1, 'steals': 2, 'scorches': 1, 'Madonna': 3, 'Sistine': 1, 'diamonds': 1, 'pearls': 1, 'dressing-case': 1, 'obedient': 1, '_respect_': 1, 'presents.': 1, 'maiden': 1, 'sensuality': 1, 'haunts': 1, 'renew': 2, 'crippled': 1, 'debauchery': 1, 'reeked': 1, 'odours': 1, 'frightful': 1, 'dens': 1, '_cancan_': 3, 'specialist': 1, '_vis-à-vis_': 1, 'Shouldn': 1, 'consoling': 1, 'ill-bred': 2, 'proffered': 1, 'sensual': 1, '_O': 1, 'vertu': 1, 'va-t-elle': 1, 'se': 1, 'nicher': 1, 'outcries': 1, 'bill': 1, '_assez': 1, 'causé_': 1, 'pleasure.': 1, 'worn-out': 1, 'adventures': 1, 'stimulating': 1, 'bit.': 1, 'ruder': 1, '_adieu': 1, 'mon': 1, 'plaisir_': 1, '_positive_': 1, 'actively': 1, 'unearthed': 1, 'mirthful': 1, 'refrained': 1, 'devoured': 1, 'patroness': 1, 'asylums': 1, 'charmed': 1, 'depositing': 1, 'subscribing': 1, 'suppressing': 1, 'Hotel': 1, 'same.': 1, 'teaches': 1, 'Expound': 1, 'latest': 1, 'mischance': 1, 'fare.': 1, 'Duties': 1, 'coil': 1, 'enrage': 1, 'bond': 1, 'hood': 1, 'Intense': 1, 'sensualist': 1, 'lightly': 1, 'tiresome': 1, 'signalling': 1, 'beloved': 2, 'keeping.': 1, 'indiscretion': 1, 'betrayal': 1, 'meddling': 1, 'attention.': 1, 'apartments': 1, 'Unlocking': 1, 'Notice': 1, 'conveniently': 1, 'successive': 2, 'sitting-room': 1, 'glow': 1, 'involuntary': 1, 'secluded': 1, 'brave': 1, 'look-out': 1, 'divine': 1, 'gasped': 1, 'admission': 1, 'combinations': 1, 'misdeed': 1, 'wrongdoing': 2, 'galling': 1, 'overweening': 1, 'paltry': 1, 'shaped': 1, 'Add': 1, 'vivid': 1, 'charm': 1, 'apply': 2, '_une': 1, 'théorie': 1, 'comme': 1, 'une': 1, 'autre_': 1, 'overstepping': 1, 'remorse': 3, 'Russians': 2, 'chaotic': 1, 'terrace': 1, 'supper': 1, 'breadth': 1, 'traditions': 1, 'chronicle': 1, 'fogeys': 1, 'persevere': 1, 'magazine': 3, 'Control': 1, 'sprinkled': 1, 'atone': 1, 'Cruel': 1, 'passports': 1, 'hem': 1, 'exciting': 1, 'uselessly.': 1, 'barricade': 1, 'tormentor': 1, 'assault': 1, 'Scoundrel': 2, 'submitting': 1, 'unbending': 1, 'revolver': 17, 'cocked': 3, 'Aha': 2, 'alters': 1, 'shooting': 2, 'Inform': 1, 'poisoned': 2, 'cause.': 1, 'Oho': 1, 'nightingale': 1, 'kindle': 1, 'bullet': 3, 'grazed': 2, 'wasp': 1, 'temple': 3, 'skin': 3, 'Fire': 1, 'seize': 2, 'pistol': 1, 'loaded': 1, 'wait.': 1, 'stubborn': 1, 'defined': 1, 'suppliant': 1, 'key.': 1, 'stubbornly': 1, 'X.': 1, 'three-barrel': 1, 'construction': 1, 'charges': 2, 'capsule': 1, 'haunt': 1, 'villain': 1, 'tyrant': 1, 'Katia.': 1, 'waiters': 1, 'crooked': 1, 'lanky': 1, 'three-year-old': 1, 'pine-tree': 1, 'Vauxhall': 2, 'drinking-bar': 1, 'clown': 1, 'Munich': 1, 'entertained': 1, 'teaspoon': 1, 'Threatening': 1, 'storm-clouds': 1, 'waterfall': 1, 'streams': 2, 'flashes': 1, 'Drenched': 2, 'locking': 1, 'wonderingly': 1, 'soaking': 2, 'assigned': 1, 'acknowledgments': 1, 'receipts': 1, '5-per-cent': 1, 'alternatives': 2, 'Siberia.': 1, 'Giving': 1, 'heedlessly': 1, 'questioned': 1, 'good-bye.': 2, 'greetings': 3, 'carefully.': 1, 'sends': 2, 'Third': 2, 'perturbation': 1, 'surmise': 1, 'decrepit': 3, 'wheeled': 1, 'ejaculations': 1, 'reinforced': 1, 'patted': 1, 'Englishmen': 1, 'fortunate': 1, 'Fedosya': 1, 'sorrowful': 3, 'mainland': 1, 'roaring': 2, 'waters': 2, 'Y': 1, 'endless': 1, 'hotel': 4, 'Adrianople': 1, 'God-forsaken': 1, 'lights': 1, 'Veal': 1, 'savouries.': 1, 'veal.': 1, 'nothing.': 2, 'café': 1, 'chantant': 1, 'plain-stained': 1, 'planks': 1, 'indistinguishable': 1, 'upbraiding': 1, 'shaded': 1, 'occupants': 1, 'inflamed': 1, 'pose': 1, 'smiting': 1, 'sneeze': 1, 'sheepish': 1, 'befogged': 1, 'wine-glasses': 1, 'dregs': 1, 'attendant': 3, 'wrapping': 1, 'blanket': 10, 'scratching': 1, 'mice': 1, 'reverie': 1, 'trees': 5, 'stormy': 1, 'feeling.': 1, 'Park': 2, 'landscape': 2, 'recommended': 1, '_too_': 1, 'avenge': 1, 'promises': 2, 'Damnation': 2, 'Aïe': 1, 'dozing': 1, 'veal': 2, 'table.': 1, 'Shaking': 1, 'zigzags': 1, 'dart': 1, 'draught': 1, 'scraps': 1, 'dampness': 1, 'howled': 2, 'dwelling': 1, 'Trinity': 1, 'cottage': 1, 'overgrown': 1, 'fragrant': 3, 'porch': 1, 'wreathed': 1, 'climbers': 1, 'surrounded': 2, 'roses': 2, 'carpeted': 1, 'rugs': 1, 'plants': 1, 'china': 1, 'nosegays': 1, 'narcissus': 1, 'stalks': 1, 'reluctant': 1, 'drawing-room': 1, 'balcony': 2, 'freshly-cut': 1, 'chirruping': 1, 'shroud': 1, 'edged': 1, 'frill': 1, 'wreaths': 1, 'carved': 1, 'marble': 2, 'wreath': 1, 'rigid': 1, 'profile': 1, 'chiselled': 1, 'unchildish': 2, 'appalled': 1, 'smirched': 1, 'unmerited': 1, 'unheeded': 1, 'brutally': 1, 'frost': 1, 'tea-tables': 1, 'daytime': 1, 'cellar': 2, 'blurs': 1, 'cannon': 1, 'resounded': 1, 'signal': 1, 'river': 7, 'swirling': 1, 'flooding': 1, 'basements': 1, 'cellars': 1, 'rats': 1, 'swim': 1, 'ticking': 1, 'park': 1, 'drenched': 1, 'touches': 1, 'drip': 1, 'candle-ends': 1, 'house-flannel': 1, 'mammy': 2, 'bwoken.': 1, 'neglected': 1, 'stockingless': 1, 'lids': 1, 'unchildlike': 1, 'provocative': 1, 'aglow': 1, 'Accursed': 1, 'nightmare': 1, 'bones': 1, 'overslept': 1, 'Feeling': 1, 'notebook': 3, 'Reading': 1, 'milky': 1, 'slippery': 1, 'picturing': 1, 'paths': 1, 'ill-humouredly': 1, 'passer-by': 1, 'shutters': 1, 'Achilles': 5, 'helmet': 1, 'drowsy': 2, 'perpetual': 1, 'peevish': 1, 'sourly': 1, 'Jewish': 1, 'America.': 3, 'trigger': 1, 'lagging': 1, 'eccentric.': 1, 'appallingly': 1, 'exposure': 1, 'speechless': 1, 'foolishly': 1, 'muddy': 1, 'cross-question': 1, 'concerns': 1, 'hatching': 1, 'nudging': 1, 'Directly': 1, 'Learned': 1, 'Incongruous': 1, 'experiences': 1, 'magazines': 1, 'poems': 1, 'manuscript': 1, 'selfishness': 1, 'fullness': 1, 'dearly': 2, 'far.': 1, 'vision': 1, 'uncertainly': 1, 'lustreless': 1, 'Big': 1, 'doubted': 1, 'expiating': 2, 'noxious': 1, 'insect': 1, 'Killing': 1, 'atonement': 1, 'imbecility': 1, 'spilt': 1, 'crowned': 2, 'Capitol': 1, 'clumsiness': 1, 'trapped.': 1, 'æsthetically': 1, 'bombarding': 1, 'symptom': 1, 'manly': 1, 'water-colour': 1, 'ivory': 1, 'nun': 1, 'confided': 1, 'hardships': 2, '_Nothing': 1, 'happened._': 1, 'whimper': 1, 'indiscriminately': 1, 'VIII': 1, 'fellowship': 1, 'wherever': 3, 'fairest': 1, 'angers': 1, 'annoys': 1, 'brutish': 1, 'cooler': 1, 'concentrate': 1, 'symbol': 1, 'grieving': 1, 'nurse.': 1, 'Cross': 1, 'resentful': 1, 'procession': 1, 'rebellious': 1, 'retract': 1, 'dawned': 1, '_going_': 1, 'van': 1, 'Campany': 1, '_a_': 1, 'incongruity': 1, 'chanted': 1, 'lachrymose': 1, 'distasteful': 2, 'jerky': 1, 'murderer.': 1, 'unmixed': 1, 'kindled': 1, 'spreading': 1, 'bliss': 1, 'boozed': 1, 'nowadays.': 1, 'glimpse': 1, 'shanties': 1, 'mount': 1, 'eggshells': 1, 'spiral': 1, 'man_': 1, 'privately': 1, 'doorkeeper': 1, 'seating': 1, 'fairy': 1, 'Ro': 2, 'Rodionovitch': 1, 'originality': 1, 'literature': 1, 'talents': 1, 'bun': 1, 'covers': 1, 'Bigotry': 1, 'feather-headed': 1, 'youngster': 1, 'boast': 1, 'deterred': 1, '_nihil': 1, 'est_': 1, 'ascetic': 1, 'monk': 1, 'hermit': 1, 'research': 3, 'soars': 1, 'Livingstone': 1, 'Travels': 1, 'Nihilists': 1, 'Nihilist': 1, 'Official': 1, '_friendship_': 1, 'Almighty': 1, 'ennobled': 1, 'midwives': 1, 'numerous.': 1, 'crop-headed': 1, 'wenches': 1, 'Midwives': 1, 'Academy': 1, 'immoderate': 1, 'zeal': 1, 'suicides': 1, 'Nil': 1, 'Pavlitch': 1, 'listlessness': 1, 'long.': 1, 'family.': 1, 'Bah-bah-bah': 1, 'reeled': 1, 'barking': 1, 'rolling-pin': 1, 'grinned': 1, 'Hulloa': 1, 'Back': 1, 'water.': 1, 'brokenly': 1, '_It': 1, 'them._': 1, 'EPILOGUE': 1, 'centres': 1, 'fortress': 3, 'second-class': 1, 'adhered': 1, 'confuse': 1, 'soften': 2, 'pledge_': 1, 'metal': 1, 'minutely': 1, 'contents': 1, 'Voznesensky': 1, 'uppermost': 1, 'discover': 2, 'truthful': 1, 'versed': 1, 'mania': 1, 'hypochondriacal': 1, 'robber': 1, 'shallow': 1, 'privation': 1, 'heartfelt': 1, 'repentance': 4, 'exaggerate': 1, 'Incidentally': 1, 'hypothesis': 1, 'commits': 1, 'thirteenth': 1, 'rescued': 1, 'investigated': 1, 'extenuating': 1, 'commission': 2, 'thereafter': 1, 'version': 2, 'hinting': 1, 'unsatisfactory': 2, 'humoured': 1, 'ardour': 1, 'livelihood': 1, 'emigrate': 1, 'workers': 1, 'convicts': 4, 'despatched': 1, 'leave-taking': 1, 'fervent': 1, 'anticipations': 1, 'predicted': 1, 'implicit': 1, 'displayed': 2, 'lectures': 1, 'rescuing': 1, 'conveyances': 1, 'Apart': 1, 'hangings': 1, 'fatiguing': 1, 'Razumihins': 1, 'matter-of-fact': 1, 'clearest': 1, 'description': 2, 'minuteness': 1, 'clearness': 1, 'externally': 1, 'ill-founded': 1, 'shirking': 1, 'Sundays': 1, 'holidays': 2, 'barracks': 2, 'unhealthy': 1, 'plank': 2, 'rug': 1, 'inattention': 1, 'visits': 2, 'guard-room': 1, 'workshops': 1, 'kilns': 1, 'sheds': 1, 'Irtish': 1, 'lightened': 1, 'horrors': 1, 'patched': 1, 'trials': 1, 'Physically': 1, 'beetles': 1, 'fetters': 2, 'rough': 1, 'borne': 1, '_blunder_': 1, 'decree': 1, 'anyhow': 1, 'Vague': 1, 'objectless': 1, 'thirty-two': 1, 'strive': 1, 'Mere': 1, 'repent': 1, 'raging': 1, 'blunders': 1, 'freedom_': 1, 'criticised': 1, 'blundering': 1, 'swarmed': 1, 'clashed': 1, 'independently': 1, 'broadly': 1, 'uninfluenced': 1, 'sceptics': 1, 'halt': 1, 'inheriting': 1, 'punished': 1, '_they': 1, 'right_': 1, 'step.': 1, 'criminality': 1, 'falsity': 1, 'crisis': 1, 'attribute': 1, 'prized': 1, 'privations': 1, 'tramps': 1, 'ray': 1, 'primeval': 1, 'forest': 1, 'tramp': 1, 'sweetheart': 1, 'downcast': 1, 'gulf': 1, 'species': 1, 'isolation': 1, 'exiles': 1, 'ignorant': 2, 'churls': 1, 'seminarists': 1, 'hack': 1, 'Lent': 2, 'infidel': 2, 'killed.': 1, 'flinch': 1, 'intervening': 1, 'Christmas': 1, 'pies': 1, 'rolls': 1, 'Relations': 1, 'sweethearts': 1, 'frail': 1, 'gait': 1, 'illnesses': 1, 'Easter': 2, 'plague': 2, 'Europe': 1, 'microbes': 2, 'endowed': 1, 'sufferers': 1, 'infallible': 1, 'Whole': 1, 'peoples': 1, 'infection': 1, 'armies': 2, 'soldiers': 1, 'stabbing': 1, 'devouring': 1, 'trades': 1, 'improvements': 1, 'conflagrations': 1, 'famine': 1, 'involved': 1, 'purify': 1, 'grating': 1, 'sentinel': 1, 'pencilled': 1, 'pound': 1, 'alabaster': 1, 'kiln': 2, 'baking': 1, 'tool': 1, 'logs': 1, 'steppe': 1, 'bathed': 1, 'specks': 1, 'nomads': 1, 'tents': 1, 'Abraham': 1, 'flocks': 1, 'contemplation': 1, 'burnous': 1, 'timidity': 1, 'dawn': 1, 'sources': 1, 'religion': 1, 'pester': 1, 'aspirations': 1, 'Seven': 1, '_only_': 1, 'gradual': 2, 'renewal': 1, 'regeneration': 1, 'initiation': 1, 'END': 1, 'Updated': 1, 'editions': 4, 'replace': 1, 'renamed': 1, 'Creating': 1, 'U.S.': 7, 'copyright': 18, 'owns': 2, 'Foundation': 24, 'distribute': 5, 'royalties': 3, 'Special': 1, 'Terms': 2, 'Use': 2, 'copying': 4, 'distributing': 7, 'Gutenberg-tm': 55, 'electronic': 27, 'GUTENBERG-tm': 1, 'concept': 2, 'trademark': 12, 'registered': 2, 'complying': 3, 'derivative': 3, 'performances': 1, 'eBooks': 7, 'modified': 1, 'ANYTHING': 1, 'Redistribution': 1, 'redistribution': 1, 'FULL': 2, 'LICENSE': 2, 'PLEASE': 1, 'READ': 1, 'THIS': 3, 'BEFORE': 1, 'YOU': 6, 'DISTRIBUTE': 1, 'OR': 6, 'USE': 1, 'WORK': 1, 'mission': 3, 'distribution': 6, '``': 11, \"''\": 11, 'comply': 6, 'Full': 1, 'available': 2, 'file': 1, 'www.gutenberg.org/license': 1, 'Section': 7, 'Redistributing': 1, '1.A': 1, 'indicate': 1, 'trademark/copyright': 1, 'abide': 1, 'access': 10, 'refund': 8, 'entity': 3, 'paragraph': 10, '1.E.8': 4, '1.B': 1, '1.C': 2, '1.E': 2, 'Literary': 13, 'Archive': 13, 'PGLAF': 1, 'compilation': 1, 'collection': 4, 'unprotected': 1, 'displaying': 4, 'creating': 3, 'based': 2, 'references': 2, 'compliance': 4, 'format': 4, '1.D': 1, 'govern': 1, 'Copyright': 1, 'countries': 1, 'constant': 1, 'downloading': 1, 'representations': 1, 'status': 4, 'Unless': 1, '1.E.1': 5, 'links': 3, 'prominently': 2, 'accessed': 1, 'viewed': 1, 'copied': 2, 'distributed': 4, '1.E.2': 1, 'derived': 1, 'texts': 1, 'contain': 2, 'holder': 4, 'redistributing': 1, 'providing': 4, 'appearing': 1, 'requirements': 4, 'paragraphs': 3, '1.E.7': 3, '1.E.9': 3, '1.E.3': 1, 'additional': 2, 'Additional': 1, 'linked': 1, '1.E.4': 1, 'unlink': 1, 'detach': 1, 'files': 1, '1.E.5': 1, 'redistribute': 1, '1.E.6': 1, 'binary': 1, 'nonproprietary': 1, 'proprietary': 1, 'processing': 1, 'hypertext': 1, 'Plain': 2, 'Vanilla': 2, 'ASCII': 2, 'website': 4, 'user': 3, 'exporting': 1, 'alternate': 1, 'include': 1, 'specified': 2, 'viewing': 1, 'reasonable': 1, 'royalty': 1, '%': 1, 'profits': 1, 'calculate': 1, 'applicable': 3, 'taxes': 1, 'donate': 3, 'Royalty': 2, 'payments': 3, 'periodic': 1, 'tax': 6, 'returns': 1, 'Information': 5, 'donations': 12, 'notifies': 1, 'e-mail': 1, 'receipt': 2, 's/he': 1, 'require': 1, 'discontinue': 1, '1.F.3': 5, 'replacement': 3, 'defect': 2, 'manager': 1, 'Contact': 1, '1.F': 1, '1.F.1': 1, 'volunteers': 4, 'employees': 1, 'expend': 1, 'identify': 1, 'transcribe': 1, 'proofread': 1, 'Despite': 1, 'Defects': 1, 'limited': 2, 'inaccurate': 1, 'corrupt': 1, 'transcription': 1, 'errors': 1, 'infringement': 1, 'defective': 3, 'damaged': 1, 'disk': 1, 'computer': 2, 'virus': 1, 'codes': 1, 'damage': 1, 'equipment': 3, '1.F.2': 1, 'LIMITED': 3, 'WARRANTY': 2, 'DISCLAIMER': 1, 'DAMAGES': 2, '-': 3, 'Right': 1, 'Replacement': 1, 'Refund': 1, 'disclaim': 1, 'liability': 2, 'AGREE': 2, 'THAT': 2, 'HAVE': 1, 'NO': 2, 'REMEDIES': 1, 'FOR': 3, 'NEGLIGENCE': 1, 'STRICT': 1, 'LIABILITY': 1, 'BREACH': 2, 'CONTRACT': 1, 'EXCEPT': 1, 'THOSE': 1, 'PROVIDED': 1, 'IN': 1, 'PARAGRAPH': 1, 'FOUNDATION': 1, 'TRADEMARK': 1, 'OWNER': 1, 'ANY': 3, 'DISTRIBUTOR': 1, 'UNDER': 1, 'AGREEMENT': 1, 'WILL': 1, 'NOT': 2, 'BE': 1, 'LIABLE': 1, 'TO': 2, 'ACTUAL': 1, 'DIRECT': 1, 'INDIRECT': 1, 'CONSEQUENTIAL': 1, 'PUNITIVE': 1, 'INCIDENTAL': 1, 'EVEN': 1, 'IF': 1, 'GIVE': 1, 'NOTICE': 1, 'POSSIBILITY': 1, 'SUCH': 1, 'DAMAGE': 1, 'RIGHT': 1, 'REPLACEMENT': 1, 'REFUND': 1, 'lieu': 2, 'electronically': 2, 'opportunities': 1, '1.F.4': 1, \"'AS-IS\": 1, \"'\": 1, 'WITH': 1, 'OTHER': 1, 'WARRANTIES': 2, 'KIND': 1, 'EXPRESS': 1, 'IMPLIED': 1, 'INCLUDING': 1, 'BUT': 1, 'MERCHANTABILITY': 1, 'FITNESS': 1, 'PURPOSE': 1, '1.F.5': 1, 'states': 4, 'disclaimers': 1, 'warranties': 1, 'exclusion': 1, 'limitation': 3, 'disclaimer': 2, 'maximum': 1, 'invalidity': 1, 'unenforceability': 1, 'provision': 1, 'void': 1, '1.F.6': 1, 'INDEMNITY': 1, 'indemnify': 1, 'agent': 1, 'employee': 1, 'production': 1, 'promotion': 1, 'b': 1, 'alteration': 1, 'modification': 1, 'deletions': 1, 'c': 2, 'Defect': 1, 'Mission': 1, 'synonymous': 1, 'formats': 1, 'readable': 1, 'widest': 2, 'computers': 2, 'obsolete': 1, 'Volunteers': 1, 'critical': 1, \"Gutenberg-tm's\": 1, 'goals': 1, 'ensuring': 1, 'generations': 2, 'Sections': 1, 'non-profit': 1, 'educational': 1, 'corporation': 1, 'organized': 1, 'Mississippi': 1, 'Internal': 1, 'Revenue': 1, 'Service': 1, \"'s\": 4, 'EIN': 1, 'federal': 2, 'identification': 1, '64-6221541': 1, 'Contributions': 1, 'deductible': 1, 'West': 1, 'Salt': 1, 'Lake': 1, 'City': 1, 'UT': 1, '596-1887': 1, 'Email': 1, 'www.gutenberg.org/contact': 1, 'Donations': 2, 'survive': 1, 'widespread': 1, 'licensed': 1, 'machine-readable': 1, 'accessible': 1, 'array': 1, 'outdated': 1, '$': 2, '5,000': 1, 'maintaining': 1, 'IRS': 1, 'regulating': 1, 'charities': 1, 'Compliance': 1, 'paperwork': 1, 'solicit': 2, 'locations': 1, 'confirmation': 1, 'SEND': 1, 'DONATIONS': 1, 'www.gutenberg.org/donate': 2, 'contributions': 1, 'solicitation': 1, 'accepting': 1, 'unsolicited': 1, 'donors': 1, 'International': 1, 'gratefully': 1, 'statements': 1, 'swamp': 1, 'staff': 1, 'addresses': 1, 'checks': 1, 'Professor': 1, 'Michael': 1, 'Hart': 1, 'originator': 1, 'library': 1, 'network': 1, 'volunteer': 1, 'Thus': 1, 'necessarily': 1, 'edition': 1, 'PG': 1, 'facility': 1, 'includes': 1, 'subscribe': 1, 'email': 1, 'newsletter': 1}\n"
     ]
    }
   ],
   "source": [
    "# getting the tokens\n",
    "tokens = word_tokenize(raw)\n",
    "len(tokens)\n",
    "# ascertaining the corpora obtained has atleast 200 unique words\n",
    "fdist1 = nltk.FreqDist(tokens)\n",
    "\n",
    "filtered_word_freq = dict((token, freq) for token, freq in fdist1.items() if not token.isdigit())\n",
    "\n",
    "print(filtered_word_freq)"
   ]
  },
  {
   "cell_type": "code",
   "execution_count": 10,
   "metadata": {},
   "outputs": [
    {
     "data": {
      "text/plain": [
       "19571"
      ]
     },
     "execution_count": 10,
     "metadata": {},
     "output_type": "execute_result"
    }
   ],
   "source": [
    "# getting the count of the unique words - it is more than 200 words\n",
    "text = raw\n",
    "\n",
    "def unique_words(text):\n",
    "    words = text.replace('\"','').replace(',', '').split()\n",
    "    unique = list(set(words))\n",
    "    return len(unique)\n",
    "\n",
    "unique_words(text)"
   ]
  },
  {
   "cell_type": "code",
   "execution_count": 17,
   "metadata": {},
   "outputs": [
    {
     "ename": "AttributeError",
     "evalue": "'Text' object has no attribute 'replace'",
     "output_type": "error",
     "traceback": [
      "\u001b[1;31m---------------------------------------------------------------------------\u001b[0m",
      "\u001b[1;31mAttributeError\u001b[0m                            Traceback (most recent call last)",
      "\u001b[1;32m<ipython-input-17-c94c677a3876>\u001b[0m in \u001b[0;36m<module>\u001b[1;34m\u001b[0m\n\u001b[0;32m      6\u001b[0m     \u001b[1;32mreturn\u001b[0m \u001b[0mlen\u001b[0m\u001b[1;33m(\u001b[0m\u001b[0munique\u001b[0m\u001b[1;33m)\u001b[0m\u001b[1;33m\u001b[0m\u001b[1;33m\u001b[0m\u001b[0m\n\u001b[0;32m      7\u001b[0m \u001b[1;33m\u001b[0m\u001b[0m\n\u001b[1;32m----> 8\u001b[1;33m \u001b[0munique_words\u001b[0m\u001b[1;33m(\u001b[0m\u001b[0mtext\u001b[0m\u001b[1;33m)\u001b[0m\u001b[1;33m\u001b[0m\u001b[1;33m\u001b[0m\u001b[0m\n\u001b[0m",
      "\u001b[1;32m<ipython-input-17-c94c677a3876>\u001b[0m in \u001b[0;36munique_words\u001b[1;34m(text)\u001b[0m\n\u001b[0;32m      2\u001b[0m \u001b[1;33m\u001b[0m\u001b[0m\n\u001b[0;32m      3\u001b[0m \u001b[1;32mdef\u001b[0m \u001b[0munique_words\u001b[0m\u001b[1;33m(\u001b[0m\u001b[0mtext\u001b[0m\u001b[1;33m)\u001b[0m\u001b[1;33m:\u001b[0m\u001b[1;33m\u001b[0m\u001b[1;33m\u001b[0m\u001b[0m\n\u001b[1;32m----> 4\u001b[1;33m     \u001b[0mwords\u001b[0m \u001b[1;33m=\u001b[0m \u001b[0mtext\u001b[0m\u001b[1;33m.\u001b[0m\u001b[0mreplace\u001b[0m\u001b[1;33m(\u001b[0m\u001b[1;34m'\"'\u001b[0m\u001b[1;33m,\u001b[0m\u001b[1;34m''\u001b[0m\u001b[1;33m)\u001b[0m\u001b[1;33m.\u001b[0m\u001b[0mreplace\u001b[0m\u001b[1;33m(\u001b[0m\u001b[1;34m','\u001b[0m\u001b[1;33m,\u001b[0m \u001b[1;34m''\u001b[0m\u001b[1;33m)\u001b[0m\u001b[1;33m.\u001b[0m\u001b[0msplit\u001b[0m\u001b[1;33m(\u001b[0m\u001b[1;33m)\u001b[0m\u001b[1;33m\u001b[0m\u001b[1;33m\u001b[0m\u001b[0m\n\u001b[0m\u001b[0;32m      5\u001b[0m     \u001b[0munique\u001b[0m \u001b[1;33m=\u001b[0m \u001b[0mlist\u001b[0m\u001b[1;33m(\u001b[0m\u001b[0mset\u001b[0m\u001b[1;33m(\u001b[0m\u001b[0mwords\u001b[0m\u001b[1;33m)\u001b[0m\u001b[1;33m)\u001b[0m\u001b[1;33m\u001b[0m\u001b[1;33m\u001b[0m\u001b[0m\n\u001b[0;32m      6\u001b[0m     \u001b[1;32mreturn\u001b[0m \u001b[0mlen\u001b[0m\u001b[1;33m(\u001b[0m\u001b[0munique\u001b[0m\u001b[1;33m)\u001b[0m\u001b[1;33m\u001b[0m\u001b[1;33m\u001b[0m\u001b[0m\n",
      "\u001b[1;31mAttributeError\u001b[0m: 'Text' object has no attribute 'replace'"
     ]
    }
   ],
   "source": []
  },
  {
   "cell_type": "code",
   "execution_count": null,
   "metadata": {},
   "outputs": [],
   "source": []
  },
  {
   "cell_type": "code",
   "execution_count": null,
   "metadata": {},
   "outputs": [],
   "source": []
  },
  {
   "cell_type": "code",
   "execution_count": null,
   "metadata": {},
   "outputs": [],
   "source": []
  },
  {
   "cell_type": "code",
   "execution_count": null,
   "metadata": {},
   "outputs": [],
   "source": []
  },
  {
   "cell_type": "code",
   "execution_count": 11,
   "metadata": {},
   "outputs": [
    {
     "name": "stdout",
     "output_type": "stream",
     "text": [
      "*** Introductory Examples for the NLTK Book ***\n",
      "Loading text1, ..., text9 and sent1, ..., sent9\n",
      "Type the name of the text or sentence to view it.\n",
      "Type: 'texts()' or 'sents()' to list the materials.\n",
      "text1: Moby Dick by Herman Melville 1851\n",
      "text2: Sense and Sensibility by Jane Austen 1811\n",
      "text3: The Book of Genesis\n",
      "text4: Inaugural Address Corpus\n",
      "text5: Chat Corpus\n",
      "text6: Monty Python and the Holy Grail\n",
      "text7: Wall Street Journal\n",
      "text8: Personals Corpus\n",
      "text9: The Man Who Was Thursday by G . K . Chesterton 1908\n"
     ]
    }
   ],
   "source": [
    "from nltk.book import *"
   ]
  },
  {
   "cell_type": "code",
   "execution_count": 12,
   "metadata": {},
   "outputs": [
    {
     "data": {
      "text/plain": [
       "<Text: Moby Dick by Herman Melville 1851>"
      ]
     },
     "execution_count": 12,
     "metadata": {},
     "output_type": "execute_result"
    }
   ],
   "source": [
    "text1"
   ]
  },
  {
   "cell_type": "code",
   "execution_count": 13,
   "metadata": {},
   "outputs": [
    {
     "data": {
      "text/plain": [
       "<Text: Sense and Sensibility by Jane Austen 1811>"
      ]
     },
     "execution_count": 13,
     "metadata": {},
     "output_type": "execute_result"
    }
   ],
   "source": [
    "text2"
   ]
  },
  {
   "cell_type": "code",
   "execution_count": 14,
   "metadata": {},
   "outputs": [
    {
     "name": "stderr",
     "output_type": "stream",
     "text": [
      "Building ngram index...\n"
     ]
    },
    {
     "name": "stdout",
     "output_type": "stream",
     "text": [
      "laid by her , and said unto Cain , Where art thou , and said , Go to ,\n",
      "I will not do it for ten ' s sons ; we dreamed each man according to\n",
      "their generatio the firstborn said unto Laban , Because I said , Nay ,\n",
      "but Sarah shall her name be . , duke Elah , duke Shobal , and Akan .\n",
      "and looked upon my affliction . Bashemath Ishmael ' s blood , but Isra\n",
      "for as a prince hast thou found of all the cattle in the valley , and\n",
      "the wo The\n"
     ]
    },
    {
     "data": {
      "text/plain": [
       "\"laid by her , and said unto Cain , Where art thou , and said , Go to ,\\nI will not do it for ten ' s sons ; we dreamed each man according to\\ntheir generatio the firstborn said unto Laban , Because I said , Nay ,\\nbut Sarah shall her name be . , duke Elah , duke Shobal , and Akan .\\nand looked upon my affliction . Bashemath Ishmael ' s blood , but Isra\\nfor as a prince hast thou found of all the cattle in the valley , and\\nthe wo The\""
      ]
     },
     "execution_count": 14,
     "metadata": {},
     "output_type": "execute_result"
    }
   ],
   "source": [
    "text3.generate()"
   ]
  },
  {
   "cell_type": "code",
   "execution_count": 15,
   "metadata": {},
   "outputs": [
    {
     "data": {
      "text/plain": [
       "44764"
      ]
     },
     "execution_count": 15,
     "metadata": {},
     "output_type": "execute_result"
    }
   ],
   "source": [
    "len(text3)"
   ]
  },
  {
   "cell_type": "markdown",
   "metadata": {},
   "source": [
    "###  Reading and tokenizing the text file"
   ]
  },
  {
   "cell_type": "code",
   "execution_count": 27,
   "metadata": {},
   "outputs": [
    {
     "data": {
      "text/plain": [
       "'I have recently completed a Bachelorsâ€™s Degree in nursing and I am currently looking for suitable long-term employment. I am a hardworking person with a great personality benchmarked by excellent interpersonal skills which have helped me score great successes in the past. While at college I held several practical exposures at different hospitals, which I received favorable comments from staff and the management.\\nI have only recently moved to this area. Your institution was brought to my attention by one of my instructors at college, who said that you are currently hiring additional staff due to an increase in patient numbers. Your record of providing quality and timely services to patients makes me desire to be part of your team.\\nIf there is a suitable vacancy for me, please let me know. I will be grateful to speak to you at any time. I am enthusiastic about exploring opportunities with your institution and I look forward to meeting you.'"
      ]
     },
     "execution_count": 27,
     "metadata": {},
     "output_type": "execute_result"
    }
   ],
   "source": [
    "textfile = open('corpora.txt','r')\n",
    "textfile.read()\n"
   ]
  },
  {
   "cell_type": "code",
   "execution_count": 35,
   "metadata": {},
   "outputs": [
    {
     "name": "stdout",
     "output_type": "stream",
     "text": [
      "['I', 'have', 'recently', 'completed', 'a', 'Bachelorsâ€™s', 'Degree', 'in', 'nursing', 'and', 'I', 'am', 'currently', 'looking', 'for', 'suitable', 'long-term', 'employment', '.', 'I', 'am', 'a', 'hardworking', 'person', 'with', 'a', 'great', 'personality', 'benchmarked', 'by', 'excellent', 'interpersonal', 'skills', 'which', 'have', 'helped', 'me', 'score', 'great', 'successes', 'in', 'the', 'past', '.', 'While', 'at', 'college', 'I', 'held', 'several', 'practical', 'exposures', 'at', 'different', 'hospitals', ',', 'which', 'I', 'received', 'favorable', 'comments', 'from', 'staff', 'and', 'the', 'management', '.', 'I', 'have', 'only', 'recently', 'moved', 'to', 'this', 'area', '.', 'Your', 'institution', 'was', 'brought', 'to', 'my', 'attention', 'by', 'one', 'of', 'my', 'instructors', 'at', 'college', ',', 'who', 'said', 'that', 'you', 'are', 'currently', 'hiring', 'additional', 'staff', 'due', 'to', 'an', 'increase', 'in', 'patient', 'numbers', '.', 'Your', 'record', 'of', 'providing', 'quality', 'and', 'timely', 'services', 'to', 'patients', 'makes', 'me', 'desire', 'to', 'be', 'part', 'of', 'your', 'team', '.', 'If', 'there', 'is', 'a', 'suitable', 'vacancy', 'for', 'me', ',', 'please', 'let', 'me', 'know', '.', 'I', 'will', 'be', 'grateful', 'to', 'speak', 'to', 'you', 'at', 'any', 'time', '.', 'I', 'am', 'enthusiastic', 'about', 'exploring', 'opportunities', 'with', 'your', 'institution', 'and', 'I', 'look', 'forward', 'to', 'meeting', 'you', '.']\n"
     ]
    }
   ],
   "source": [
    "import nltk\n",
    "file_content = open('corpora.txt').read()\n",
    "tokens = nltk.word_tokenize(file_content)\n",
    "print(tokens)"
   ]
  },
  {
   "cell_type": "markdown",
   "metadata": {},
   "source": [
    "### Word segmentation"
   ]
  },
  {
   "cell_type": "code",
   "execution_count": 42,
   "metadata": {},
   "outputs": [
    {
     "data": {
      "text/plain": [
       "['i',\n",
       " 'have',\n",
       " 'recently',\n",
       " 'completed',\n",
       " 'a',\n",
       " 'bachelor',\n",
       " 'ss',\n",
       " 'degree',\n",
       " 'in',\n",
       " 'nursing',\n",
       " 'and',\n",
       " 'i',\n",
       " 'am',\n",
       " 'currently',\n",
       " 'looking',\n",
       " 'for',\n",
       " 'suitable',\n",
       " 'long',\n",
       " 'term',\n",
       " 'employment',\n",
       " 'i',\n",
       " 'am',\n",
       " 'a',\n",
       " 'hard',\n",
       " 'working',\n",
       " 'person',\n",
       " 'with',\n",
       " 'a',\n",
       " 'great',\n",
       " 'personality',\n",
       " 'benchmarked',\n",
       " 'by',\n",
       " 'excellent',\n",
       " 'interpersonal',\n",
       " 'skills',\n",
       " 'which',\n",
       " 'have',\n",
       " 'helped',\n",
       " 'me',\n",
       " 'score',\n",
       " 'great',\n",
       " 'successes',\n",
       " 'in',\n",
       " 'the',\n",
       " 'past',\n",
       " 'while',\n",
       " 'at',\n",
       " 'college',\n",
       " 'i',\n",
       " 'held',\n",
       " 'several',\n",
       " 'practical',\n",
       " 'exposures',\n",
       " 'at',\n",
       " 'different',\n",
       " 'hospitals',\n",
       " 'which',\n",
       " 'i',\n",
       " 'received',\n",
       " 'favorable',\n",
       " 'comments',\n",
       " 'from',\n",
       " 'staff',\n",
       " 'and',\n",
       " 'the',\n",
       " 'management',\n",
       " 'i',\n",
       " 'have',\n",
       " 'only',\n",
       " 'recently',\n",
       " 'moved',\n",
       " 'to',\n",
       " 'this',\n",
       " 'area',\n",
       " 'your',\n",
       " 'institution',\n",
       " 'was',\n",
       " 'brought',\n",
       " 'to',\n",
       " 'my',\n",
       " 'attention',\n",
       " 'by',\n",
       " 'one',\n",
       " 'of',\n",
       " 'my',\n",
       " 'instructors',\n",
       " 'at',\n",
       " 'college',\n",
       " 'who',\n",
       " 'said',\n",
       " 'that',\n",
       " 'you',\n",
       " 'are',\n",
       " 'currently',\n",
       " 'hiring',\n",
       " 'additional',\n",
       " 'staff',\n",
       " 'due',\n",
       " 'to',\n",
       " 'an',\n",
       " 'increase',\n",
       " 'in',\n",
       " 'patient',\n",
       " 'numbers',\n",
       " 'your',\n",
       " 'record',\n",
       " 'of',\n",
       " 'providing',\n",
       " 'quality',\n",
       " 'and',\n",
       " 'timely',\n",
       " 'services',\n",
       " 'to',\n",
       " 'patients',\n",
       " 'makes',\n",
       " 'me',\n",
       " 'desire',\n",
       " 'to',\n",
       " 'be',\n",
       " 'part',\n",
       " 'of',\n",
       " 'your',\n",
       " 'team',\n",
       " 'if',\n",
       " 'there',\n",
       " 'is',\n",
       " 'a',\n",
       " 'suitable',\n",
       " 'vacancy',\n",
       " 'for',\n",
       " 'me',\n",
       " 'please',\n",
       " 'let',\n",
       " 'me',\n",
       " 'know',\n",
       " 'i',\n",
       " 'will',\n",
       " 'be',\n",
       " 'grateful',\n",
       " 'to',\n",
       " 'speak',\n",
       " 'to',\n",
       " 'you',\n",
       " 'at',\n",
       " 'anytime',\n",
       " 'i',\n",
       " 'am',\n",
       " 'enthusiastic',\n",
       " 'about',\n",
       " 'exploring',\n",
       " 'opportunities',\n",
       " 'with',\n",
       " 'your',\n",
       " 'institution',\n",
       " 'and',\n",
       " 'i',\n",
       " 'look',\n",
       " 'forward',\n",
       " 'to',\n",
       " 'meeting',\n",
       " 'you']"
      ]
     },
     "execution_count": 42,
     "metadata": {},
     "output_type": "execute_result"
    }
   ],
   "source": [
    "# getting the word segment\n",
    "import wordsegment\n",
    "from wordsegment import load, segment\n",
    "load()\n",
    "segment(file_content)"
   ]
  },
  {
   "cell_type": "markdown",
   "metadata": {},
   "source": [
    "### Sentence Segementation"
   ]
  },
  {
   "cell_type": "code",
   "execution_count": 43,
   "metadata": {},
   "outputs": [],
   "source": [
    "sentences = nltk.sent_tokenize(file_content)"
   ]
  },
  {
   "cell_type": "code",
   "execution_count": 44,
   "metadata": {},
   "outputs": [
    {
     "data": {
      "text/plain": [
       "['I have recently completed a Bachelorsâ€™s Degree in nursing and I am currently looking for suitable long-term employment.',\n",
       " 'I am a hardworking person with a great personality benchmarked by excellent interpersonal skills which have helped me score great successes in the past.',\n",
       " 'While at college I held several practical exposures at different hospitals, which I received favorable comments from staff and the management.',\n",
       " 'I have only recently moved to this area.',\n",
       " 'Your institution was brought to my attention by one of my instructors at college, who said that you are currently hiring additional staff due to an increase in patient numbers.',\n",
       " 'Your record of providing quality and timely services to patients makes me desire to be part of your team.',\n",
       " 'If there is a suitable vacancy for me, please let me know.',\n",
       " 'I will be grateful to speak to you at any time.',\n",
       " 'I am enthusiastic about exploring opportunities with your institution and I look forward to meeting you.']"
      ]
     },
     "execution_count": 44,
     "metadata": {},
     "output_type": "execute_result"
    }
   ],
   "source": [
    "sentences"
   ]
  },
  {
   "cell_type": "markdown",
   "metadata": {},
   "source": [
    "### Convert to lowercase"
   ]
  },
  {
   "cell_type": "code",
   "execution_count": 46,
   "metadata": {},
   "outputs": [
    {
     "data": {
      "text/plain": [
       "['i',\n",
       " 'have',\n",
       " 'recently',\n",
       " 'completed',\n",
       " 'a',\n",
       " 'bachelorsâ€™s',\n",
       " 'degree',\n",
       " 'in',\n",
       " 'nursing',\n",
       " 'and',\n",
       " 'i',\n",
       " 'am',\n",
       " 'currently',\n",
       " 'looking',\n",
       " 'for',\n",
       " 'suitable',\n",
       " 'long-term',\n",
       " 'employment',\n",
       " '.',\n",
       " 'i',\n",
       " 'am',\n",
       " 'a',\n",
       " 'hardworking',\n",
       " 'person',\n",
       " 'with',\n",
       " 'a',\n",
       " 'great',\n",
       " 'personality',\n",
       " 'benchmarked',\n",
       " 'by',\n",
       " 'excellent',\n",
       " 'interpersonal',\n",
       " 'skills',\n",
       " 'which',\n",
       " 'have',\n",
       " 'helped',\n",
       " 'me',\n",
       " 'score',\n",
       " 'great',\n",
       " 'successes',\n",
       " 'in',\n",
       " 'the',\n",
       " 'past',\n",
       " '.',\n",
       " 'while',\n",
       " 'at',\n",
       " 'college',\n",
       " 'i',\n",
       " 'held',\n",
       " 'several',\n",
       " 'practical',\n",
       " 'exposures',\n",
       " 'at',\n",
       " 'different',\n",
       " 'hospitals',\n",
       " ',',\n",
       " 'which',\n",
       " 'i',\n",
       " 'received',\n",
       " 'favorable',\n",
       " 'comments',\n",
       " 'from',\n",
       " 'staff',\n",
       " 'and',\n",
       " 'the',\n",
       " 'management',\n",
       " '.',\n",
       " 'i',\n",
       " 'have',\n",
       " 'only',\n",
       " 'recently',\n",
       " 'moved',\n",
       " 'to',\n",
       " 'this',\n",
       " 'area',\n",
       " '.',\n",
       " 'your',\n",
       " 'institution',\n",
       " 'was',\n",
       " 'brought',\n",
       " 'to',\n",
       " 'my',\n",
       " 'attention',\n",
       " 'by',\n",
       " 'one',\n",
       " 'of',\n",
       " 'my',\n",
       " 'instructors',\n",
       " 'at',\n",
       " 'college',\n",
       " ',',\n",
       " 'who',\n",
       " 'said',\n",
       " 'that',\n",
       " 'you',\n",
       " 'are',\n",
       " 'currently',\n",
       " 'hiring',\n",
       " 'additional',\n",
       " 'staff',\n",
       " 'due',\n",
       " 'to',\n",
       " 'an',\n",
       " 'increase',\n",
       " 'in',\n",
       " 'patient',\n",
       " 'numbers',\n",
       " '.',\n",
       " 'your',\n",
       " 'record',\n",
       " 'of',\n",
       " 'providing',\n",
       " 'quality',\n",
       " 'and',\n",
       " 'timely',\n",
       " 'services',\n",
       " 'to',\n",
       " 'patients',\n",
       " 'makes',\n",
       " 'me',\n",
       " 'desire',\n",
       " 'to',\n",
       " 'be',\n",
       " 'part',\n",
       " 'of',\n",
       " 'your',\n",
       " 'team',\n",
       " '.',\n",
       " 'if',\n",
       " 'there',\n",
       " 'is',\n",
       " 'a',\n",
       " 'suitable',\n",
       " 'vacancy',\n",
       " 'for',\n",
       " 'me',\n",
       " ',',\n",
       " 'please',\n",
       " 'let',\n",
       " 'me',\n",
       " 'know',\n",
       " '.',\n",
       " 'i',\n",
       " 'will',\n",
       " 'be',\n",
       " 'grateful',\n",
       " 'to',\n",
       " 'speak',\n",
       " 'to',\n",
       " 'you',\n",
       " 'at',\n",
       " 'any',\n",
       " 'time',\n",
       " '.',\n",
       " 'i',\n",
       " 'am',\n",
       " 'enthusiastic',\n",
       " 'about',\n",
       " 'exploring',\n",
       " 'opportunities',\n",
       " 'with',\n",
       " 'your',\n",
       " 'institution',\n",
       " 'and',\n",
       " 'i',\n",
       " 'look',\n",
       " 'forward',\n",
       " 'to',\n",
       " 'meeting',\n",
       " 'you',\n",
       " '.']"
      ]
     },
     "execution_count": 46,
     "metadata": {},
     "output_type": "execute_result"
    }
   ],
   "source": [
    "lower_tokens = [token.lower() for token in tokens]\n",
    "lower_tokens"
   ]
  },
  {
   "cell_type": "markdown",
   "metadata": {},
   "source": [
    "### •\tStop words removal"
   ]
  },
  {
   "cell_type": "code",
   "execution_count": 52,
   "metadata": {},
   "outputs": [
    {
     "name": "stdout",
     "output_type": "stream",
     "text": [
      "{'these', \"mustn't\", 'her', 'having', 'to', 'being', \"didn't\", 'my', 'whom', \"you're\", 'theirs', 'down', 're', 'your', 'y', \"shan't\", 'above', 'our', \"wasn't\", 'into', 'during', 'mustn', 'if', 'shan', \"wouldn't\", 'at', 'it', 'after', 'because', 'mightn', \"couldn't\", 'when', 'him', 'do', \"should've\", 'nor', 'again', 'themselves', 'and', 'very', 't', 'below', 'that', 'with', 'then', 'each', 'am', \"it's\", 'the', 'too', 'what', 'why', 'o', 'up', 'yourselves', 'was', 'aren', \"weren't\", 'few', 's', \"hadn't\", 'so', 'should', 'hers', 'me', 'hasn', 'can', 'will', 'some', 'ma', 'how', 'is', \"shouldn't\", 'both', 'no', 'which', \"that'll\", 'under', 'd', 'those', 'doing', 'wasn', \"you'll\", 'about', 'or', 'through', 'its', 'them', 'just', 'his', 'for', 'only', 'while', 'own', 'a', 'by', 'against', 'any', 'didn', 'there', 'hadn', 'they', 'same', \"won't\", 'were', 'itself', 'don', 'needn', 'but', 'ain', 'haven', 'of', 'won', 'did', \"hasn't\", 'more', \"mightn't\", 'wouldn', 'once', 'other', 'now', 'does', 'from', 'in', 'are', 'before', 'yours', 'm', 'myself', 'an', 'most', \"doesn't\", 'have', \"you'd\", 'i', 'be', 'herself', 'yourself', 'as', 'such', 'here', 'has', \"she's\", \"aren't\", \"needn't\", 'he', 'doesn', 'this', 'shouldn', \"haven't\", 'who', 'been', 'over', 'himself', 'ourselves', 'not', \"don't\", 'out', 'on', 'where', 'between', 'had', 'until', 'all', 'than', 'she', 've', \"isn't\", 'll', 'further', 'we', 'weren', \"you've\", 'you', 'their', 'isn', 'couldn', 'ours', 'off'}\n"
     ]
    }
   ],
   "source": [
    "from nltk.corpus import stopwords\n",
    "stop_words = set(stopwords.words('english'))\n",
    "print(stop_words)"
   ]
  },
  {
   "cell_type": "code",
   "execution_count": 53,
   "metadata": {},
   "outputs": [
    {
     "name": "stdout",
     "output_type": "stream",
     "text": [
      "['recently', 'completed', 'bachelorsâ€™s', 'degree', 'nursing', 'currently', 'looking', 'suitable', 'long-term', 'employment', '.', 'hardworking', 'person', 'great', 'personality', 'benchmarked', 'excellent', 'interpersonal', 'skills', 'helped', 'score', 'great', 'successes', 'past', '.', 'college', 'held', 'several', 'practical', 'exposures', 'different', 'hospitals', ',', 'received', 'favorable', 'comments', 'staff', 'management', '.', 'recently', 'moved', 'area', '.', 'institution', 'brought', 'attention', 'one', 'instructors', 'college', ',', 'said', 'currently', 'hiring', 'additional', 'staff', 'due', 'increase', 'patient', 'numbers', '.', 'record', 'providing', 'quality', 'timely', 'services', 'patients', 'makes', 'desire', 'part', 'team', '.', 'suitable', 'vacancy', ',', 'please', 'let', 'know', '.', 'grateful', 'speak', 'time', '.', 'enthusiastic', 'exploring', 'opportunities', 'institution', 'look', 'forward', 'meeting', '.']\n"
     ]
    }
   ],
   "source": [
    "filtered_sentence = [w for w in tokens if not w.lower() in stop_words]\n",
    "  \n",
    "filtered_sentence = []\n",
    "for w in lower_tokens:\n",
    "    if w not in stop_words:\n",
    "        filtered_sentence.append(w)\n",
    "\n",
    "print(filtered_sentence)"
   ]
  },
  {
   "cell_type": "markdown",
   "metadata": {},
   "source": [
    "### Stemming"
   ]
  },
  {
   "cell_type": "code",
   "execution_count": 54,
   "metadata": {},
   "outputs": [
    {
     "name": "stdout",
     "output_type": "stream",
     "text": [
      "recently  :  recent\n",
      "completed  :  complet\n",
      "bachelorsâ€™s  :  bachelorsâ€™\n",
      "degree  :  degre\n",
      "nursing  :  nurs\n",
      "currently  :  current\n",
      "looking  :  look\n",
      "suitable  :  suitabl\n",
      "long-term  :  long-term\n",
      "employment  :  employ\n",
      ".  :  .\n",
      "hardworking  :  hardwork\n",
      "person  :  person\n",
      "great  :  great\n",
      "personality  :  person\n",
      "benchmarked  :  benchmark\n",
      "excellent  :  excel\n",
      "interpersonal  :  interperson\n",
      "skills  :  skill\n",
      "helped  :  help\n",
      "score  :  score\n",
      "great  :  great\n",
      "successes  :  success\n",
      "past  :  past\n",
      ".  :  .\n",
      "college  :  colleg\n",
      "held  :  held\n",
      "several  :  sever\n",
      "practical  :  practic\n",
      "exposures  :  exposur\n",
      "different  :  differ\n",
      "hospitals  :  hospit\n",
      ",  :  ,\n",
      "received  :  receiv\n",
      "favorable  :  favor\n",
      "comments  :  comment\n",
      "staff  :  staff\n",
      "management  :  manag\n",
      ".  :  .\n",
      "recently  :  recent\n",
      "moved  :  move\n",
      "area  :  area\n",
      ".  :  .\n",
      "institution  :  institut\n",
      "brought  :  brought\n",
      "attention  :  attent\n",
      "one  :  one\n",
      "instructors  :  instructor\n",
      "college  :  colleg\n",
      ",  :  ,\n",
      "said  :  said\n",
      "currently  :  current\n",
      "hiring  :  hire\n",
      "additional  :  addit\n",
      "staff  :  staff\n",
      "due  :  due\n",
      "increase  :  increas\n",
      "patient  :  patient\n",
      "numbers  :  number\n",
      ".  :  .\n",
      "record  :  record\n",
      "providing  :  provid\n",
      "quality  :  qualiti\n",
      "timely  :  time\n",
      "services  :  servic\n",
      "patients  :  patient\n",
      "makes  :  make\n",
      "desire  :  desir\n",
      "part  :  part\n",
      "team  :  team\n",
      ".  :  .\n",
      "suitable  :  suitabl\n",
      "vacancy  :  vacanc\n",
      ",  :  ,\n",
      "please  :  pleas\n",
      "let  :  let\n",
      "know  :  know\n",
      ".  :  .\n",
      "grateful  :  grate\n",
      "speak  :  speak\n",
      "time  :  time\n",
      ".  :  .\n",
      "enthusiastic  :  enthusiast\n",
      "exploring  :  explor\n",
      "opportunities  :  opportun\n",
      "institution  :  institut\n",
      "look  :  look\n",
      "forward  :  forward\n",
      "meeting  :  meet\n",
      ".  :  .\n"
     ]
    }
   ],
   "source": [
    "from nltk.stem import PorterStemmer\n",
    "ps = PorterStemmer()\n",
    "\n",
    "# getting the stem words from the list of filtered words\n",
    "for w in filtered_sentence:\n",
    "    print(w, \" : \", ps.stem(w))"
   ]
  },
  {
   "cell_type": "markdown",
   "metadata": {},
   "source": [
    "### Lemmatization"
   ]
  },
  {
   "cell_type": "code",
   "execution_count": 65,
   "metadata": {},
   "outputs": [
    {
     "name": "stdout",
     "output_type": "stream",
     "text": [
      "recently  :  recently\n",
      "completed  :  completed\n",
      "bachelorsâ€™s  :  bachelorsâ€™s\n",
      "degree  :  degree\n",
      "nursing  :  nursing\n",
      "currently  :  currently\n",
      "looking  :  looking\n",
      "suitable  :  suitable\n",
      "long-term  :  long-term\n",
      "employment  :  employment\n",
      ".  :  .\n",
      "hardworking  :  hardworking\n",
      "person  :  person\n",
      "great  :  great\n",
      "personality  :  personality\n",
      "benchmarked  :  benchmarked\n",
      "excellent  :  excellent\n",
      "interpersonal  :  interpersonal\n",
      "skills  :  skill\n",
      "helped  :  helped\n",
      "score  :  score\n",
      "great  :  great\n",
      "successes  :  success\n",
      "past  :  past\n",
      ".  :  .\n",
      "college  :  college\n",
      "held  :  held\n",
      "several  :  several\n",
      "practical  :  practical\n",
      "exposures  :  exposure\n",
      "different  :  different\n",
      "hospitals  :  hospital\n",
      ",  :  ,\n",
      "received  :  received\n",
      "favorable  :  favorable\n",
      "comments  :  comment\n",
      "staff  :  staff\n",
      "management  :  management\n",
      ".  :  .\n",
      "recently  :  recently\n",
      "moved  :  moved\n",
      "area  :  area\n",
      ".  :  .\n",
      "institution  :  institution\n",
      "brought  :  brought\n",
      "attention  :  attention\n",
      "one  :  one\n",
      "instructors  :  instructor\n",
      "college  :  college\n",
      ",  :  ,\n",
      "said  :  said\n",
      "currently  :  currently\n",
      "hiring  :  hiring\n",
      "additional  :  additional\n",
      "staff  :  staff\n",
      "due  :  due\n",
      "increase  :  increase\n",
      "patient  :  patient\n",
      "numbers  :  number\n",
      ".  :  .\n",
      "record  :  record\n",
      "providing  :  providing\n",
      "quality  :  quality\n",
      "timely  :  timely\n",
      "services  :  service\n",
      "patients  :  patient\n",
      "makes  :  make\n",
      "desire  :  desire\n",
      "part  :  part\n",
      "team  :  team\n",
      ".  :  .\n",
      "suitable  :  suitable\n",
      "vacancy  :  vacancy\n",
      ",  :  ,\n",
      "please  :  please\n",
      "let  :  let\n",
      "know  :  know\n",
      ".  :  .\n",
      "grateful  :  grateful\n",
      "speak  :  speak\n",
      "time  :  time\n",
      ".  :  .\n",
      "enthusiastic  :  enthusiastic\n",
      "exploring  :  exploring\n",
      "opportunities  :  opportunity\n",
      "institution  :  institution\n",
      "look  :  look\n",
      "forward  :  forward\n",
      "meeting  :  meeting\n",
      ".  :  .\n"
     ]
    }
   ],
   "source": [
    "from nltk.stem import WordNetLemmatizer\n",
    "lemmatizer = WordNetLemmatizer()\n",
    "\n",
    "for w in filtered_sentence:\n",
    "    print(w, \" : \", lemmatizer.lemmatize(w))"
   ]
  },
  {
   "cell_type": "markdown",
   "metadata": {},
   "source": [
    "### POS tagging"
   ]
  },
  {
   "cell_type": "code",
   "execution_count": 66,
   "metadata": {},
   "outputs": [
    {
     "name": "stdout",
     "output_type": "stream",
     "text": [
      "[('recently', 'RB')]\n",
      "[('completed', 'VBN')]\n",
      "[('bachelorsâ€™s', 'NN')]\n",
      "[('degree', 'NN')]\n",
      "[('nursing', 'NN')]\n",
      "[('currently', 'RB')]\n",
      "[('looking', 'VBG')]\n",
      "[('suitable', 'JJ')]\n",
      "[('long-term', 'JJ')]\n",
      "[('employment', 'NN')]\n",
      "[('.', '.')]\n",
      "[('hardworking', 'VBG')]\n",
      "[('person', 'NN')]\n",
      "[('great', 'JJ')]\n",
      "[('personality', 'NN')]\n",
      "[('benchmarked', 'VBN')]\n",
      "[('excellent', 'NN')]\n",
      "[('interpersonal', 'JJ')]\n",
      "[('skills', 'NNS')]\n",
      "[('helped', 'VBD')]\n",
      "[('score', 'NN')]\n",
      "[('great', 'JJ')]\n",
      "[('successes', 'NNS')]\n",
      "[('past', 'NN')]\n",
      "[('.', '.')]\n",
      "[('college', 'NN')]\n",
      "[('held', 'NN')]\n",
      "[('several', 'JJ')]\n",
      "[('practical', 'JJ')]\n",
      "[('exposures', 'NNS')]\n",
      "[('different', 'JJ')]\n",
      "[('hospitals', 'NNS')]\n",
      "[(',', ',')]\n",
      "[('received', 'VBN')]\n",
      "[('favorable', 'JJ')]\n",
      "[('comments', 'NNS')]\n",
      "[('staff', 'NN')]\n",
      "[('management', 'NN')]\n",
      "[('.', '.')]\n",
      "[('recently', 'RB')]\n",
      "[('moved', 'VBN')]\n",
      "[('area', 'NN')]\n",
      "[('.', '.')]\n",
      "[('institution', 'NN')]\n",
      "[('brought', 'NN')]\n",
      "[('attention', 'NN')]\n",
      "[('one', 'CD')]\n",
      "[('instructors', 'NNS')]\n",
      "[('college', 'NN')]\n",
      "[(',', ',')]\n",
      "[('said', 'VBD')]\n",
      "[('currently', 'RB')]\n",
      "[('hiring', 'VBG')]\n",
      "[('additional', 'JJ')]\n",
      "[('staff', 'NN')]\n",
      "[('due', 'JJ')]\n",
      "[('increase', 'NN')]\n",
      "[('patient', 'NN')]\n",
      "[('numbers', 'NNS')]\n",
      "[('.', '.')]\n",
      "[('record', 'NN')]\n",
      "[('providing', 'VBG')]\n",
      "[('quality', 'NN')]\n",
      "[('timely', 'RB')]\n",
      "[('services', 'NNS')]\n",
      "[('patients', 'NNS')]\n",
      "[('makes', 'VBZ')]\n",
      "[('desire', 'NN')]\n",
      "[('part', 'NN')]\n",
      "[('team', 'NN')]\n",
      "[('.', '.')]\n",
      "[('suitable', 'JJ')]\n",
      "[('vacancy', 'NN')]\n",
      "[(',', ',')]\n",
      "[('please', 'NN')]\n",
      "[('let', 'VB')]\n",
      "[('know', 'VB')]\n",
      "[('.', '.')]\n",
      "[('grateful', 'NN')]\n",
      "[('speak', 'NN')]\n",
      "[('time', 'NN')]\n",
      "[('.', '.')]\n",
      "[('enthusiastic', 'JJ')]\n",
      "[('exploring', 'VBG')]\n",
      "[('opportunities', 'NNS')]\n",
      "[('institution', 'NN')]\n",
      "[('look', 'NN')]\n",
      "[('forward', 'RB')]\n",
      "[('meeting', 'NN')]\n",
      "[('.', '.')]\n"
     ]
    }
   ],
   "source": [
    "for sent in filtered_sentence:\n",
    "    print(nltk.pos_tag(nltk.word_tokenize(sent)))"
   ]
  },
  {
   "cell_type": "code",
   "execution_count": null,
   "metadata": {},
   "outputs": [],
   "source": []
  }
 ],
 "metadata": {
  "kernelspec": {
   "display_name": "Python 3",
   "language": "python",
   "name": "python3"
  },
  "language_info": {
   "codemirror_mode": {
    "name": "ipython",
    "version": 3
   },
   "file_extension": ".py",
   "mimetype": "text/x-python",
   "name": "python",
   "nbconvert_exporter": "python",
   "pygments_lexer": "ipython3",
   "version": "3.9.0"
  }
 },
 "nbformat": 4,
 "nbformat_minor": 4
}
